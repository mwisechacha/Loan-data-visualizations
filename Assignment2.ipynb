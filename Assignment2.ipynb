{
  "cells": [
    {
      "cell_type": "markdown",
      "metadata": {
        "id": "YhvFUZNvLBbF"
      },
      "source": [
        "### Assignment: A\n",
        "1. What are the 2 widely used libraries for data visualization?\n",
        "      - Matplotlib\n",
        "      - Seaborn\n",
        "2. List 3 advantages of each?\n",
        "    * Matplotlib\n",
        "      - has a large active community hence a lot of resources such as tutorials and documentations have been made available online by the developers\n",
        "      - it is very flexible since it allows users to include different styles, markers and create almost any plot they want\n",
        "\n",
        "    * Seaborn\n",
        "      - specializes on statistical visualizations and well suited for exploring complex datasets\n",
        "      - allows straightforward data representation on plots and attractive aesthetics"
      ]
    },
    {
      "cell_type": "markdown",
      "metadata": {
        "id": "Stuz7jKJLZiO"
      },
      "source": [
        "### Types of plots to consider today:\n",
        "1. Line chart\n",
        "2. Scatter plot\n",
        "3. Bar chart\n",
        "4. Histogram\n",
        "5. Heatmap\n",
        "6. Pie chart\n",
        "7. Countplot\n",
        "\n",
        "### Assignment: B\n",
        "1. Explore plotly library and replicate the above plots"
      ]
    },
    {
      "cell_type": "code",
      "execution_count": 3,
      "metadata": {
        "id": "d1tQn_KDK7qD"
      },
      "outputs": [],
      "source": [
        "# import the necessary libraries\n",
        "import pandas as pd\n",
        "import numpy as np\n",
        "import matplotlib.pyplot as plt\n",
        "import seaborn as sns\n",
        "%matplotlib inline"
      ]
    },
    {
      "cell_type": "code",
      "execution_count": 4,
      "metadata": {
        "colab": {
          "base_uri": "https://localhost:8080/",
          "height": 206
        },
        "id": "oHuy6YNUL0Xy",
        "outputId": "99552326-0a21-4e1b-fff1-3d00e7e60cbd"
      },
      "outputs": [
        {
          "data": {
            "text/html": [
              "<div>\n",
              "<style scoped>\n",
              "    .dataframe tbody tr th:only-of-type {\n",
              "        vertical-align: middle;\n",
              "    }\n",
              "\n",
              "    .dataframe tbody tr th {\n",
              "        vertical-align: top;\n",
              "    }\n",
              "\n",
              "    .dataframe thead th {\n",
              "        text-align: right;\n",
              "    }\n",
              "</style>\n",
              "<table border=\"1\" class=\"dataframe\">\n",
              "  <thead>\n",
              "    <tr style=\"text-align: right;\">\n",
              "      <th></th>\n",
              "      <th>Loan_ID</th>\n",
              "      <th>loan_status</th>\n",
              "      <th>Principal</th>\n",
              "      <th>terms</th>\n",
              "      <th>effective_date</th>\n",
              "      <th>due_date</th>\n",
              "      <th>paid_off_time</th>\n",
              "      <th>past_due_days</th>\n",
              "      <th>age</th>\n",
              "      <th>education</th>\n",
              "      <th>Gender</th>\n",
              "    </tr>\n",
              "  </thead>\n",
              "  <tbody>\n",
              "    <tr>\n",
              "      <th>0</th>\n",
              "      <td>xqd20166231</td>\n",
              "      <td>PAIDOFF</td>\n",
              "      <td>1000</td>\n",
              "      <td>30</td>\n",
              "      <td>2016-09-08</td>\n",
              "      <td>2016-10-07</td>\n",
              "      <td>2016-09-14 19:31:00</td>\n",
              "      <td>NaN</td>\n",
              "      <td>45</td>\n",
              "      <td>High School or Below</td>\n",
              "      <td>male</td>\n",
              "    </tr>\n",
              "    <tr>\n",
              "      <th>1</th>\n",
              "      <td>xqd20168902</td>\n",
              "      <td>PAIDOFF</td>\n",
              "      <td>1000</td>\n",
              "      <td>30</td>\n",
              "      <td>2016-09-08</td>\n",
              "      <td>2016-10-07</td>\n",
              "      <td>2016-10-07 09:00:00</td>\n",
              "      <td>NaN</td>\n",
              "      <td>50</td>\n",
              "      <td>Bechalor</td>\n",
              "      <td>female</td>\n",
              "    </tr>\n",
              "    <tr>\n",
              "      <th>2</th>\n",
              "      <td>xqd20160003</td>\n",
              "      <td>PAIDOFF</td>\n",
              "      <td>1000</td>\n",
              "      <td>30</td>\n",
              "      <td>2016-09-08</td>\n",
              "      <td>2016-10-07</td>\n",
              "      <td>2016-09-25 16:58:00</td>\n",
              "      <td>NaN</td>\n",
              "      <td>33</td>\n",
              "      <td>Bechalor</td>\n",
              "      <td>female</td>\n",
              "    </tr>\n",
              "    <tr>\n",
              "      <th>3</th>\n",
              "      <td>xqd20160004</td>\n",
              "      <td>PAIDOFF</td>\n",
              "      <td>1000</td>\n",
              "      <td>15</td>\n",
              "      <td>2016-09-08</td>\n",
              "      <td>2016-09-22</td>\n",
              "      <td>2016-09-22 20:00:00</td>\n",
              "      <td>NaN</td>\n",
              "      <td>27</td>\n",
              "      <td>college</td>\n",
              "      <td>male</td>\n",
              "    </tr>\n",
              "    <tr>\n",
              "      <th>4</th>\n",
              "      <td>xqd20160005</td>\n",
              "      <td>PAIDOFF</td>\n",
              "      <td>1000</td>\n",
              "      <td>30</td>\n",
              "      <td>2016-09-09</td>\n",
              "      <td>2016-10-08</td>\n",
              "      <td>2016-09-23 21:36:00</td>\n",
              "      <td>NaN</td>\n",
              "      <td>28</td>\n",
              "      <td>college</td>\n",
              "      <td>female</td>\n",
              "    </tr>\n",
              "  </tbody>\n",
              "</table>\n",
              "</div>"
            ],
            "text/plain": [
              "       Loan_ID loan_status  Principal  terms effective_date   due_date  \\\n",
              "0  xqd20166231     PAIDOFF       1000     30     2016-09-08 2016-10-07   \n",
              "1  xqd20168902     PAIDOFF       1000     30     2016-09-08 2016-10-07   \n",
              "2  xqd20160003     PAIDOFF       1000     30     2016-09-08 2016-10-07   \n",
              "3  xqd20160004     PAIDOFF       1000     15     2016-09-08 2016-09-22   \n",
              "4  xqd20160005     PAIDOFF       1000     30     2016-09-09 2016-10-08   \n",
              "\n",
              "        paid_off_time  past_due_days  age             education  Gender  \n",
              "0 2016-09-14 19:31:00            NaN   45  High School or Below    male  \n",
              "1 2016-10-07 09:00:00            NaN   50              Bechalor  female  \n",
              "2 2016-09-25 16:58:00            NaN   33              Bechalor  female  \n",
              "3 2016-09-22 20:00:00            NaN   27               college    male  \n",
              "4 2016-09-23 21:36:00            NaN   28               college  female  "
            ]
          },
          "execution_count": 4,
          "metadata": {},
          "output_type": "execute_result"
        }
      ],
      "source": [
        "df = pd.read_csv(\"Loan payments data.csv\",\n",
        "                 parse_dates=['effective_date', 'due_date', 'paid_off_time'])\n",
        "df.head(5)"
      ]
    },
    {
      "cell_type": "code",
      "execution_count": 4,
      "metadata": {
        "colab": {
          "base_uri": "https://localhost:8080/"
        },
        "id": "rGRITZCtIFJC",
        "outputId": "f49735e7-4634-4475-cc9a-b05485c2d274"
      },
      "outputs": [
        {
          "data": {
            "text/plain": [
              "(500, 11)"
            ]
          },
          "execution_count": 4,
          "metadata": {},
          "output_type": "execute_result"
        }
      ],
      "source": [
        "df.shape"
      ]
    },
    {
      "cell_type": "code",
      "execution_count": 5,
      "metadata": {
        "colab": {
          "base_uri": "https://localhost:8080/"
        },
        "id": "--ZkI25rIJZ3",
        "outputId": "7ad911c9-0051-4054-870d-05bfe9d8046d"
      },
      "outputs": [
        {
          "name": "stdout",
          "output_type": "stream",
          "text": [
            "<class 'pandas.core.frame.DataFrame'>\n",
            "RangeIndex: 500 entries, 0 to 499\n",
            "Data columns (total 11 columns):\n",
            " #   Column          Non-Null Count  Dtype  \n",
            "---  ------          --------------  -----  \n",
            " 0   Loan_ID         500 non-null    object \n",
            " 1   loan_status     500 non-null    object \n",
            " 2   Principal       500 non-null    int64  \n",
            " 3   terms           500 non-null    int64  \n",
            " 4   effective_date  500 non-null    object \n",
            " 5   due_date        500 non-null    object \n",
            " 6   paid_off_time   400 non-null    object \n",
            " 7   past_due_days   200 non-null    float64\n",
            " 8   age             500 non-null    int64  \n",
            " 9   education       500 non-null    object \n",
            " 10  Gender          500 non-null    object \n",
            "dtypes: float64(1), int64(3), object(7)\n",
            "memory usage: 43.1+ KB\n"
          ]
        }
      ],
      "source": [
        "df.info()"
      ]
    },
    {
      "cell_type": "markdown",
      "metadata": {},
      "source": [
        "### Checking and removing missing values"
      ]
    },
    {
      "cell_type": "code",
      "execution_count": 6,
      "metadata": {
        "colab": {
          "base_uri": "https://localhost:8080/"
        },
        "id": "NiSR_XdhINOn",
        "outputId": "11936234-a642-46fc-c203-1c5d8e6da18d"
      },
      "outputs": [
        {
          "data": {
            "text/plain": [
              "Loan_ID             0\n",
              "loan_status         0\n",
              "Principal           0\n",
              "terms               0\n",
              "effective_date      0\n",
              "due_date            0\n",
              "paid_off_time     100\n",
              "past_due_days     300\n",
              "age                 0\n",
              "education           0\n",
              "Gender              0\n",
              "dtype: int64"
            ]
          },
          "execution_count": 6,
          "metadata": {},
          "output_type": "execute_result"
        }
      ],
      "source": [
        "# checking for missing values\n",
        "df.isnull().sum()"
      ]
    },
    {
      "cell_type": "code",
      "execution_count": 7,
      "metadata": {
        "id": "_7Vdv9L9IZQm"
      },
      "outputs": [],
      "source": [
        "# replacing missing values with 0s\n",
        "df['paid_off_time'] = df['paid_off_time'].fillna(0)\n",
        "df['past_due_days'] = df['past_due_days'].fillna(0)"
      ]
    },
    {
      "cell_type": "code",
      "execution_count": 8,
      "metadata": {},
      "outputs": [
        {
          "data": {
            "text/plain": [
              "Loan_ID           0\n",
              "loan_status       0\n",
              "Principal         0\n",
              "terms             0\n",
              "effective_date    0\n",
              "due_date          0\n",
              "paid_off_time     0\n",
              "past_due_days     0\n",
              "age               0\n",
              "education         0\n",
              "Gender            0\n",
              "dtype: int64"
            ]
          },
          "execution_count": 8,
          "metadata": {},
          "output_type": "execute_result"
        }
      ],
      "source": [
        "df.isnull().sum()"
      ]
    },
    {
      "cell_type": "markdown",
      "metadata": {
        "id": "MN-tAnfGMQom"
      },
      "source": [
        "### 1. Line chart"
      ]
    },
    {
      "cell_type": "markdown",
      "metadata": {},
      "source": [
        "### Visualizing the time series data using line charts"
      ]
    },
    {
      "cell_type": "code",
      "execution_count": 6,
      "metadata": {},
      "outputs": [
        {
          "data": {
            "text/html": [
              "<div>\n",
              "<style scoped>\n",
              "    .dataframe tbody tr th:only-of-type {\n",
              "        vertical-align: middle;\n",
              "    }\n",
              "\n",
              "    .dataframe tbody tr th {\n",
              "        vertical-align: top;\n",
              "    }\n",
              "\n",
              "    .dataframe thead th {\n",
              "        text-align: right;\n",
              "    }\n",
              "</style>\n",
              "<table border=\"1\" class=\"dataframe\">\n",
              "  <thead>\n",
              "    <tr style=\"text-align: right;\">\n",
              "      <th></th>\n",
              "      <th>Loan_ID</th>\n",
              "      <th>loan_status</th>\n",
              "      <th>Principal</th>\n",
              "      <th>terms</th>\n",
              "      <th>effective_date</th>\n",
              "      <th>due_date</th>\n",
              "      <th>paid_off_time</th>\n",
              "      <th>past_due_days</th>\n",
              "      <th>age</th>\n",
              "      <th>education</th>\n",
              "      <th>Gender</th>\n",
              "    </tr>\n",
              "  </thead>\n",
              "  <tbody>\n",
              "    <tr>\n",
              "      <th>0</th>\n",
              "      <td>xqd20166231</td>\n",
              "      <td>PAIDOFF</td>\n",
              "      <td>1000</td>\n",
              "      <td>30</td>\n",
              "      <td>9/8/2016</td>\n",
              "      <td>10/7/2016</td>\n",
              "      <td>9/14/2016 19:31</td>\n",
              "      <td>0.0</td>\n",
              "      <td>45</td>\n",
              "      <td>High School or Below</td>\n",
              "      <td>male</td>\n",
              "    </tr>\n",
              "    <tr>\n",
              "      <th>1</th>\n",
              "      <td>xqd20168902</td>\n",
              "      <td>PAIDOFF</td>\n",
              "      <td>1000</td>\n",
              "      <td>30</td>\n",
              "      <td>9/8/2016</td>\n",
              "      <td>10/7/2016</td>\n",
              "      <td>10/7/2016 9:00</td>\n",
              "      <td>0.0</td>\n",
              "      <td>50</td>\n",
              "      <td>Bechalor</td>\n",
              "      <td>female</td>\n",
              "    </tr>\n",
              "    <tr>\n",
              "      <th>2</th>\n",
              "      <td>xqd20160003</td>\n",
              "      <td>PAIDOFF</td>\n",
              "      <td>1000</td>\n",
              "      <td>30</td>\n",
              "      <td>9/8/2016</td>\n",
              "      <td>10/7/2016</td>\n",
              "      <td>9/25/2016 16:58</td>\n",
              "      <td>0.0</td>\n",
              "      <td>33</td>\n",
              "      <td>Bechalor</td>\n",
              "      <td>female</td>\n",
              "    </tr>\n",
              "    <tr>\n",
              "      <th>3</th>\n",
              "      <td>xqd20160004</td>\n",
              "      <td>PAIDOFF</td>\n",
              "      <td>1000</td>\n",
              "      <td>15</td>\n",
              "      <td>9/8/2016</td>\n",
              "      <td>9/22/2016</td>\n",
              "      <td>9/22/2016 20:00</td>\n",
              "      <td>0.0</td>\n",
              "      <td>27</td>\n",
              "      <td>college</td>\n",
              "      <td>male</td>\n",
              "    </tr>\n",
              "    <tr>\n",
              "      <th>4</th>\n",
              "      <td>xqd20160005</td>\n",
              "      <td>PAIDOFF</td>\n",
              "      <td>1000</td>\n",
              "      <td>30</td>\n",
              "      <td>9/9/2016</td>\n",
              "      <td>10/8/2016</td>\n",
              "      <td>9/23/2016 21:36</td>\n",
              "      <td>0.0</td>\n",
              "      <td>28</td>\n",
              "      <td>college</td>\n",
              "      <td>female</td>\n",
              "    </tr>\n",
              "    <tr>\n",
              "      <th>5</th>\n",
              "      <td>xqd20160706</td>\n",
              "      <td>PAIDOFF</td>\n",
              "      <td>300</td>\n",
              "      <td>7</td>\n",
              "      <td>9/9/2016</td>\n",
              "      <td>9/15/2016</td>\n",
              "      <td>9/9/2016 13:45</td>\n",
              "      <td>0.0</td>\n",
              "      <td>35</td>\n",
              "      <td>Master or Above</td>\n",
              "      <td>male</td>\n",
              "    </tr>\n",
              "    <tr>\n",
              "      <th>6</th>\n",
              "      <td>xqd20160007</td>\n",
              "      <td>PAIDOFF</td>\n",
              "      <td>1000</td>\n",
              "      <td>30</td>\n",
              "      <td>9/9/2016</td>\n",
              "      <td>10/8/2016</td>\n",
              "      <td>10/7/2016 23:07</td>\n",
              "      <td>0.0</td>\n",
              "      <td>29</td>\n",
              "      <td>college</td>\n",
              "      <td>male</td>\n",
              "    </tr>\n",
              "    <tr>\n",
              "      <th>7</th>\n",
              "      <td>xqd20160008</td>\n",
              "      <td>PAIDOFF</td>\n",
              "      <td>1000</td>\n",
              "      <td>30</td>\n",
              "      <td>9/9/2016</td>\n",
              "      <td>10/8/2016</td>\n",
              "      <td>10/5/2016 20:33</td>\n",
              "      <td>0.0</td>\n",
              "      <td>36</td>\n",
              "      <td>college</td>\n",
              "      <td>male</td>\n",
              "    </tr>\n",
              "    <tr>\n",
              "      <th>8</th>\n",
              "      <td>xqd20160909</td>\n",
              "      <td>PAIDOFF</td>\n",
              "      <td>1000</td>\n",
              "      <td>30</td>\n",
              "      <td>9/9/2016</td>\n",
              "      <td>10/8/2016</td>\n",
              "      <td>10/8/2016 16:00</td>\n",
              "      <td>0.0</td>\n",
              "      <td>28</td>\n",
              "      <td>college</td>\n",
              "      <td>male</td>\n",
              "    </tr>\n",
              "    <tr>\n",
              "      <th>9</th>\n",
              "      <td>xqd20160010</td>\n",
              "      <td>PAIDOFF</td>\n",
              "      <td>800</td>\n",
              "      <td>15</td>\n",
              "      <td>9/10/2016</td>\n",
              "      <td>9/24/2016</td>\n",
              "      <td>9/24/2016 13:00</td>\n",
              "      <td>0.0</td>\n",
              "      <td>26</td>\n",
              "      <td>college</td>\n",
              "      <td>male</td>\n",
              "    </tr>\n",
              "    <tr>\n",
              "      <th>10</th>\n",
              "      <td>xqd20160011</td>\n",
              "      <td>PAIDOFF</td>\n",
              "      <td>300</td>\n",
              "      <td>7</td>\n",
              "      <td>9/10/2016</td>\n",
              "      <td>9/16/2016</td>\n",
              "      <td>9/11/2016 19:11</td>\n",
              "      <td>0.0</td>\n",
              "      <td>29</td>\n",
              "      <td>college</td>\n",
              "      <td>male</td>\n",
              "    </tr>\n",
              "    <tr>\n",
              "      <th>11</th>\n",
              "      <td>xqd20160012</td>\n",
              "      <td>PAIDOFF</td>\n",
              "      <td>1000</td>\n",
              "      <td>15</td>\n",
              "      <td>9/10/2016</td>\n",
              "      <td>10/9/2016</td>\n",
              "      <td>10/9/2016 16:00</td>\n",
              "      <td>0.0</td>\n",
              "      <td>39</td>\n",
              "      <td>High School or Below</td>\n",
              "      <td>male</td>\n",
              "    </tr>\n",
              "    <tr>\n",
              "      <th>12</th>\n",
              "      <td>xqd20160013</td>\n",
              "      <td>PAIDOFF</td>\n",
              "      <td>1000</td>\n",
              "      <td>30</td>\n",
              "      <td>9/10/2016</td>\n",
              "      <td>10/9/2016</td>\n",
              "      <td>10/7/2016 23:32</td>\n",
              "      <td>0.0</td>\n",
              "      <td>26</td>\n",
              "      <td>college</td>\n",
              "      <td>male</td>\n",
              "    </tr>\n",
              "    <tr>\n",
              "      <th>13</th>\n",
              "      <td>xqd20160014</td>\n",
              "      <td>PAIDOFF</td>\n",
              "      <td>900</td>\n",
              "      <td>7</td>\n",
              "      <td>9/10/2016</td>\n",
              "      <td>9/16/2016</td>\n",
              "      <td>9/13/2016 21:57</td>\n",
              "      <td>0.0</td>\n",
              "      <td>26</td>\n",
              "      <td>college</td>\n",
              "      <td>female</td>\n",
              "    </tr>\n",
              "    <tr>\n",
              "      <th>14</th>\n",
              "      <td>xqd20160015</td>\n",
              "      <td>PAIDOFF</td>\n",
              "      <td>1000</td>\n",
              "      <td>7</td>\n",
              "      <td>9/10/2016</td>\n",
              "      <td>9/16/2016</td>\n",
              "      <td>9/15/2016 14:27</td>\n",
              "      <td>0.0</td>\n",
              "      <td>27</td>\n",
              "      <td>High School or Below</td>\n",
              "      <td>male</td>\n",
              "    </tr>\n",
              "    <tr>\n",
              "      <th>15</th>\n",
              "      <td>xqd20160016</td>\n",
              "      <td>PAIDOFF</td>\n",
              "      <td>800</td>\n",
              "      <td>15</td>\n",
              "      <td>9/10/2016</td>\n",
              "      <td>9/24/2016</td>\n",
              "      <td>9/24/2016 16:00</td>\n",
              "      <td>0.0</td>\n",
              "      <td>26</td>\n",
              "      <td>college</td>\n",
              "      <td>male</td>\n",
              "    </tr>\n",
              "    <tr>\n",
              "      <th>16</th>\n",
              "      <td>xqd20160017</td>\n",
              "      <td>PAIDOFF</td>\n",
              "      <td>1000</td>\n",
              "      <td>30</td>\n",
              "      <td>9/10/2016</td>\n",
              "      <td>10/9/2016</td>\n",
              "      <td>9/27/2016 14:21</td>\n",
              "      <td>0.0</td>\n",
              "      <td>40</td>\n",
              "      <td>High School or Below</td>\n",
              "      <td>male</td>\n",
              "    </tr>\n",
              "    <tr>\n",
              "      <th>17</th>\n",
              "      <td>xqd20160018</td>\n",
              "      <td>PAIDOFF</td>\n",
              "      <td>1000</td>\n",
              "      <td>15</td>\n",
              "      <td>9/10/2016</td>\n",
              "      <td>9/24/2016</td>\n",
              "      <td>9/23/2016 18:49</td>\n",
              "      <td>0.0</td>\n",
              "      <td>32</td>\n",
              "      <td>High School or Below</td>\n",
              "      <td>male</td>\n",
              "    </tr>\n",
              "    <tr>\n",
              "      <th>18</th>\n",
              "      <td>xqd20160019</td>\n",
              "      <td>PAIDOFF</td>\n",
              "      <td>1000</td>\n",
              "      <td>30</td>\n",
              "      <td>9/10/2016</td>\n",
              "      <td>10/9/2016</td>\n",
              "      <td>10/5/2016 22:05</td>\n",
              "      <td>0.0</td>\n",
              "      <td>32</td>\n",
              "      <td>High School or Below</td>\n",
              "      <td>male</td>\n",
              "    </tr>\n",
              "    <tr>\n",
              "      <th>19</th>\n",
              "      <td>xqd20160020</td>\n",
              "      <td>PAIDOFF</td>\n",
              "      <td>800</td>\n",
              "      <td>30</td>\n",
              "      <td>9/10/2016</td>\n",
              "      <td>10/9/2016</td>\n",
              "      <td>9/23/2016 7:42</td>\n",
              "      <td>0.0</td>\n",
              "      <td>26</td>\n",
              "      <td>college</td>\n",
              "      <td>male</td>\n",
              "    </tr>\n",
              "  </tbody>\n",
              "</table>\n",
              "</div>"
            ],
            "text/plain": [
              "        Loan_ID loan_status  Principal  terms effective_date   due_date  \\\n",
              "0   xqd20166231     PAIDOFF       1000     30       9/8/2016  10/7/2016   \n",
              "1   xqd20168902     PAIDOFF       1000     30       9/8/2016  10/7/2016   \n",
              "2   xqd20160003     PAIDOFF       1000     30       9/8/2016  10/7/2016   \n",
              "3   xqd20160004     PAIDOFF       1000     15       9/8/2016  9/22/2016   \n",
              "4   xqd20160005     PAIDOFF       1000     30       9/9/2016  10/8/2016   \n",
              "5   xqd20160706     PAIDOFF        300      7       9/9/2016  9/15/2016   \n",
              "6   xqd20160007     PAIDOFF       1000     30       9/9/2016  10/8/2016   \n",
              "7   xqd20160008     PAIDOFF       1000     30       9/9/2016  10/8/2016   \n",
              "8   xqd20160909     PAIDOFF       1000     30       9/9/2016  10/8/2016   \n",
              "9   xqd20160010     PAIDOFF        800     15      9/10/2016  9/24/2016   \n",
              "10  xqd20160011     PAIDOFF        300      7      9/10/2016  9/16/2016   \n",
              "11  xqd20160012     PAIDOFF       1000     15      9/10/2016  10/9/2016   \n",
              "12  xqd20160013     PAIDOFF       1000     30      9/10/2016  10/9/2016   \n",
              "13  xqd20160014     PAIDOFF        900      7      9/10/2016  9/16/2016   \n",
              "14  xqd20160015     PAIDOFF       1000      7      9/10/2016  9/16/2016   \n",
              "15  xqd20160016     PAIDOFF        800     15      9/10/2016  9/24/2016   \n",
              "16  xqd20160017     PAIDOFF       1000     30      9/10/2016  10/9/2016   \n",
              "17  xqd20160018     PAIDOFF       1000     15      9/10/2016  9/24/2016   \n",
              "18  xqd20160019     PAIDOFF       1000     30      9/10/2016  10/9/2016   \n",
              "19  xqd20160020     PAIDOFF        800     30      9/10/2016  10/9/2016   \n",
              "\n",
              "      paid_off_time  past_due_days  age             education  Gender  \n",
              "0   9/14/2016 19:31            0.0   45  High School or Below    male  \n",
              "1    10/7/2016 9:00            0.0   50              Bechalor  female  \n",
              "2   9/25/2016 16:58            0.0   33              Bechalor  female  \n",
              "3   9/22/2016 20:00            0.0   27               college    male  \n",
              "4   9/23/2016 21:36            0.0   28               college  female  \n",
              "5    9/9/2016 13:45            0.0   35       Master or Above    male  \n",
              "6   10/7/2016 23:07            0.0   29               college    male  \n",
              "7   10/5/2016 20:33            0.0   36               college    male  \n",
              "8   10/8/2016 16:00            0.0   28               college    male  \n",
              "9   9/24/2016 13:00            0.0   26               college    male  \n",
              "10  9/11/2016 19:11            0.0   29               college    male  \n",
              "11  10/9/2016 16:00            0.0   39  High School or Below    male  \n",
              "12  10/7/2016 23:32            0.0   26               college    male  \n",
              "13  9/13/2016 21:57            0.0   26               college  female  \n",
              "14  9/15/2016 14:27            0.0   27  High School or Below    male  \n",
              "15  9/24/2016 16:00            0.0   26               college    male  \n",
              "16  9/27/2016 14:21            0.0   40  High School or Below    male  \n",
              "17  9/23/2016 18:49            0.0   32  High School or Below    male  \n",
              "18  10/5/2016 22:05            0.0   32  High School or Below    male  \n",
              "19   9/23/2016 7:42            0.0   26               college    male  "
            ]
          },
          "execution_count": 6,
          "metadata": {},
          "output_type": "execute_result"
        }
      ],
      "source": [
        "df.head(20)"
      ]
    },
    {
      "cell_type": "code",
      "execution_count": 19,
      "metadata": {},
      "outputs": [
        {
          "data": {
            "text/plain": [
              "0    2016-09-14 19:31:00\n",
              "1    2016-10-07 09:00:00\n",
              "2    2016-09-25 16:58:00\n",
              "3    2016-09-22 20:00:00\n",
              "4    2016-09-23 21:36:00\n",
              "5    2016-09-09 13:45:00\n",
              "6    2016-10-07 23:07:00\n",
              "7    2016-10-05 20:33:00\n",
              "8    2016-10-08 16:00:00\n",
              "9    2016-09-24 13:00:00\n",
              "10   2016-09-11 19:11:00\n",
              "11   2016-10-09 16:00:00\n",
              "12   2016-10-07 23:32:00\n",
              "13   2016-09-13 21:57:00\n",
              "14   2016-09-15 14:27:00\n",
              "15   2016-09-24 16:00:00\n",
              "16   2016-09-27 14:21:00\n",
              "17   2016-09-23 18:49:00\n",
              "18   2016-10-05 22:05:00\n",
              "19   2016-09-23 07:42:00\n",
              "Name: paid_off_time, dtype: datetime64[ns]"
            ]
          },
          "execution_count": 19,
          "metadata": {},
          "output_type": "execute_result"
        }
      ],
      "source": [
        "df.paid_off_time.head(20)"
      ]
    },
    {
      "cell_type": "code",
      "execution_count": 23,
      "metadata": {},
      "outputs": [
        {
          "data": {
            "text/plain": [
              "0    2016-09-14 19:31:00\n",
              "1    2016-10-07 09:00:00\n",
              "2    2016-09-25 16:58:00\n",
              "3    2016-09-22 20:00:00\n",
              "4    2016-09-23 21:36:00\n",
              "5    2016-09-09 13:45:00\n",
              "6    2016-10-07 23:07:00\n",
              "7    2016-10-05 20:33:00\n",
              "8    2016-10-08 16:00:00\n",
              "9    2016-09-24 13:00:00\n",
              "10   2016-09-11 19:11:00\n",
              "11   2016-10-09 16:00:00\n",
              "12   2016-10-07 23:32:00\n",
              "13   2016-09-13 21:57:00\n",
              "14   2016-09-15 14:27:00\n",
              "15   2016-09-24 16:00:00\n",
              "16   2016-09-27 14:21:00\n",
              "17   2016-09-23 18:49:00\n",
              "18   2016-10-05 22:05:00\n",
              "19   2016-09-23 07:42:00\n",
              "Name: paid_off_time, dtype: datetime64[ns]"
            ]
          },
          "execution_count": 23,
          "metadata": {},
          "output_type": "execute_result"
        }
      ],
      "source": [
        "df.paid_off_time = pd.to_datetime(df.paid_off_time)\n",
        "df.paid_off_time.head(20)"
      ]
    },
    {
      "cell_type": "code",
      "execution_count": 28,
      "metadata": {},
      "outputs": [
        {
          "data": {
            "image/png": "[encoded data removed]",
            "text/plain": [
              "<Figure size 1000x600 with 1 Axes>"
            ]
          },
          "metadata": {},
          "output_type": "display_data"
        }
      ],
      "source": [
        "agg_data = df.groupby([pd.Grouper(key='paid_off_time', freq='D'), 'loan_status']).size().unstack(fill_value=0)\n",
        "agg_data.plot(kind='line', marker='o', figsize=(10, 6))\n",
        "plt.title('Loan Status over time')\n",
        "plt.ylabel('Number of Loans')\n",
        "plt.show()"
      ]
    },
    {
      "cell_type": "markdown",
      "metadata": {
        "id": "Vg1vlkGEPb3O"
      },
      "source": [
        "### 2. Scatter plot"
      ]
    },
    {
      "cell_type": "code",
      "execution_count": 5,
      "metadata": {},
      "outputs": [
        {
          "data": {
            "text/html": [
              "<div>\n",
              "<style scoped>\n",
              "    .dataframe tbody tr th:only-of-type {\n",
              "        vertical-align: middle;\n",
              "    }\n",
              "\n",
              "    .dataframe tbody tr th {\n",
              "        vertical-align: top;\n",
              "    }\n",
              "\n",
              "    .dataframe thead th {\n",
              "        text-align: right;\n",
              "    }\n",
              "</style>\n",
              "<table border=\"1\" class=\"dataframe\">\n",
              "  <thead>\n",
              "    <tr style=\"text-align: right;\">\n",
              "      <th></th>\n",
              "      <th>Loan_ID</th>\n",
              "      <th>loan_status</th>\n",
              "      <th>Principal</th>\n",
              "      <th>terms</th>\n",
              "      <th>effective_date</th>\n",
              "      <th>due_date</th>\n",
              "      <th>paid_off_time</th>\n",
              "      <th>past_due_days</th>\n",
              "      <th>age</th>\n",
              "      <th>education</th>\n",
              "      <th>Gender</th>\n",
              "    </tr>\n",
              "  </thead>\n",
              "  <tbody>\n",
              "    <tr>\n",
              "      <th>0</th>\n",
              "      <td>xqd20166231</td>\n",
              "      <td>PAIDOFF</td>\n",
              "      <td>1000</td>\n",
              "      <td>30</td>\n",
              "      <td>2016-09-08</td>\n",
              "      <td>2016-10-07</td>\n",
              "      <td>2016-09-14 19:31:00</td>\n",
              "      <td>NaN</td>\n",
              "      <td>45</td>\n",
              "      <td>High School or Below</td>\n",
              "      <td>male</td>\n",
              "    </tr>\n",
              "    <tr>\n",
              "      <th>1</th>\n",
              "      <td>xqd20168902</td>\n",
              "      <td>PAIDOFF</td>\n",
              "      <td>1000</td>\n",
              "      <td>30</td>\n",
              "      <td>2016-09-08</td>\n",
              "      <td>2016-10-07</td>\n",
              "      <td>2016-10-07 09:00:00</td>\n",
              "      <td>NaN</td>\n",
              "      <td>50</td>\n",
              "      <td>Bechalor</td>\n",
              "      <td>female</td>\n",
              "    </tr>\n",
              "    <tr>\n",
              "      <th>2</th>\n",
              "      <td>xqd20160003</td>\n",
              "      <td>PAIDOFF</td>\n",
              "      <td>1000</td>\n",
              "      <td>30</td>\n",
              "      <td>2016-09-08</td>\n",
              "      <td>2016-10-07</td>\n",
              "      <td>2016-09-25 16:58:00</td>\n",
              "      <td>NaN</td>\n",
              "      <td>33</td>\n",
              "      <td>Bechalor</td>\n",
              "      <td>female</td>\n",
              "    </tr>\n",
              "    <tr>\n",
              "      <th>3</th>\n",
              "      <td>xqd20160004</td>\n",
              "      <td>PAIDOFF</td>\n",
              "      <td>1000</td>\n",
              "      <td>15</td>\n",
              "      <td>2016-09-08</td>\n",
              "      <td>2016-09-22</td>\n",
              "      <td>2016-09-22 20:00:00</td>\n",
              "      <td>NaN</td>\n",
              "      <td>27</td>\n",
              "      <td>college</td>\n",
              "      <td>male</td>\n",
              "    </tr>\n",
              "    <tr>\n",
              "      <th>4</th>\n",
              "      <td>xqd20160005</td>\n",
              "      <td>PAIDOFF</td>\n",
              "      <td>1000</td>\n",
              "      <td>30</td>\n",
              "      <td>2016-09-09</td>\n",
              "      <td>2016-10-08</td>\n",
              "      <td>2016-09-23 21:36:00</td>\n",
              "      <td>NaN</td>\n",
              "      <td>28</td>\n",
              "      <td>college</td>\n",
              "      <td>female</td>\n",
              "    </tr>\n",
              "    <tr>\n",
              "      <th>5</th>\n",
              "      <td>xqd20160706</td>\n",
              "      <td>PAIDOFF</td>\n",
              "      <td>300</td>\n",
              "      <td>7</td>\n",
              "      <td>2016-09-09</td>\n",
              "      <td>2016-09-15</td>\n",
              "      <td>2016-09-09 13:45:00</td>\n",
              "      <td>NaN</td>\n",
              "      <td>35</td>\n",
              "      <td>Master or Above</td>\n",
              "      <td>male</td>\n",
              "    </tr>\n",
              "    <tr>\n",
              "      <th>6</th>\n",
              "      <td>xqd20160007</td>\n",
              "      <td>PAIDOFF</td>\n",
              "      <td>1000</td>\n",
              "      <td>30</td>\n",
              "      <td>2016-09-09</td>\n",
              "      <td>2016-10-08</td>\n",
              "      <td>2016-10-07 23:07:00</td>\n",
              "      <td>NaN</td>\n",
              "      <td>29</td>\n",
              "      <td>college</td>\n",
              "      <td>male</td>\n",
              "    </tr>\n",
              "    <tr>\n",
              "      <th>7</th>\n",
              "      <td>xqd20160008</td>\n",
              "      <td>PAIDOFF</td>\n",
              "      <td>1000</td>\n",
              "      <td>30</td>\n",
              "      <td>2016-09-09</td>\n",
              "      <td>2016-10-08</td>\n",
              "      <td>2016-10-05 20:33:00</td>\n",
              "      <td>NaN</td>\n",
              "      <td>36</td>\n",
              "      <td>college</td>\n",
              "      <td>male</td>\n",
              "    </tr>\n",
              "    <tr>\n",
              "      <th>8</th>\n",
              "      <td>xqd20160909</td>\n",
              "      <td>PAIDOFF</td>\n",
              "      <td>1000</td>\n",
              "      <td>30</td>\n",
              "      <td>2016-09-09</td>\n",
              "      <td>2016-10-08</td>\n",
              "      <td>2016-10-08 16:00:00</td>\n",
              "      <td>NaN</td>\n",
              "      <td>28</td>\n",
              "      <td>college</td>\n",
              "      <td>male</td>\n",
              "    </tr>\n",
              "    <tr>\n",
              "      <th>9</th>\n",
              "      <td>xqd20160010</td>\n",
              "      <td>PAIDOFF</td>\n",
              "      <td>800</td>\n",
              "      <td>15</td>\n",
              "      <td>2016-09-10</td>\n",
              "      <td>2016-09-24</td>\n",
              "      <td>2016-09-24 13:00:00</td>\n",
              "      <td>NaN</td>\n",
              "      <td>26</td>\n",
              "      <td>college</td>\n",
              "      <td>male</td>\n",
              "    </tr>\n",
              "  </tbody>\n",
              "</table>\n",
              "</div>"
            ],
            "text/plain": [
              "       Loan_ID loan_status  Principal  terms effective_date   due_date  \\\n",
              "0  xqd20166231     PAIDOFF       1000     30     2016-09-08 2016-10-07   \n",
              "1  xqd20168902     PAIDOFF       1000     30     2016-09-08 2016-10-07   \n",
              "2  xqd20160003     PAIDOFF       1000     30     2016-09-08 2016-10-07   \n",
              "3  xqd20160004     PAIDOFF       1000     15     2016-09-08 2016-09-22   \n",
              "4  xqd20160005     PAIDOFF       1000     30     2016-09-09 2016-10-08   \n",
              "5  xqd20160706     PAIDOFF        300      7     2016-09-09 2016-09-15   \n",
              "6  xqd20160007     PAIDOFF       1000     30     2016-09-09 2016-10-08   \n",
              "7  xqd20160008     PAIDOFF       1000     30     2016-09-09 2016-10-08   \n",
              "8  xqd20160909     PAIDOFF       1000     30     2016-09-09 2016-10-08   \n",
              "9  xqd20160010     PAIDOFF        800     15     2016-09-10 2016-09-24   \n",
              "\n",
              "        paid_off_time  past_due_days  age             education  Gender  \n",
              "0 2016-09-14 19:31:00            NaN   45  High School or Below    male  \n",
              "1 2016-10-07 09:00:00            NaN   50              Bechalor  female  \n",
              "2 2016-09-25 16:58:00            NaN   33              Bechalor  female  \n",
              "3 2016-09-22 20:00:00            NaN   27               college    male  \n",
              "4 2016-09-23 21:36:00            NaN   28               college  female  \n",
              "5 2016-09-09 13:45:00            NaN   35       Master or Above    male  \n",
              "6 2016-10-07 23:07:00            NaN   29               college    male  \n",
              "7 2016-10-05 20:33:00            NaN   36               college    male  \n",
              "8 2016-10-08 16:00:00            NaN   28               college    male  \n",
              "9 2016-09-24 13:00:00            NaN   26               college    male  "
            ]
          },
          "execution_count": 5,
          "metadata": {},
          "output_type": "execute_result"
        }
      ],
      "source": [
        "df.head(10)"
      ]
    },
    {
      "cell_type": "markdown",
      "metadata": {
        "id": "PC6Ufa4YTl0Q"
      },
      "source": [
        "### 3. Bar Chart"
      ]
    },
    {
      "cell_type": "code",
      "execution_count": null,
      "metadata": {
        "colab": {
          "base_uri": "https://localhost:8080/",
          "height": 676
        },
        "id": "piofiGosTq5y",
        "outputId": "114c6318-60d9-481f-fcd0-58fe651dd899"
      },
      "outputs": [
        {
          "data": {
            "image/png": "[encoded data removed]",
            "text/plain": [
              "<Figure size 1000x800 with 1 Axes>"
            ]
          },
          "metadata": {},
          "output_type": "display_data"
        }
      ],
      "source": [
        "salary = df['salary']\n",
        "size = df['company_size']\n",
        "plt.figure(figsize = (10, 8))\n",
        "plt.bar(size, salary,)\n",
        "plt.show()"
      ]
    },
    {
      "cell_type": "markdown",
      "metadata": {
        "id": "wxSxTZgGZ6Tv"
      },
      "source": [
        "### 4. Histogram"
      ]
    },
    {
      "cell_type": "code",
      "execution_count": null,
      "metadata": {
        "colab": {
          "base_uri": "https://localhost:8080/",
          "height": 430
        },
        "id": "rQl_x_G_UoEI",
        "outputId": "184a14b0-28f4-45f8-f1b8-0e12e1d2bdaa"
      },
      "outputs": [
        {
          "data": {
            "image/png": "[encoded data removed]",
            "text/plain": [
              "<Figure size 640x480 with 1 Axes>"
            ]
          },
          "metadata": {},
          "output_type": "display_data"
        }
      ],
      "source": [
        "plt.hist(salary)\n",
        "plt.show()"
      ]
    },
    {
      "cell_type": "markdown",
      "metadata": {
        "id": "3fR6HMbkanJy"
      },
      "source": [
        "## 5. Heatmap\n"
      ]
    },
    {
      "cell_type": "code",
      "execution_count": null,
      "metadata": {
        "colab": {
          "base_uri": "https://localhost:8080/",
          "height": 452
        },
        "id": "MlyjeSE9ao2q",
        "outputId": "19b80c63-2e82-4ac3-c458-c633f0fea028"
      },
      "outputs": [
        {
          "data": {
            "image/png": "[encoded data removed]",
            "text/plain": [
              "<Figure size 640x480 with 1 Axes>"
            ]
          },
          "metadata": {},
          "output_type": "display_data"
        }
      ],
      "source": [
        "data = np.random.random(( 12 , 12 ))\n",
        "plt.imshow( data )\n",
        "\n",
        "plt.title( \"2-D Heat Map\" )\n",
        "plt.show()"
      ]
    },
    {
      "cell_type": "markdown",
      "metadata": {
        "id": "5pv_ChMuaa8h"
      },
      "source": [
        "### 6. Pie Chart"
      ]
    },
    {
      "cell_type": "code",
      "execution_count": null,
      "metadata": {
        "colab": {
          "base_uri": "https://localhost:8080/",
          "height": 829
        },
        "id": "GRYVPY52Z18k",
        "outputId": "fd5b7b00-1639-4469-f4b8-0201409c20a9"
      },
      "outputs": [
        {
          "data": {
            "image/png": "[encoded data removed]",
            "text/plain": [
              "<Figure size 1000x1000 with 1 Axes>"
            ]
          },
          "metadata": {},
          "output_type": "display_data"
        }
      ],
      "source": [
        "job_titles = df['job_title'].value_counts()\n",
        "\n",
        "common_job_title = job_titles[job_titles >= 272]\n",
        "common_job_title.value_counts()\n",
        "\n",
        "plt.figure(figsize=(10, 10))\n",
        "job_title_labels = common_job_title.index\n",
        "plt.pie(common_job_title, labels= job_title_labels, autopct='%1.1f%%', startangle=120)\n",
        "plt.title(\"Pie chart showing the most common job titles\")\n",
        "plt.show()"
      ]
    },
    {
      "cell_type": "code",
      "execution_count": null,
      "metadata": {
        "colab": {
          "base_uri": "https://localhost:8080/",
          "height": 453
        },
        "id": "c3z2FHK3aXtX",
        "outputId": "5075151a-a4b6-4670-dc2a-ab3ae8eb915f"
      },
      "outputs": [
        {
          "data": {
            "image/png": "[encoded data removed]",
            "text/plain": [
              "<Figure size 640x480 with 1 Axes>"
            ]
          },
          "metadata": {},
          "output_type": "display_data"
        }
      ],
      "source": [
        "sns.countplot(x='experience_level', hue='experience_level',data=df);"
      ]
    },
    {
      "cell_type": "code",
      "execution_count": null,
      "metadata": {
        "id": "0M6X51G4b3d2"
      },
      "outputs": [],
      "source": []
    }
  ],
  "metadata": {
    "colab": {
      "provenance": []
    },
    "kernelspec": {
      "display_name": "Python 3",
      "name": "python3"
    },
    "language_info": {
      "codemirror_mode": {
        "name": "ipython",
        "version": 3
      },
      "file_extension": ".py",
      "mimetype": "text/x-python",
      "name": "python",
      "nbconvert_exporter": "python",
      "pygments_lexer": "ipython3",
      "version": "3.10.13"
    }
  },
  "nbformat": 4,
  "nbformat_minor": 0
}
