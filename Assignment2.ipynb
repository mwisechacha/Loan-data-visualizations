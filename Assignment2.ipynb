{
  "cells": [
    {
      "cell_type": "markdown",
      "metadata": {
        "id": "YhvFUZNvLBbF"
      },
      "source": [
        "### Assignment: A\n",
        "1. What are the 2 widely used libraries for data visualization?\n",
        "      - Matplotlib\n",
        "      - Seaborn\n",
        "2. List 3 advantages of each?\n",
        "    * Matplotlib\n",
        "      - has a large active community hence a lot of resources such as tutorials and documentations have been made available online by the developers\n",
        "      - it is very flexible since it allows users to include different styles, markers and create almost any plot they want\n",
        "\n",
        "    * Seaborn\n",
        "      - specializes on statistical visualizations and well suited for exploring complex datasets\n",
        "      - allows straightforward data representation on plots and attractive aesthetics"
      ]
    },
    {
      "cell_type": "markdown",
      "metadata": {
        "id": "Stuz7jKJLZiO"
      },
      "source": [
        "### Types of plots to consider today:\n",
        "1. Line chart\n",
        "2. Scatter plot\n",
        "3. Bar chart\n",
        "4. Histogram\n",
        "5. Heatmap\n",
        "6. Pie chart\n",
        "7. Countplot\n",
        "\n",
        "### Assignment: B\n",
        "1. Explore plotly library and replicate the above plots"
      ]
    },
    {
      "cell_type": "code",
      "execution_count": 2,
      "metadata": {
        "id": "d1tQn_KDK7qD"
      },
      "outputs": [],
      "source": [
        "# import the necessary libraries\n",
        "import pandas as pd\n",
        "import numpy as np\n",
        "import plotly.express as px\n",
        "import matplotlib.pyplot as plt\n",
        "import seaborn as sns\n",
        "%matplotlib inline"
      ]
    },
    {
      "cell_type": "code",
      "execution_count": 3,
      "metadata": {
        "colab": {
          "base_uri": "https://localhost:8080/",
          "height": 206
        },
        "id": "oHuy6YNUL0Xy",
        "outputId": "99552326-0a21-4e1b-fff1-3d00e7e60cbd"
      },
      "outputs": [
        {
          "data": {
            "text/html": [
              "<div>\n",
              "<style scoped>\n",
              "    .dataframe tbody tr th:only-of-type {\n",
              "        vertical-align: middle;\n",
              "    }\n",
              "\n",
              "    .dataframe tbody tr th {\n",
              "        vertical-align: top;\n",
              "    }\n",
              "\n",
              "    .dataframe thead th {\n",
              "        text-align: right;\n",
              "    }\n",
              "</style>\n",
              "<table border=\"1\" class=\"dataframe\">\n",
              "  <thead>\n",
              "    <tr style=\"text-align: right;\">\n",
              "      <th></th>\n",
              "      <th>Loan_ID</th>\n",
              "      <th>loan_status</th>\n",
              "      <th>Principal</th>\n",
              "      <th>terms</th>\n",
              "      <th>effective_date</th>\n",
              "      <th>due_date</th>\n",
              "      <th>paid_off_time</th>\n",
              "      <th>past_due_days</th>\n",
              "      <th>age</th>\n",
              "      <th>education</th>\n",
              "      <th>Gender</th>\n",
              "    </tr>\n",
              "  </thead>\n",
              "  <tbody>\n",
              "    <tr>\n",
              "      <th>0</th>\n",
              "      <td>xqd20166231</td>\n",
              "      <td>PAIDOFF</td>\n",
              "      <td>1000</td>\n",
              "      <td>30</td>\n",
              "      <td>2016-09-08</td>\n",
              "      <td>2016-10-07</td>\n",
              "      <td>2016-09-14 19:31:00</td>\n",
              "      <td>NaN</td>\n",
              "      <td>45</td>\n",
              "      <td>High School or Below</td>\n",
              "      <td>male</td>\n",
              "    </tr>\n",
              "    <tr>\n",
              "      <th>1</th>\n",
              "      <td>xqd20168902</td>\n",
              "      <td>PAIDOFF</td>\n",
              "      <td>1000</td>\n",
              "      <td>30</td>\n",
              "      <td>2016-09-08</td>\n",
              "      <td>2016-10-07</td>\n",
              "      <td>2016-10-07 09:00:00</td>\n",
              "      <td>NaN</td>\n",
              "      <td>50</td>\n",
              "      <td>Bechalor</td>\n",
              "      <td>female</td>\n",
              "    </tr>\n",
              "    <tr>\n",
              "      <th>2</th>\n",
              "      <td>xqd20160003</td>\n",
              "      <td>PAIDOFF</td>\n",
              "      <td>1000</td>\n",
              "      <td>30</td>\n",
              "      <td>2016-09-08</td>\n",
              "      <td>2016-10-07</td>\n",
              "      <td>2016-09-25 16:58:00</td>\n",
              "      <td>NaN</td>\n",
              "      <td>33</td>\n",
              "      <td>Bechalor</td>\n",
              "      <td>female</td>\n",
              "    </tr>\n",
              "    <tr>\n",
              "      <th>3</th>\n",
              "      <td>xqd20160004</td>\n",
              "      <td>PAIDOFF</td>\n",
              "      <td>1000</td>\n",
              "      <td>15</td>\n",
              "      <td>2016-09-08</td>\n",
              "      <td>2016-09-22</td>\n",
              "      <td>2016-09-22 20:00:00</td>\n",
              "      <td>NaN</td>\n",
              "      <td>27</td>\n",
              "      <td>college</td>\n",
              "      <td>male</td>\n",
              "    </tr>\n",
              "    <tr>\n",
              "      <th>4</th>\n",
              "      <td>xqd20160005</td>\n",
              "      <td>PAIDOFF</td>\n",
              "      <td>1000</td>\n",
              "      <td>30</td>\n",
              "      <td>2016-09-09</td>\n",
              "      <td>2016-10-08</td>\n",
              "      <td>2016-09-23 21:36:00</td>\n",
              "      <td>NaN</td>\n",
              "      <td>28</td>\n",
              "      <td>college</td>\n",
              "      <td>female</td>\n",
              "    </tr>\n",
              "  </tbody>\n",
              "</table>\n",
              "</div>"
            ],
            "text/plain": [
              "       Loan_ID loan_status  Principal  terms effective_date   due_date  \\\n",
              "0  xqd20166231     PAIDOFF       1000     30     2016-09-08 2016-10-07   \n",
              "1  xqd20168902     PAIDOFF       1000     30     2016-09-08 2016-10-07   \n",
              "2  xqd20160003     PAIDOFF       1000     30     2016-09-08 2016-10-07   \n",
              "3  xqd20160004     PAIDOFF       1000     15     2016-09-08 2016-09-22   \n",
              "4  xqd20160005     PAIDOFF       1000     30     2016-09-09 2016-10-08   \n",
              "\n",
              "        paid_off_time  past_due_days  age             education  Gender  \n",
              "0 2016-09-14 19:31:00            NaN   45  High School or Below    male  \n",
              "1 2016-10-07 09:00:00            NaN   50              Bechalor  female  \n",
              "2 2016-09-25 16:58:00            NaN   33              Bechalor  female  \n",
              "3 2016-09-22 20:00:00            NaN   27               college    male  \n",
              "4 2016-09-23 21:36:00            NaN   28               college  female  "
            ]
          },
          "execution_count": 3,
          "metadata": {},
          "output_type": "execute_result"
        }
      ],
      "source": [
        "df = pd.read_csv(\"Loan payments data.csv\",\n",
        "                 parse_dates=['effective_date', 'due_date', 'paid_off_time'])\n",
        "df.head(5)"
      ]
    },
    {
      "cell_type": "code",
      "execution_count": 5,
      "metadata": {
        "colab": {
          "base_uri": "https://localhost:8080/"
        },
        "id": "rGRITZCtIFJC",
        "outputId": "f49735e7-4634-4475-cc9a-b05485c2d274"
      },
      "outputs": [
        {
          "data": {
            "text/plain": [
              "(500, 11)"
            ]
          },
          "execution_count": 5,
          "metadata": {},
          "output_type": "execute_result"
        }
      ],
      "source": [
        "df.shape"
      ]
    },
    {
      "cell_type": "code",
      "execution_count": 6,
      "metadata": {
        "colab": {
          "base_uri": "https://localhost:8080/"
        },
        "id": "--ZkI25rIJZ3",
        "outputId": "7ad911c9-0051-4054-870d-05bfe9d8046d"
      },
      "outputs": [
        {
          "name": "stdout",
          "output_type": "stream",
          "text": [
            "<class 'pandas.core.frame.DataFrame'>\n",
            "RangeIndex: 500 entries, 0 to 499\n",
            "Data columns (total 11 columns):\n",
            " #   Column          Non-Null Count  Dtype         \n",
            "---  ------          --------------  -----         \n",
            " 0   Loan_ID         500 non-null    object        \n",
            " 1   loan_status     500 non-null    object        \n",
            " 2   Principal       500 non-null    int64         \n",
            " 3   terms           500 non-null    int64         \n",
            " 4   effective_date  500 non-null    datetime64[ns]\n",
            " 5   due_date        500 non-null    datetime64[ns]\n",
            " 6   paid_off_time   400 non-null    datetime64[ns]\n",
            " 7   past_due_days   200 non-null    float64       \n",
            " 8   age             500 non-null    int64         \n",
            " 9   education       500 non-null    object        \n",
            " 10  Gender          500 non-null    object        \n",
            "dtypes: datetime64[ns](3), float64(1), int64(3), object(4)\n",
            "memory usage: 43.1+ KB\n"
          ]
        }
      ],
      "source": [
        "df.info()"
      ]
    },
    {
      "cell_type": "markdown",
      "metadata": {},
      "source": [
        "### Checking and removing missing values"
      ]
    },
    {
      "cell_type": "code",
      "execution_count": 7,
      "metadata": {
        "colab": {
          "base_uri": "https://localhost:8080/"
        },
        "id": "NiSR_XdhINOn",
        "outputId": "11936234-a642-46fc-c203-1c5d8e6da18d"
      },
      "outputs": [
        {
          "data": {
            "text/plain": [
              "Loan_ID             0\n",
              "loan_status         0\n",
              "Principal           0\n",
              "terms               0\n",
              "effective_date      0\n",
              "due_date            0\n",
              "paid_off_time     100\n",
              "past_due_days     300\n",
              "age                 0\n",
              "education           0\n",
              "Gender              0\n",
              "dtype: int64"
            ]
          },
          "execution_count": 7,
          "metadata": {},
          "output_type": "execute_result"
        }
      ],
      "source": [
        "# checking for missing values\n",
        "df.isnull().sum()"
      ]
    },
    {
      "cell_type": "code",
      "execution_count": 8,
      "metadata": {
        "id": "_7Vdv9L9IZQm"
      },
      "outputs": [],
      "source": [
        "# replacing missing values with 0s\n",
        "df['paid_off_time'] = df['paid_off_time'].fillna(-1)\n",
        "df['past_due_days'] = df['past_due_days'].fillna(0)"
      ]
    },
    {
      "cell_type": "code",
      "execution_count": 9,
      "metadata": {},
      "outputs": [
        {
          "data": {
            "text/plain": [
              "Loan_ID           0\n",
              "loan_status       0\n",
              "Principal         0\n",
              "terms             0\n",
              "effective_date    0\n",
              "due_date          0\n",
              "paid_off_time     0\n",
              "past_due_days     0\n",
              "age               0\n",
              "education         0\n",
              "Gender            0\n",
              "dtype: int64"
            ]
          },
          "execution_count": 9,
          "metadata": {},
          "output_type": "execute_result"
        }
      ],
      "source": [
        "df.isnull().sum()"
      ]
    },
    {
      "cell_type": "code",
      "execution_count": 10,
      "metadata": {},
      "outputs": [],
      "source": [
        "# spell check\n",
        "df['education'] = df['education'].replace('Bechalor', 'Bachelor')"
      ]
    },
    {
      "cell_type": "code",
      "execution_count": 11,
      "metadata": {},
      "outputs": [
        {
          "data": {
            "text/html": [
              "<div>\n",
              "<style scoped>\n",
              "    .dataframe tbody tr th:only-of-type {\n",
              "        vertical-align: middle;\n",
              "    }\n",
              "\n",
              "    .dataframe tbody tr th {\n",
              "        vertical-align: top;\n",
              "    }\n",
              "\n",
              "    .dataframe thead th {\n",
              "        text-align: right;\n",
              "    }\n",
              "</style>\n",
              "<table border=\"1\" class=\"dataframe\">\n",
              "  <thead>\n",
              "    <tr style=\"text-align: right;\">\n",
              "      <th></th>\n",
              "      <th>Loan_ID</th>\n",
              "      <th>loan_status</th>\n",
              "      <th>Principal</th>\n",
              "      <th>terms</th>\n",
              "      <th>effective_date</th>\n",
              "      <th>due_date</th>\n",
              "      <th>paid_off_time</th>\n",
              "      <th>past_due_days</th>\n",
              "      <th>age</th>\n",
              "      <th>education</th>\n",
              "      <th>Gender</th>\n",
              "    </tr>\n",
              "  </thead>\n",
              "  <tbody>\n",
              "    <tr>\n",
              "      <th>0</th>\n",
              "      <td>xqd20166231</td>\n",
              "      <td>PAIDOFF</td>\n",
              "      <td>1000</td>\n",
              "      <td>30</td>\n",
              "      <td>2016-09-08</td>\n",
              "      <td>2016-10-07</td>\n",
              "      <td>2016-09-14 00:00:00</td>\n",
              "      <td>0.0</td>\n",
              "      <td>45</td>\n",
              "      <td>High School or Below</td>\n",
              "      <td>male</td>\n",
              "    </tr>\n",
              "    <tr>\n",
              "      <th>1</th>\n",
              "      <td>xqd20168902</td>\n",
              "      <td>PAIDOFF</td>\n",
              "      <td>1000</td>\n",
              "      <td>30</td>\n",
              "      <td>2016-09-08</td>\n",
              "      <td>2016-10-07</td>\n",
              "      <td>2016-10-07 00:00:00</td>\n",
              "      <td>0.0</td>\n",
              "      <td>50</td>\n",
              "      <td>Bachelor</td>\n",
              "      <td>female</td>\n",
              "    </tr>\n",
              "  </tbody>\n",
              "</table>\n",
              "</div>"
            ],
            "text/plain": [
              "       Loan_ID loan_status  Principal  terms effective_date   due_date  \\\n",
              "0  xqd20166231     PAIDOFF       1000     30     2016-09-08 2016-10-07   \n",
              "1  xqd20168902     PAIDOFF       1000     30     2016-09-08 2016-10-07   \n",
              "\n",
              "         paid_off_time  past_due_days  age             education  Gender  \n",
              "0  2016-09-14 00:00:00            0.0   45  High School or Below    male  \n",
              "1  2016-10-07 00:00:00            0.0   50              Bachelor  female  "
            ]
          },
          "execution_count": 11,
          "metadata": {},
          "output_type": "execute_result"
        }
      ],
      "source": [
        "df.head(2)"
      ]
    },
    {
      "cell_type": "markdown",
      "metadata": {
        "id": "MN-tAnfGMQom"
      },
      "source": [
        "### 1. Line chart"
      ]
    },
    {
      "cell_type": "markdown",
      "metadata": {},
      "source": [
        "### Visualizing the time series data using line charts"
      ]
    },
    {
      "cell_type": "code",
      "execution_count": 29,
      "metadata": {},
      "outputs": [
        {
          "data": {
            "text/html": [
              "<div>\n",
              "<style scoped>\n",
              "    .dataframe tbody tr th:only-of-type {\n",
              "        vertical-align: middle;\n",
              "    }\n",
              "\n",
              "    .dataframe tbody tr th {\n",
              "        vertical-align: top;\n",
              "    }\n",
              "\n",
              "    .dataframe thead th {\n",
              "        text-align: right;\n",
              "    }\n",
              "</style>\n",
              "<table border=\"1\" class=\"dataframe\">\n",
              "  <thead>\n",
              "    <tr style=\"text-align: right;\">\n",
              "      <th></th>\n",
              "      <th>Loan_ID</th>\n",
              "      <th>loan_status</th>\n",
              "      <th>Principal</th>\n",
              "      <th>terms</th>\n",
              "      <th>effective_date</th>\n",
              "      <th>due_date</th>\n",
              "      <th>paid_off_time</th>\n",
              "      <th>past_due_days</th>\n",
              "      <th>age</th>\n",
              "      <th>education</th>\n",
              "      <th>Gender</th>\n",
              "    </tr>\n",
              "  </thead>\n",
              "  <tbody>\n",
              "    <tr>\n",
              "      <th>0</th>\n",
              "      <td>xqd20166231</td>\n",
              "      <td>PAIDOFF</td>\n",
              "      <td>1000</td>\n",
              "      <td>30</td>\n",
              "      <td>2016-09-08</td>\n",
              "      <td>2016-10-07</td>\n",
              "      <td>2016-09-14 19:31:00</td>\n",
              "      <td>0.0</td>\n",
              "      <td>45</td>\n",
              "      <td>High School or Below</td>\n",
              "      <td>male</td>\n",
              "    </tr>\n",
              "    <tr>\n",
              "      <th>1</th>\n",
              "      <td>xqd20168902</td>\n",
              "      <td>PAIDOFF</td>\n",
              "      <td>1000</td>\n",
              "      <td>30</td>\n",
              "      <td>2016-09-08</td>\n",
              "      <td>2016-10-07</td>\n",
              "      <td>2016-10-07 09:00:00</td>\n",
              "      <td>0.0</td>\n",
              "      <td>50</td>\n",
              "      <td>Bachelor</td>\n",
              "      <td>female</td>\n",
              "    </tr>\n",
              "    <tr>\n",
              "      <th>2</th>\n",
              "      <td>xqd20160003</td>\n",
              "      <td>PAIDOFF</td>\n",
              "      <td>1000</td>\n",
              "      <td>30</td>\n",
              "      <td>2016-09-08</td>\n",
              "      <td>2016-10-07</td>\n",
              "      <td>2016-09-25 16:58:00</td>\n",
              "      <td>0.0</td>\n",
              "      <td>33</td>\n",
              "      <td>Bachelor</td>\n",
              "      <td>female</td>\n",
              "    </tr>\n",
              "    <tr>\n",
              "      <th>3</th>\n",
              "      <td>xqd20160004</td>\n",
              "      <td>PAIDOFF</td>\n",
              "      <td>1000</td>\n",
              "      <td>15</td>\n",
              "      <td>2016-09-08</td>\n",
              "      <td>2016-09-22</td>\n",
              "      <td>2016-09-22 20:00:00</td>\n",
              "      <td>0.0</td>\n",
              "      <td>27</td>\n",
              "      <td>college</td>\n",
              "      <td>male</td>\n",
              "    </tr>\n",
              "    <tr>\n",
              "      <th>4</th>\n",
              "      <td>xqd20160005</td>\n",
              "      <td>PAIDOFF</td>\n",
              "      <td>1000</td>\n",
              "      <td>30</td>\n",
              "      <td>2016-09-09</td>\n",
              "      <td>2016-10-08</td>\n",
              "      <td>2016-09-23 21:36:00</td>\n",
              "      <td>0.0</td>\n",
              "      <td>28</td>\n",
              "      <td>college</td>\n",
              "      <td>female</td>\n",
              "    </tr>\n",
              "    <tr>\n",
              "      <th>5</th>\n",
              "      <td>xqd20160706</td>\n",
              "      <td>PAIDOFF</td>\n",
              "      <td>300</td>\n",
              "      <td>7</td>\n",
              "      <td>2016-09-09</td>\n",
              "      <td>2016-09-15</td>\n",
              "      <td>2016-09-09 13:45:00</td>\n",
              "      <td>0.0</td>\n",
              "      <td>35</td>\n",
              "      <td>Master or Above</td>\n",
              "      <td>male</td>\n",
              "    </tr>\n",
              "    <tr>\n",
              "      <th>6</th>\n",
              "      <td>xqd20160007</td>\n",
              "      <td>PAIDOFF</td>\n",
              "      <td>1000</td>\n",
              "      <td>30</td>\n",
              "      <td>2016-09-09</td>\n",
              "      <td>2016-10-08</td>\n",
              "      <td>2016-10-07 23:07:00</td>\n",
              "      <td>0.0</td>\n",
              "      <td>29</td>\n",
              "      <td>college</td>\n",
              "      <td>male</td>\n",
              "    </tr>\n",
              "    <tr>\n",
              "      <th>7</th>\n",
              "      <td>xqd20160008</td>\n",
              "      <td>PAIDOFF</td>\n",
              "      <td>1000</td>\n",
              "      <td>30</td>\n",
              "      <td>2016-09-09</td>\n",
              "      <td>2016-10-08</td>\n",
              "      <td>2016-10-05 20:33:00</td>\n",
              "      <td>0.0</td>\n",
              "      <td>36</td>\n",
              "      <td>college</td>\n",
              "      <td>male</td>\n",
              "    </tr>\n",
              "    <tr>\n",
              "      <th>8</th>\n",
              "      <td>xqd20160909</td>\n",
              "      <td>PAIDOFF</td>\n",
              "      <td>1000</td>\n",
              "      <td>30</td>\n",
              "      <td>2016-09-09</td>\n",
              "      <td>2016-10-08</td>\n",
              "      <td>2016-10-08 16:00:00</td>\n",
              "      <td>0.0</td>\n",
              "      <td>28</td>\n",
              "      <td>college</td>\n",
              "      <td>male</td>\n",
              "    </tr>\n",
              "    <tr>\n",
              "      <th>9</th>\n",
              "      <td>xqd20160010</td>\n",
              "      <td>PAIDOFF</td>\n",
              "      <td>800</td>\n",
              "      <td>15</td>\n",
              "      <td>2016-09-10</td>\n",
              "      <td>2016-09-24</td>\n",
              "      <td>2016-09-24 13:00:00</td>\n",
              "      <td>0.0</td>\n",
              "      <td>26</td>\n",
              "      <td>college</td>\n",
              "      <td>male</td>\n",
              "    </tr>\n",
              "    <tr>\n",
              "      <th>10</th>\n",
              "      <td>xqd20160011</td>\n",
              "      <td>PAIDOFF</td>\n",
              "      <td>300</td>\n",
              "      <td>7</td>\n",
              "      <td>2016-09-10</td>\n",
              "      <td>2016-09-16</td>\n",
              "      <td>2016-09-11 19:11:00</td>\n",
              "      <td>0.0</td>\n",
              "      <td>29</td>\n",
              "      <td>college</td>\n",
              "      <td>male</td>\n",
              "    </tr>\n",
              "    <tr>\n",
              "      <th>11</th>\n",
              "      <td>xqd20160012</td>\n",
              "      <td>PAIDOFF</td>\n",
              "      <td>1000</td>\n",
              "      <td>15</td>\n",
              "      <td>2016-09-10</td>\n",
              "      <td>2016-10-09</td>\n",
              "      <td>2016-10-09 16:00:00</td>\n",
              "      <td>0.0</td>\n",
              "      <td>39</td>\n",
              "      <td>High School or Below</td>\n",
              "      <td>male</td>\n",
              "    </tr>\n",
              "    <tr>\n",
              "      <th>12</th>\n",
              "      <td>xqd20160013</td>\n",
              "      <td>PAIDOFF</td>\n",
              "      <td>1000</td>\n",
              "      <td>30</td>\n",
              "      <td>2016-09-10</td>\n",
              "      <td>2016-10-09</td>\n",
              "      <td>2016-10-07 23:32:00</td>\n",
              "      <td>0.0</td>\n",
              "      <td>26</td>\n",
              "      <td>college</td>\n",
              "      <td>male</td>\n",
              "    </tr>\n",
              "    <tr>\n",
              "      <th>13</th>\n",
              "      <td>xqd20160014</td>\n",
              "      <td>PAIDOFF</td>\n",
              "      <td>900</td>\n",
              "      <td>7</td>\n",
              "      <td>2016-09-10</td>\n",
              "      <td>2016-09-16</td>\n",
              "      <td>2016-09-13 21:57:00</td>\n",
              "      <td>0.0</td>\n",
              "      <td>26</td>\n",
              "      <td>college</td>\n",
              "      <td>female</td>\n",
              "    </tr>\n",
              "    <tr>\n",
              "      <th>14</th>\n",
              "      <td>xqd20160015</td>\n",
              "      <td>PAIDOFF</td>\n",
              "      <td>1000</td>\n",
              "      <td>7</td>\n",
              "      <td>2016-09-10</td>\n",
              "      <td>2016-09-16</td>\n",
              "      <td>2016-09-15 14:27:00</td>\n",
              "      <td>0.0</td>\n",
              "      <td>27</td>\n",
              "      <td>High School or Below</td>\n",
              "      <td>male</td>\n",
              "    </tr>\n",
              "    <tr>\n",
              "      <th>15</th>\n",
              "      <td>xqd20160016</td>\n",
              "      <td>PAIDOFF</td>\n",
              "      <td>800</td>\n",
              "      <td>15</td>\n",
              "      <td>2016-09-10</td>\n",
              "      <td>2016-09-24</td>\n",
              "      <td>2016-09-24 16:00:00</td>\n",
              "      <td>0.0</td>\n",
              "      <td>26</td>\n",
              "      <td>college</td>\n",
              "      <td>male</td>\n",
              "    </tr>\n",
              "    <tr>\n",
              "      <th>16</th>\n",
              "      <td>xqd20160017</td>\n",
              "      <td>PAIDOFF</td>\n",
              "      <td>1000</td>\n",
              "      <td>30</td>\n",
              "      <td>2016-09-10</td>\n",
              "      <td>2016-10-09</td>\n",
              "      <td>2016-09-27 14:21:00</td>\n",
              "      <td>0.0</td>\n",
              "      <td>40</td>\n",
              "      <td>High School or Below</td>\n",
              "      <td>male</td>\n",
              "    </tr>\n",
              "    <tr>\n",
              "      <th>17</th>\n",
              "      <td>xqd20160018</td>\n",
              "      <td>PAIDOFF</td>\n",
              "      <td>1000</td>\n",
              "      <td>15</td>\n",
              "      <td>2016-09-10</td>\n",
              "      <td>2016-09-24</td>\n",
              "      <td>2016-09-23 18:49:00</td>\n",
              "      <td>0.0</td>\n",
              "      <td>32</td>\n",
              "      <td>High School or Below</td>\n",
              "      <td>male</td>\n",
              "    </tr>\n",
              "    <tr>\n",
              "      <th>18</th>\n",
              "      <td>xqd20160019</td>\n",
              "      <td>PAIDOFF</td>\n",
              "      <td>1000</td>\n",
              "      <td>30</td>\n",
              "      <td>2016-09-10</td>\n",
              "      <td>2016-10-09</td>\n",
              "      <td>2016-10-05 22:05:00</td>\n",
              "      <td>0.0</td>\n",
              "      <td>32</td>\n",
              "      <td>High School or Below</td>\n",
              "      <td>male</td>\n",
              "    </tr>\n",
              "    <tr>\n",
              "      <th>19</th>\n",
              "      <td>xqd20160020</td>\n",
              "      <td>PAIDOFF</td>\n",
              "      <td>800</td>\n",
              "      <td>30</td>\n",
              "      <td>2016-09-10</td>\n",
              "      <td>2016-10-09</td>\n",
              "      <td>2016-09-23 07:42:00</td>\n",
              "      <td>0.0</td>\n",
              "      <td>26</td>\n",
              "      <td>college</td>\n",
              "      <td>male</td>\n",
              "    </tr>\n",
              "  </tbody>\n",
              "</table>\n",
              "</div>"
            ],
            "text/plain": [
              "        Loan_ID loan_status  Principal  terms effective_date   due_date  \\\n",
              "0   xqd20166231     PAIDOFF       1000     30     2016-09-08 2016-10-07   \n",
              "1   xqd20168902     PAIDOFF       1000     30     2016-09-08 2016-10-07   \n",
              "2   xqd20160003     PAIDOFF       1000     30     2016-09-08 2016-10-07   \n",
              "3   xqd20160004     PAIDOFF       1000     15     2016-09-08 2016-09-22   \n",
              "4   xqd20160005     PAIDOFF       1000     30     2016-09-09 2016-10-08   \n",
              "5   xqd20160706     PAIDOFF        300      7     2016-09-09 2016-09-15   \n",
              "6   xqd20160007     PAIDOFF       1000     30     2016-09-09 2016-10-08   \n",
              "7   xqd20160008     PAIDOFF       1000     30     2016-09-09 2016-10-08   \n",
              "8   xqd20160909     PAIDOFF       1000     30     2016-09-09 2016-10-08   \n",
              "9   xqd20160010     PAIDOFF        800     15     2016-09-10 2016-09-24   \n",
              "10  xqd20160011     PAIDOFF        300      7     2016-09-10 2016-09-16   \n",
              "11  xqd20160012     PAIDOFF       1000     15     2016-09-10 2016-10-09   \n",
              "12  xqd20160013     PAIDOFF       1000     30     2016-09-10 2016-10-09   \n",
              "13  xqd20160014     PAIDOFF        900      7     2016-09-10 2016-09-16   \n",
              "14  xqd20160015     PAIDOFF       1000      7     2016-09-10 2016-09-16   \n",
              "15  xqd20160016     PAIDOFF        800     15     2016-09-10 2016-09-24   \n",
              "16  xqd20160017     PAIDOFF       1000     30     2016-09-10 2016-10-09   \n",
              "17  xqd20160018     PAIDOFF       1000     15     2016-09-10 2016-09-24   \n",
              "18  xqd20160019     PAIDOFF       1000     30     2016-09-10 2016-10-09   \n",
              "19  xqd20160020     PAIDOFF        800     30     2016-09-10 2016-10-09   \n",
              "\n",
              "          paid_off_time  past_due_days  age             education  Gender  \n",
              "0   2016-09-14 19:31:00            0.0   45  High School or Below    male  \n",
              "1   2016-10-07 09:00:00            0.0   50              Bachelor  female  \n",
              "2   2016-09-25 16:58:00            0.0   33              Bachelor  female  \n",
              "3   2016-09-22 20:00:00            0.0   27               college    male  \n",
              "4   2016-09-23 21:36:00            0.0   28               college  female  \n",
              "5   2016-09-09 13:45:00            0.0   35       Master or Above    male  \n",
              "6   2016-10-07 23:07:00            0.0   29               college    male  \n",
              "7   2016-10-05 20:33:00            0.0   36               college    male  \n",
              "8   2016-10-08 16:00:00            0.0   28               college    male  \n",
              "9   2016-09-24 13:00:00            0.0   26               college    male  \n",
              "10  2016-09-11 19:11:00            0.0   29               college    male  \n",
              "11  2016-10-09 16:00:00            0.0   39  High School or Below    male  \n",
              "12  2016-10-07 23:32:00            0.0   26               college    male  \n",
              "13  2016-09-13 21:57:00            0.0   26               college  female  \n",
              "14  2016-09-15 14:27:00            0.0   27  High School or Below    male  \n",
              "15  2016-09-24 16:00:00            0.0   26               college    male  \n",
              "16  2016-09-27 14:21:00            0.0   40  High School or Below    male  \n",
              "17  2016-09-23 18:49:00            0.0   32  High School or Below    male  \n",
              "18  2016-10-05 22:05:00            0.0   32  High School or Below    male  \n",
              "19  2016-09-23 07:42:00            0.0   26               college    male  "
            ]
          },
          "execution_count": 29,
          "metadata": {},
          "output_type": "execute_result"
        }
      ],
      "source": [
        "df.head(20)"
      ]
    },
    {
      "cell_type": "code",
      "execution_count": 12,
      "metadata": {},
      "outputs": [
        {
          "data": {
            "text/plain": [
              "0     2016-09-14 00:00:00\n",
              "1     2016-10-07 00:00:00\n",
              "2     2016-09-25 00:00:00\n",
              "3     2016-09-22 00:00:00\n",
              "4     2016-09-23 00:00:00\n",
              "5     2016-09-09 00:00:00\n",
              "6     2016-10-07 00:00:00\n",
              "7     2016-10-05 00:00:00\n",
              "8     2016-10-08 00:00:00\n",
              "9     2016-09-24 00:00:00\n",
              "10    2016-09-11 00:00:00\n",
              "11    2016-10-09 00:00:00\n",
              "12    2016-10-07 00:00:00\n",
              "13    2016-09-13 00:00:00\n",
              "14    2016-09-15 00:00:00\n",
              "15    2016-09-24 00:00:00\n",
              "16    2016-09-27 00:00:00\n",
              "17    2016-09-23 00:00:00\n",
              "18    2016-10-05 00:00:00\n",
              "19    2016-09-23 00:00:00\n",
              "Name: paid_off_time, dtype: object"
            ]
          },
          "execution_count": 12,
          "metadata": {},
          "output_type": "execute_result"
        }
      ],
      "source": [
        "df.paid_off_time.head(20)"
      ]
    },
    {
      "cell_type": "code",
      "execution_count": 13,
      "metadata": {},
      "outputs": [
        {
          "name": "stdout",
          "output_type": "stream",
          "text": [
            "<class 'pandas.core.frame.DataFrame'>\n",
            "RangeIndex: 500 entries, 0 to 499\n",
            "Data columns (total 11 columns):\n",
            " #   Column          Non-Null Count  Dtype         \n",
            "---  ------          --------------  -----         \n",
            " 0   Loan_ID         500 non-null    object        \n",
            " 1   loan_status     500 non-null    object        \n",
            " 2   Principal       500 non-null    int64         \n",
            " 3   terms           500 non-null    int64         \n",
            " 4   effective_date  500 non-null    datetime64[ns]\n",
            " 5   due_date        500 non-null    datetime64[ns]\n",
            " 6   paid_off_time   500 non-null    object        \n",
            " 7   past_due_days   500 non-null    float64       \n",
            " 8   age             500 non-null    int64         \n",
            " 9   education       500 non-null    object        \n",
            " 10  Gender          500 non-null    object        \n",
            "dtypes: datetime64[ns](2), float64(1), int64(3), object(5)\n",
            "memory usage: 43.1+ KB\n"
          ]
        }
      ],
      "source": [
        "df.info()"
      ]
    },
    {
      "cell_type": "code",
      "execution_count": 15,
      "metadata": {},
      "outputs": [
        {
          "ename": "TypeError",
          "evalue": "'<' not supported between instances of 'int' and 'Timestamp'",
          "output_type": "error",
          "traceback": [
            "\u001b[1;31m---------------------------------------------------------------------------\u001b[0m",
            "\u001b[1;31mTypeError\u001b[0m                                 Traceback (most recent call last)",
            "Cell \u001b[1;32mIn [15], line 1\u001b[0m\n\u001b[1;32m----> 1\u001b[0m agg_data \u001b[38;5;241m=\u001b[39m \u001b[43mdf\u001b[49m\u001b[38;5;241;43m.\u001b[39;49m\u001b[43mgroupby\u001b[49m\u001b[43m(\u001b[49m\u001b[43m[\u001b[49m\u001b[43mpd\u001b[49m\u001b[38;5;241;43m.\u001b[39;49m\u001b[43mGrouper\u001b[49m\u001b[43m(\u001b[49m\u001b[43mkey\u001b[49m\u001b[38;5;241;43m=\u001b[39;49m\u001b[38;5;124;43m'\u001b[39;49m\u001b[38;5;124;43mpaid_off_time\u001b[39;49m\u001b[38;5;124;43m'\u001b[39;49m\u001b[43m,\u001b[49m\u001b[43m \u001b[49m\u001b[43mfreq\u001b[49m\u001b[38;5;241;43m=\u001b[39;49m\u001b[38;5;124;43m'\u001b[39;49m\u001b[38;5;124;43mD\u001b[39;49m\u001b[38;5;124;43m'\u001b[39;49m\u001b[43m)\u001b[49m\u001b[43m,\u001b[49m\u001b[43m \u001b[49m\u001b[38;5;124;43m'\u001b[39;49m\u001b[38;5;124;43mloan_status\u001b[39;49m\u001b[38;5;124;43m'\u001b[39;49m\u001b[43m]\u001b[49m\u001b[43m)\u001b[49m\u001b[38;5;241m.\u001b[39msize()\u001b[38;5;241m.\u001b[39munstack(fill_value\u001b[38;5;241m=\u001b[39m\u001b[38;5;241m0\u001b[39m)\n\u001b[0;32m      2\u001b[0m agg_data\u001b[38;5;241m.\u001b[39mplot(kind\u001b[38;5;241m=\u001b[39m\u001b[38;5;124m'\u001b[39m\u001b[38;5;124mline\u001b[39m\u001b[38;5;124m'\u001b[39m, marker\u001b[38;5;241m=\u001b[39m\u001b[38;5;124m'\u001b[39m\u001b[38;5;124mo\u001b[39m\u001b[38;5;124m'\u001b[39m, figsize\u001b[38;5;241m=\u001b[39m(\u001b[38;5;241m10\u001b[39m, \u001b[38;5;241m6\u001b[39m))\n\u001b[0;32m      3\u001b[0m plt\u001b[38;5;241m.\u001b[39mtitle(\u001b[38;5;124m'\u001b[39m\u001b[38;5;124mLoan Status over time\u001b[39m\u001b[38;5;124m'\u001b[39m)\n",
            "File \u001b[1;32mc:\\Users\\USER\\Desktop\\assignment2\\env\\lib\\site-packages\\pandas\\core\\frame.py:8869\u001b[0m, in \u001b[0;36mDataFrame.groupby\u001b[1;34m(self, by, axis, level, as_index, sort, group_keys, observed, dropna)\u001b[0m\n\u001b[0;32m   8866\u001b[0m \u001b[38;5;28;01mif\u001b[39;00m level \u001b[38;5;129;01mis\u001b[39;00m \u001b[38;5;28;01mNone\u001b[39;00m \u001b[38;5;129;01mand\u001b[39;00m by \u001b[38;5;129;01mis\u001b[39;00m \u001b[38;5;28;01mNone\u001b[39;00m:\n\u001b[0;32m   8867\u001b[0m     \u001b[38;5;28;01mraise\u001b[39;00m \u001b[38;5;167;01mTypeError\u001b[39;00m(\u001b[38;5;124m\"\u001b[39m\u001b[38;5;124mYou have to supply one of \u001b[39m\u001b[38;5;124m'\u001b[39m\u001b[38;5;124mby\u001b[39m\u001b[38;5;124m'\u001b[39m\u001b[38;5;124m and \u001b[39m\u001b[38;5;124m'\u001b[39m\u001b[38;5;124mlevel\u001b[39m\u001b[38;5;124m'\u001b[39m\u001b[38;5;124m\"\u001b[39m)\n\u001b[1;32m-> 8869\u001b[0m \u001b[38;5;28;01mreturn\u001b[39;00m \u001b[43mDataFrameGroupBy\u001b[49m\u001b[43m(\u001b[49m\n\u001b[0;32m   8870\u001b[0m \u001b[43m    \u001b[49m\u001b[43mobj\u001b[49m\u001b[38;5;241;43m=\u001b[39;49m\u001b[38;5;28;43mself\u001b[39;49m\u001b[43m,\u001b[49m\n\u001b[0;32m   8871\u001b[0m \u001b[43m    \u001b[49m\u001b[43mkeys\u001b[49m\u001b[38;5;241;43m=\u001b[39;49m\u001b[43mby\u001b[49m\u001b[43m,\u001b[49m\n\u001b[0;32m   8872\u001b[0m \u001b[43m    \u001b[49m\u001b[43maxis\u001b[49m\u001b[38;5;241;43m=\u001b[39;49m\u001b[43maxis\u001b[49m\u001b[43m,\u001b[49m\n\u001b[0;32m   8873\u001b[0m \u001b[43m    \u001b[49m\u001b[43mlevel\u001b[49m\u001b[38;5;241;43m=\u001b[39;49m\u001b[43mlevel\u001b[49m\u001b[43m,\u001b[49m\n\u001b[0;32m   8874\u001b[0m \u001b[43m    \u001b[49m\u001b[43mas_index\u001b[49m\u001b[38;5;241;43m=\u001b[39;49m\u001b[43mas_index\u001b[49m\u001b[43m,\u001b[49m\n\u001b[0;32m   8875\u001b[0m \u001b[43m    \u001b[49m\u001b[43msort\u001b[49m\u001b[38;5;241;43m=\u001b[39;49m\u001b[43msort\u001b[49m\u001b[43m,\u001b[49m\n\u001b[0;32m   8876\u001b[0m \u001b[43m    \u001b[49m\u001b[43mgroup_keys\u001b[49m\u001b[38;5;241;43m=\u001b[39;49m\u001b[43mgroup_keys\u001b[49m\u001b[43m,\u001b[49m\n\u001b[0;32m   8877\u001b[0m \u001b[43m    \u001b[49m\u001b[43mobserved\u001b[49m\u001b[38;5;241;43m=\u001b[39;49m\u001b[43mobserved\u001b[49m\u001b[43m,\u001b[49m\n\u001b[0;32m   8878\u001b[0m \u001b[43m    \u001b[49m\u001b[43mdropna\u001b[49m\u001b[38;5;241;43m=\u001b[39;49m\u001b[43mdropna\u001b[49m\u001b[43m,\u001b[49m\n\u001b[0;32m   8879\u001b[0m \u001b[43m\u001b[49m\u001b[43m)\u001b[49m\n",
            "File \u001b[1;32mc:\\Users\\USER\\Desktop\\assignment2\\env\\lib\\site-packages\\pandas\\core\\groupby\\groupby.py:1278\u001b[0m, in \u001b[0;36mGroupBy.__init__\u001b[1;34m(self, obj, keys, axis, level, grouper, exclusions, selection, as_index, sort, group_keys, observed, dropna)\u001b[0m\n\u001b[0;32m   1275\u001b[0m \u001b[38;5;28mself\u001b[39m\u001b[38;5;241m.\u001b[39mdropna \u001b[38;5;241m=\u001b[39m dropna\n\u001b[0;32m   1277\u001b[0m \u001b[38;5;28;01mif\u001b[39;00m grouper \u001b[38;5;129;01mis\u001b[39;00m \u001b[38;5;28;01mNone\u001b[39;00m:\n\u001b[1;32m-> 1278\u001b[0m     grouper, exclusions, obj \u001b[38;5;241m=\u001b[39m \u001b[43mget_grouper\u001b[49m\u001b[43m(\u001b[49m\n\u001b[0;32m   1279\u001b[0m \u001b[43m        \u001b[49m\u001b[43mobj\u001b[49m\u001b[43m,\u001b[49m\n\u001b[0;32m   1280\u001b[0m \u001b[43m        \u001b[49m\u001b[43mkeys\u001b[49m\u001b[43m,\u001b[49m\n\u001b[0;32m   1281\u001b[0m \u001b[43m        \u001b[49m\u001b[43maxis\u001b[49m\u001b[38;5;241;43m=\u001b[39;49m\u001b[43maxis\u001b[49m\u001b[43m,\u001b[49m\n\u001b[0;32m   1282\u001b[0m \u001b[43m        \u001b[49m\u001b[43mlevel\u001b[49m\u001b[38;5;241;43m=\u001b[39;49m\u001b[43mlevel\u001b[49m\u001b[43m,\u001b[49m\n\u001b[0;32m   1283\u001b[0m \u001b[43m        \u001b[49m\u001b[43msort\u001b[49m\u001b[38;5;241;43m=\u001b[39;49m\u001b[43msort\u001b[49m\u001b[43m,\u001b[49m\n\u001b[0;32m   1284\u001b[0m \u001b[43m        \u001b[49m\u001b[43mobserved\u001b[49m\u001b[38;5;241;43m=\u001b[39;49m\u001b[38;5;28;43;01mFalse\u001b[39;49;00m\u001b[43m \u001b[49m\u001b[38;5;28;43;01mif\u001b[39;49;00m\u001b[43m \u001b[49m\u001b[43mobserved\u001b[49m\u001b[43m \u001b[49m\u001b[38;5;129;43;01mis\u001b[39;49;00m\u001b[43m \u001b[49m\u001b[43mlib\u001b[49m\u001b[38;5;241;43m.\u001b[39;49m\u001b[43mno_default\u001b[49m\u001b[43m \u001b[49m\u001b[38;5;28;43;01melse\u001b[39;49;00m\u001b[43m \u001b[49m\u001b[43mobserved\u001b[49m\u001b[43m,\u001b[49m\n\u001b[0;32m   1285\u001b[0m \u001b[43m        \u001b[49m\u001b[43mdropna\u001b[49m\u001b[38;5;241;43m=\u001b[39;49m\u001b[38;5;28;43mself\u001b[39;49m\u001b[38;5;241;43m.\u001b[39;49m\u001b[43mdropna\u001b[49m\u001b[43m,\u001b[49m\n\u001b[0;32m   1286\u001b[0m \u001b[43m    \u001b[49m\u001b[43m)\u001b[49m\n\u001b[0;32m   1288\u001b[0m \u001b[38;5;28;01mif\u001b[39;00m observed \u001b[38;5;129;01mis\u001b[39;00m lib\u001b[38;5;241m.\u001b[39mno_default:\n\u001b[0;32m   1289\u001b[0m     \u001b[38;5;28;01mif\u001b[39;00m \u001b[38;5;28many\u001b[39m(ping\u001b[38;5;241m.\u001b[39m_passed_categorical \u001b[38;5;28;01mfor\u001b[39;00m ping \u001b[38;5;129;01min\u001b[39;00m grouper\u001b[38;5;241m.\u001b[39mgroupings):\n",
            "File \u001b[1;32mc:\\Users\\USER\\Desktop\\assignment2\\env\\lib\\site-packages\\pandas\\core\\groupby\\grouper.py:1020\u001b[0m, in \u001b[0;36mget_grouper\u001b[1;34m(obj, key, axis, level, sort, observed, validate, dropna)\u001b[0m\n\u001b[0;32m   1015\u001b[0m         in_axis \u001b[38;5;241m=\u001b[39m \u001b[38;5;28;01mFalse\u001b[39;00m\n\u001b[0;32m   1017\u001b[0m     \u001b[38;5;66;03m# create the Grouping\u001b[39;00m\n\u001b[0;32m   1018\u001b[0m     \u001b[38;5;66;03m# allow us to passing the actual Grouping as the gpr\u001b[39;00m\n\u001b[0;32m   1019\u001b[0m     ping \u001b[38;5;241m=\u001b[39m (\n\u001b[1;32m-> 1020\u001b[0m         \u001b[43mGrouping\u001b[49m\u001b[43m(\u001b[49m\n\u001b[0;32m   1021\u001b[0m \u001b[43m            \u001b[49m\u001b[43mgroup_axis\u001b[49m\u001b[43m,\u001b[49m\n\u001b[0;32m   1022\u001b[0m \u001b[43m            \u001b[49m\u001b[43mgpr\u001b[49m\u001b[43m,\u001b[49m\n\u001b[0;32m   1023\u001b[0m \u001b[43m            \u001b[49m\u001b[43mobj\u001b[49m\u001b[38;5;241;43m=\u001b[39;49m\u001b[43mobj\u001b[49m\u001b[43m,\u001b[49m\n\u001b[0;32m   1024\u001b[0m \u001b[43m            \u001b[49m\u001b[43mlevel\u001b[49m\u001b[38;5;241;43m=\u001b[39;49m\u001b[43mlevel\u001b[49m\u001b[43m,\u001b[49m\n\u001b[0;32m   1025\u001b[0m \u001b[43m            \u001b[49m\u001b[43msort\u001b[49m\u001b[38;5;241;43m=\u001b[39;49m\u001b[43msort\u001b[49m\u001b[43m,\u001b[49m\n\u001b[0;32m   1026\u001b[0m \u001b[43m            \u001b[49m\u001b[43mobserved\u001b[49m\u001b[38;5;241;43m=\u001b[39;49m\u001b[43mobserved\u001b[49m\u001b[43m,\u001b[49m\n\u001b[0;32m   1027\u001b[0m \u001b[43m            \u001b[49m\u001b[43min_axis\u001b[49m\u001b[38;5;241;43m=\u001b[39;49m\u001b[43min_axis\u001b[49m\u001b[43m,\u001b[49m\n\u001b[0;32m   1028\u001b[0m \u001b[43m            \u001b[49m\u001b[43mdropna\u001b[49m\u001b[38;5;241;43m=\u001b[39;49m\u001b[43mdropna\u001b[49m\u001b[43m,\u001b[49m\n\u001b[0;32m   1029\u001b[0m \u001b[43m        \u001b[49m\u001b[43m)\u001b[49m\n\u001b[0;32m   1030\u001b[0m         \u001b[38;5;28;01mif\u001b[39;00m \u001b[38;5;129;01mnot\u001b[39;00m \u001b[38;5;28misinstance\u001b[39m(gpr, Grouping)\n\u001b[0;32m   1031\u001b[0m         \u001b[38;5;28;01melse\u001b[39;00m gpr\n\u001b[0;32m   1032\u001b[0m     )\n\u001b[0;32m   1034\u001b[0m     groupings\u001b[38;5;241m.\u001b[39mappend(ping)\n\u001b[0;32m   1036\u001b[0m \u001b[38;5;28;01mif\u001b[39;00m \u001b[38;5;28mlen\u001b[39m(groupings) \u001b[38;5;241m==\u001b[39m \u001b[38;5;241m0\u001b[39m \u001b[38;5;129;01mand\u001b[39;00m \u001b[38;5;28mlen\u001b[39m(obj):\n",
            "File \u001b[1;32mc:\\Users\\USER\\Desktop\\assignment2\\env\\lib\\site-packages\\pandas\\core\\groupby\\grouper.py:579\u001b[0m, in \u001b[0;36mGrouping.__init__\u001b[1;34m(self, index, grouper, obj, level, sort, observed, in_axis, dropna, uniques)\u001b[0m\n\u001b[0;32m    573\u001b[0m \u001b[38;5;28;01melif\u001b[39;00m \u001b[38;5;28misinstance\u001b[39m(grouping_vector, Grouper):\n\u001b[0;32m    574\u001b[0m     \u001b[38;5;66;03m# get the new grouper; we already have disambiguated\u001b[39;00m\n\u001b[0;32m    575\u001b[0m     \u001b[38;5;66;03m# what key/level refer to exactly, don't need to\u001b[39;00m\n\u001b[0;32m    576\u001b[0m     \u001b[38;5;66;03m# check again as we have by this point converted these\u001b[39;00m\n\u001b[0;32m    577\u001b[0m     \u001b[38;5;66;03m# to an actual value (rather than a pd.Grouper)\u001b[39;00m\n\u001b[0;32m    578\u001b[0m     \u001b[38;5;28;01massert\u001b[39;00m \u001b[38;5;28mself\u001b[39m\u001b[38;5;241m.\u001b[39mobj \u001b[38;5;129;01mis\u001b[39;00m \u001b[38;5;129;01mnot\u001b[39;00m \u001b[38;5;28;01mNone\u001b[39;00m  \u001b[38;5;66;03m# for mypy\u001b[39;00m\n\u001b[1;32m--> 579\u001b[0m     newgrouper, newobj \u001b[38;5;241m=\u001b[39m \u001b[43mgrouping_vector\u001b[49m\u001b[38;5;241;43m.\u001b[39;49m\u001b[43m_get_grouper\u001b[49m\u001b[43m(\u001b[49m\u001b[38;5;28;43mself\u001b[39;49m\u001b[38;5;241;43m.\u001b[39;49m\u001b[43mobj\u001b[49m\u001b[43m,\u001b[49m\u001b[43m \u001b[49m\u001b[43mvalidate\u001b[49m\u001b[38;5;241;43m=\u001b[39;49m\u001b[38;5;28;43;01mFalse\u001b[39;49;00m\u001b[43m)\u001b[49m\n\u001b[0;32m    580\u001b[0m     \u001b[38;5;28mself\u001b[39m\u001b[38;5;241m.\u001b[39mobj \u001b[38;5;241m=\u001b[39m newobj\n\u001b[0;32m    582\u001b[0m     \u001b[38;5;28;01mif\u001b[39;00m \u001b[38;5;28misinstance\u001b[39m(newgrouper, ops\u001b[38;5;241m.\u001b[39mBinGrouper):\n\u001b[0;32m    583\u001b[0m         \u001b[38;5;66;03m# TODO: can we unwrap this and get a tighter typing\u001b[39;00m\n\u001b[0;32m    584\u001b[0m         \u001b[38;5;66;03m#  for self.grouping_vector?\u001b[39;00m\n",
            "File \u001b[1;32mc:\\Users\\USER\\Desktop\\assignment2\\env\\lib\\site-packages\\pandas\\core\\resample.py:2170\u001b[0m, in \u001b[0;36mTimeGrouper._get_grouper\u001b[1;34m(self, obj, validate)\u001b[0m\n\u001b[0;32m   2166\u001b[0m \u001b[38;5;28;01mdef\u001b[39;00m \u001b[38;5;21m_get_grouper\u001b[39m(\n\u001b[0;32m   2167\u001b[0m     \u001b[38;5;28mself\u001b[39m, obj: NDFrameT, validate: \u001b[38;5;28mbool\u001b[39m \u001b[38;5;241m=\u001b[39m \u001b[38;5;28;01mTrue\u001b[39;00m\n\u001b[0;32m   2168\u001b[0m ) \u001b[38;5;241m-\u001b[39m\u001b[38;5;241m>\u001b[39m \u001b[38;5;28mtuple\u001b[39m[BinGrouper, NDFrameT]:\n\u001b[0;32m   2169\u001b[0m     \u001b[38;5;66;03m# create the resampler and return our binner\u001b[39;00m\n\u001b[1;32m-> 2170\u001b[0m     r \u001b[38;5;241m=\u001b[39m \u001b[38;5;28;43mself\u001b[39;49m\u001b[38;5;241;43m.\u001b[39;49m\u001b[43m_get_resampler\u001b[49m\u001b[43m(\u001b[49m\u001b[43mobj\u001b[49m\u001b[43m)\u001b[49m\n\u001b[0;32m   2171\u001b[0m     \u001b[38;5;28;01mreturn\u001b[39;00m r\u001b[38;5;241m.\u001b[39mgrouper, cast(NDFrameT, r\u001b[38;5;241m.\u001b[39mobj)\n",
            "File \u001b[1;32mc:\\Users\\USER\\Desktop\\assignment2\\env\\lib\\site-packages\\pandas\\core\\resample.py:2131\u001b[0m, in \u001b[0;36mTimeGrouper._get_resampler\u001b[1;34m(self, obj, kind)\u001b[0m\n\u001b[0;32m   2112\u001b[0m \u001b[38;5;28;01mdef\u001b[39;00m \u001b[38;5;21m_get_resampler\u001b[39m(\u001b[38;5;28mself\u001b[39m, obj: NDFrame, kind\u001b[38;5;241m=\u001b[39m\u001b[38;5;28;01mNone\u001b[39;00m) \u001b[38;5;241m-\u001b[39m\u001b[38;5;241m>\u001b[39m Resampler:\n\u001b[0;32m   2113\u001b[0m     \u001b[38;5;124;03m\"\"\"\u001b[39;00m\n\u001b[0;32m   2114\u001b[0m \u001b[38;5;124;03m    Return my resampler or raise if we have an invalid axis.\u001b[39;00m\n\u001b[0;32m   2115\u001b[0m \n\u001b[1;32m   (...)\u001b[0m\n\u001b[0;32m   2129\u001b[0m \n\u001b[0;32m   2130\u001b[0m \u001b[38;5;124;03m    \"\"\"\u001b[39;00m\n\u001b[1;32m-> 2131\u001b[0m     _, ax, indexer \u001b[38;5;241m=\u001b[39m \u001b[38;5;28;43mself\u001b[39;49m\u001b[38;5;241;43m.\u001b[39;49m\u001b[43m_set_grouper\u001b[49m\u001b[43m(\u001b[49m\u001b[43mobj\u001b[49m\u001b[43m,\u001b[49m\u001b[43m \u001b[49m\u001b[43mgpr_index\u001b[49m\u001b[38;5;241;43m=\u001b[39;49m\u001b[38;5;28;43;01mNone\u001b[39;49;00m\u001b[43m)\u001b[49m\n\u001b[0;32m   2133\u001b[0m     \u001b[38;5;28;01mif\u001b[39;00m \u001b[38;5;28misinstance\u001b[39m(ax, DatetimeIndex):\n\u001b[0;32m   2134\u001b[0m         \u001b[38;5;28;01mreturn\u001b[39;00m DatetimeIndexResampler(\n\u001b[0;32m   2135\u001b[0m             obj,\n\u001b[0;32m   2136\u001b[0m             timegrouper\u001b[38;5;241m=\u001b[39m\u001b[38;5;28mself\u001b[39m,\n\u001b[1;32m   (...)\u001b[0m\n\u001b[0;32m   2140\u001b[0m             gpr_index\u001b[38;5;241m=\u001b[39max,\n\u001b[0;32m   2141\u001b[0m         )\n",
            "File \u001b[1;32mc:\\Users\\USER\\Desktop\\assignment2\\env\\lib\\site-packages\\pandas\\core\\groupby\\grouper.py:404\u001b[0m, in \u001b[0;36mGrouper._set_grouper\u001b[1;34m(self, obj, sort, gpr_index)\u001b[0m\n\u001b[0;32m    400\u001b[0m \u001b[38;5;66;03m# possibly sort\u001b[39;00m\n\u001b[0;32m    401\u001b[0m \u001b[38;5;28;01mif\u001b[39;00m (\u001b[38;5;28mself\u001b[39m\u001b[38;5;241m.\u001b[39msort \u001b[38;5;129;01mor\u001b[39;00m sort) \u001b[38;5;129;01mand\u001b[39;00m \u001b[38;5;129;01mnot\u001b[39;00m ax\u001b[38;5;241m.\u001b[39mis_monotonic_increasing:\n\u001b[0;32m    402\u001b[0m     \u001b[38;5;66;03m# use stable sort to support first, last, nth\u001b[39;00m\n\u001b[0;32m    403\u001b[0m     \u001b[38;5;66;03m# TODO: why does putting na_position=\"first\" fix datetimelike cases?\u001b[39;00m\n\u001b[1;32m--> 404\u001b[0m     indexer \u001b[38;5;241m=\u001b[39m \u001b[38;5;28mself\u001b[39m\u001b[38;5;241m.\u001b[39m_indexer_deprecated \u001b[38;5;241m=\u001b[39m \u001b[43max\u001b[49m\u001b[38;5;241;43m.\u001b[39;49m\u001b[43marray\u001b[49m\u001b[38;5;241;43m.\u001b[39;49m\u001b[43margsort\u001b[49m\u001b[43m(\u001b[49m\n\u001b[0;32m    405\u001b[0m \u001b[43m        \u001b[49m\u001b[43mkind\u001b[49m\u001b[38;5;241;43m=\u001b[39;49m\u001b[38;5;124;43m\"\u001b[39;49m\u001b[38;5;124;43mmergesort\u001b[39;49m\u001b[38;5;124;43m\"\u001b[39;49m\u001b[43m,\u001b[49m\u001b[43m \u001b[49m\u001b[43mna_position\u001b[49m\u001b[38;5;241;43m=\u001b[39;49m\u001b[38;5;124;43m\"\u001b[39;49m\u001b[38;5;124;43mfirst\u001b[39;49m\u001b[38;5;124;43m\"\u001b[39;49m\n\u001b[0;32m    406\u001b[0m \u001b[43m    \u001b[49m\u001b[43m)\u001b[49m\n\u001b[0;32m    407\u001b[0m     ax \u001b[38;5;241m=\u001b[39m ax\u001b[38;5;241m.\u001b[39mtake(indexer)\n\u001b[0;32m    408\u001b[0m     obj \u001b[38;5;241m=\u001b[39m obj\u001b[38;5;241m.\u001b[39mtake(indexer, axis\u001b[38;5;241m=\u001b[39m\u001b[38;5;28mself\u001b[39m\u001b[38;5;241m.\u001b[39maxis)\n",
            "File \u001b[1;32mc:\\Users\\USER\\Desktop\\assignment2\\env\\lib\\site-packages\\pandas\\core\\arrays\\base.py:807\u001b[0m, in \u001b[0;36mExtensionArray.argsort\u001b[1;34m(self, ascending, kind, na_position, **kwargs)\u001b[0m\n\u001b[0;32m    804\u001b[0m ascending \u001b[38;5;241m=\u001b[39m nv\u001b[38;5;241m.\u001b[39mvalidate_argsort_with_ascending(ascending, (), kwargs)\n\u001b[0;32m    806\u001b[0m values \u001b[38;5;241m=\u001b[39m \u001b[38;5;28mself\u001b[39m\u001b[38;5;241m.\u001b[39m_values_for_argsort()\n\u001b[1;32m--> 807\u001b[0m \u001b[38;5;28;01mreturn\u001b[39;00m \u001b[43mnargsort\u001b[49m\u001b[43m(\u001b[49m\n\u001b[0;32m    808\u001b[0m \u001b[43m    \u001b[49m\u001b[43mvalues\u001b[49m\u001b[43m,\u001b[49m\n\u001b[0;32m    809\u001b[0m \u001b[43m    \u001b[49m\u001b[43mkind\u001b[49m\u001b[38;5;241;43m=\u001b[39;49m\u001b[43mkind\u001b[49m\u001b[43m,\u001b[49m\n\u001b[0;32m    810\u001b[0m \u001b[43m    \u001b[49m\u001b[43mascending\u001b[49m\u001b[38;5;241;43m=\u001b[39;49m\u001b[43mascending\u001b[49m\u001b[43m,\u001b[49m\n\u001b[0;32m    811\u001b[0m \u001b[43m    \u001b[49m\u001b[43mna_position\u001b[49m\u001b[38;5;241;43m=\u001b[39;49m\u001b[43mna_position\u001b[49m\u001b[43m,\u001b[49m\n\u001b[0;32m    812\u001b[0m \u001b[43m    \u001b[49m\u001b[43mmask\u001b[49m\u001b[38;5;241;43m=\u001b[39;49m\u001b[43mnp\u001b[49m\u001b[38;5;241;43m.\u001b[39;49m\u001b[43masarray\u001b[49m\u001b[43m(\u001b[49m\u001b[38;5;28;43mself\u001b[39;49m\u001b[38;5;241;43m.\u001b[39;49m\u001b[43misna\u001b[49m\u001b[43m(\u001b[49m\u001b[43m)\u001b[49m\u001b[43m)\u001b[49m\u001b[43m,\u001b[49m\n\u001b[0;32m    813\u001b[0m \u001b[43m\u001b[49m\u001b[43m)\u001b[49m\n",
            "File \u001b[1;32mc:\\Users\\USER\\Desktop\\assignment2\\env\\lib\\site-packages\\pandas\\core\\sorting.py:483\u001b[0m, in \u001b[0;36mnargsort\u001b[1;34m(items, kind, ascending, na_position, key, mask)\u001b[0m\n\u001b[0;32m    481\u001b[0m     non_nans \u001b[38;5;241m=\u001b[39m non_nans[::\u001b[38;5;241m-\u001b[39m\u001b[38;5;241m1\u001b[39m]\n\u001b[0;32m    482\u001b[0m     non_nan_idx \u001b[38;5;241m=\u001b[39m non_nan_idx[::\u001b[38;5;241m-\u001b[39m\u001b[38;5;241m1\u001b[39m]\n\u001b[1;32m--> 483\u001b[0m indexer \u001b[38;5;241m=\u001b[39m non_nan_idx[\u001b[43mnon_nans\u001b[49m\u001b[38;5;241;43m.\u001b[39;49m\u001b[43margsort\u001b[49m\u001b[43m(\u001b[49m\u001b[43mkind\u001b[49m\u001b[38;5;241;43m=\u001b[39;49m\u001b[43mkind\u001b[49m\u001b[43m)\u001b[49m]\n\u001b[0;32m    484\u001b[0m \u001b[38;5;28;01mif\u001b[39;00m \u001b[38;5;129;01mnot\u001b[39;00m ascending:\n\u001b[0;32m    485\u001b[0m     indexer \u001b[38;5;241m=\u001b[39m indexer[::\u001b[38;5;241m-\u001b[39m\u001b[38;5;241m1\u001b[39m]\n",
            "\u001b[1;31mTypeError\u001b[0m: '<' not supported between instances of 'int' and 'Timestamp'"
          ]
        }
      ],
      "source": [
        "agg_data = df.groupby([pd.Grouper(key='paid_off_time', freq='D'), 'loan_status']).size().unstack(fill_value=0)\n",
        "agg_data.plot(kind='line', marker='o', figsize=(10, 6))\n",
        "plt.title('Loan Status over time')\n",
        "plt.ylabel('Number of Loans')\n",
        "plt.show()"
      ]
    },
    {
      "cell_type": "markdown",
      "metadata": {
        "id": "Vg1vlkGEPb3O"
      },
      "source": [
        "### 2. Scatter plot"
      ]
    },
    {
      "cell_type": "code",
      "execution_count": null,
      "metadata": {},
      "outputs": [
        {
          "data": {
            "text/html": [
              "<div>\n",
              "<style scoped>\n",
              "    .dataframe tbody tr th:only-of-type {\n",
              "        vertical-align: middle;\n",
              "    }\n",
              "\n",
              "    .dataframe tbody tr th {\n",
              "        vertical-align: top;\n",
              "    }\n",
              "\n",
              "    .dataframe thead th {\n",
              "        text-align: right;\n",
              "    }\n",
              "</style>\n",
              "<table border=\"1\" class=\"dataframe\">\n",
              "  <thead>\n",
              "    <tr style=\"text-align: right;\">\n",
              "      <th></th>\n",
              "      <th>Loan_ID</th>\n",
              "      <th>loan_status</th>\n",
              "      <th>Principal</th>\n",
              "      <th>terms</th>\n",
              "      <th>effective_date</th>\n",
              "      <th>due_date</th>\n",
              "      <th>paid_off_time</th>\n",
              "      <th>past_due_days</th>\n",
              "      <th>age</th>\n",
              "      <th>education</th>\n",
              "      <th>Gender</th>\n",
              "    </tr>\n",
              "  </thead>\n",
              "  <tbody>\n",
              "    <tr>\n",
              "      <th>0</th>\n",
              "      <td>xqd20166231</td>\n",
              "      <td>PAIDOFF</td>\n",
              "      <td>1000</td>\n",
              "      <td>30</td>\n",
              "      <td>2016-09-08</td>\n",
              "      <td>2016-10-07</td>\n",
              "      <td>2016-09-14 19:31:00</td>\n",
              "      <td>0.0</td>\n",
              "      <td>45</td>\n",
              "      <td>High School or Below</td>\n",
              "      <td>male</td>\n",
              "    </tr>\n",
              "    <tr>\n",
              "      <th>1</th>\n",
              "      <td>xqd20168902</td>\n",
              "      <td>PAIDOFF</td>\n",
              "      <td>1000</td>\n",
              "      <td>30</td>\n",
              "      <td>2016-09-08</td>\n",
              "      <td>2016-10-07</td>\n",
              "      <td>2016-10-07 09:00:00</td>\n",
              "      <td>0.0</td>\n",
              "      <td>50</td>\n",
              "      <td>Bachelor</td>\n",
              "      <td>female</td>\n",
              "    </tr>\n",
              "    <tr>\n",
              "      <th>2</th>\n",
              "      <td>xqd20160003</td>\n",
              "      <td>PAIDOFF</td>\n",
              "      <td>1000</td>\n",
              "      <td>30</td>\n",
              "      <td>2016-09-08</td>\n",
              "      <td>2016-10-07</td>\n",
              "      <td>2016-09-25 16:58:00</td>\n",
              "      <td>0.0</td>\n",
              "      <td>33</td>\n",
              "      <td>Bachelor</td>\n",
              "      <td>female</td>\n",
              "    </tr>\n",
              "    <tr>\n",
              "      <th>3</th>\n",
              "      <td>xqd20160004</td>\n",
              "      <td>PAIDOFF</td>\n",
              "      <td>1000</td>\n",
              "      <td>15</td>\n",
              "      <td>2016-09-08</td>\n",
              "      <td>2016-09-22</td>\n",
              "      <td>2016-09-22 20:00:00</td>\n",
              "      <td>0.0</td>\n",
              "      <td>27</td>\n",
              "      <td>college</td>\n",
              "      <td>male</td>\n",
              "    </tr>\n",
              "    <tr>\n",
              "      <th>4</th>\n",
              "      <td>xqd20160005</td>\n",
              "      <td>PAIDOFF</td>\n",
              "      <td>1000</td>\n",
              "      <td>30</td>\n",
              "      <td>2016-09-09</td>\n",
              "      <td>2016-10-08</td>\n",
              "      <td>2016-09-23 21:36:00</td>\n",
              "      <td>0.0</td>\n",
              "      <td>28</td>\n",
              "      <td>college</td>\n",
              "      <td>female</td>\n",
              "    </tr>\n",
              "    <tr>\n",
              "      <th>5</th>\n",
              "      <td>xqd20160706</td>\n",
              "      <td>PAIDOFF</td>\n",
              "      <td>300</td>\n",
              "      <td>7</td>\n",
              "      <td>2016-09-09</td>\n",
              "      <td>2016-09-15</td>\n",
              "      <td>2016-09-09 13:45:00</td>\n",
              "      <td>0.0</td>\n",
              "      <td>35</td>\n",
              "      <td>Master or Above</td>\n",
              "      <td>male</td>\n",
              "    </tr>\n",
              "    <tr>\n",
              "      <th>6</th>\n",
              "      <td>xqd20160007</td>\n",
              "      <td>PAIDOFF</td>\n",
              "      <td>1000</td>\n",
              "      <td>30</td>\n",
              "      <td>2016-09-09</td>\n",
              "      <td>2016-10-08</td>\n",
              "      <td>2016-10-07 23:07:00</td>\n",
              "      <td>0.0</td>\n",
              "      <td>29</td>\n",
              "      <td>college</td>\n",
              "      <td>male</td>\n",
              "    </tr>\n",
              "    <tr>\n",
              "      <th>7</th>\n",
              "      <td>xqd20160008</td>\n",
              "      <td>PAIDOFF</td>\n",
              "      <td>1000</td>\n",
              "      <td>30</td>\n",
              "      <td>2016-09-09</td>\n",
              "      <td>2016-10-08</td>\n",
              "      <td>2016-10-05 20:33:00</td>\n",
              "      <td>0.0</td>\n",
              "      <td>36</td>\n",
              "      <td>college</td>\n",
              "      <td>male</td>\n",
              "    </tr>\n",
              "    <tr>\n",
              "      <th>8</th>\n",
              "      <td>xqd20160909</td>\n",
              "      <td>PAIDOFF</td>\n",
              "      <td>1000</td>\n",
              "      <td>30</td>\n",
              "      <td>2016-09-09</td>\n",
              "      <td>2016-10-08</td>\n",
              "      <td>2016-10-08 16:00:00</td>\n",
              "      <td>0.0</td>\n",
              "      <td>28</td>\n",
              "      <td>college</td>\n",
              "      <td>male</td>\n",
              "    </tr>\n",
              "    <tr>\n",
              "      <th>9</th>\n",
              "      <td>xqd20160010</td>\n",
              "      <td>PAIDOFF</td>\n",
              "      <td>800</td>\n",
              "      <td>15</td>\n",
              "      <td>2016-09-10</td>\n",
              "      <td>2016-09-24</td>\n",
              "      <td>2016-09-24 13:00:00</td>\n",
              "      <td>0.0</td>\n",
              "      <td>26</td>\n",
              "      <td>college</td>\n",
              "      <td>male</td>\n",
              "    </tr>\n",
              "  </tbody>\n",
              "</table>\n",
              "</div>"
            ],
            "text/plain": [
              "       Loan_ID loan_status  Principal  terms effective_date   due_date  \\\n",
              "0  xqd20166231     PAIDOFF       1000     30     2016-09-08 2016-10-07   \n",
              "1  xqd20168902     PAIDOFF       1000     30     2016-09-08 2016-10-07   \n",
              "2  xqd20160003     PAIDOFF       1000     30     2016-09-08 2016-10-07   \n",
              "3  xqd20160004     PAIDOFF       1000     15     2016-09-08 2016-09-22   \n",
              "4  xqd20160005     PAIDOFF       1000     30     2016-09-09 2016-10-08   \n",
              "5  xqd20160706     PAIDOFF        300      7     2016-09-09 2016-09-15   \n",
              "6  xqd20160007     PAIDOFF       1000     30     2016-09-09 2016-10-08   \n",
              "7  xqd20160008     PAIDOFF       1000     30     2016-09-09 2016-10-08   \n",
              "8  xqd20160909     PAIDOFF       1000     30     2016-09-09 2016-10-08   \n",
              "9  xqd20160010     PAIDOFF        800     15     2016-09-10 2016-09-24   \n",
              "\n",
              "        paid_off_time  past_due_days  age             education  Gender  \n",
              "0 2016-09-14 19:31:00            0.0   45  High School or Below    male  \n",
              "1 2016-10-07 09:00:00            0.0   50              Bachelor  female  \n",
              "2 2016-09-25 16:58:00            0.0   33              Bachelor  female  \n",
              "3 2016-09-22 20:00:00            0.0   27               college    male  \n",
              "4 2016-09-23 21:36:00            0.0   28               college  female  \n",
              "5 2016-09-09 13:45:00            0.0   35       Master or Above    male  \n",
              "6 2016-10-07 23:07:00            0.0   29               college    male  \n",
              "7 2016-10-05 20:33:00            0.0   36               college    male  \n",
              "8 2016-10-08 16:00:00            0.0   28               college    male  \n",
              "9 2016-09-24 13:00:00            0.0   26               college    male  "
            ]
          },
          "execution_count": 14,
          "metadata": {},
          "output_type": "execute_result"
        }
      ],
      "source": [
        "df.head(10)"
      ]
    },
    {
      "cell_type": "code",
      "execution_count": null,
      "metadata": {},
      "outputs": [
        {
          "data": {
            "text/plain": [
              "age\n",
              "26    46\n",
              "29    42\n",
              "27    38\n",
              "30    37\n",
              "28    32\n",
              "33    30\n",
              "35    26\n",
              "34    25\n",
              "24    23\n",
              "31    22\n",
              "Name: count, dtype: int64"
            ]
          },
          "execution_count": 15,
          "metadata": {},
          "output_type": "execute_result"
        }
      ],
      "source": [
        "df.age.value_counts().head(10)"
      ]
    },
    {
      "cell_type": "code",
      "execution_count": null,
      "metadata": {},
      "outputs": [
        {
          "data": {
            "text/plain": [
              "past_due_days\n",
              "0.0     300\n",
              "59.0     40\n",
              "74.0     25\n",
              "2.0      22\n",
              "1.0      18\n",
              "3.0      14\n",
              "60.0     13\n",
              "4.0       8\n",
              "75.0      7\n",
              "29.0      7\n",
              "5.0       5\n",
              "76.0      3\n",
              "14.0      3\n",
              "7.0       3\n",
              "44.0      3\n",
              "27.0      3\n",
              "24.0      2\n",
              "25.0      2\n",
              "6.0       2\n",
              "12.0      2\n",
              "13.0      2\n",
              "28.0      2\n",
              "58.0      2\n",
              "61.0      2\n",
              "36.0      1\n",
              "73.0      1\n",
              "23.0      1\n",
              "38.0      1\n",
              "19.0      1\n",
              "52.0      1\n",
              "51.0      1\n",
              "9.0       1\n",
              "56.0      1\n",
              "8.0       1\n",
              "Name: count, dtype: int64"
            ]
          },
          "execution_count": 16,
          "metadata": {},
          "output_type": "execute_result"
        }
      ],
      "source": [
        "df.past_due_days.value_counts()\n"
      ]
    },
    {
      "cell_type": "code",
      "execution_count": 16,
      "metadata": {},
      "outputs": [
        {
          "data": {
            "application/vnd.plotly.v1+json": {
              "config": {
                "plotlyServerURL": "https://plot.ly"
              },
              "data": [
                {
                  "hovertemplate": "loan_status=PAIDOFF<br>age=%{x}<br>past_due_days=%{y}<br>terms=%{marker.size}<extra></extra>",
                  "legendgroup": "PAIDOFF",
                  "marker": {
                    "color": "#636efa",
                    "size": [
                      30,
                      30,
                      30,
                      15,
                      30,
                      7,
                      30,
                      30,
                      30,
                      15,
                      7,
                      15,
                      30,
                      7,
                      7,
                      15,
                      30,
                      15,
                      30,
                      30,
                      30,
                      30,
                      30,
                      15,
                      30,
                      30,
                      15,
                      15,
                      30,
                      30,
                      15,
                      30,
                      30,
                      30,
                      15,
                      15,
                      30,
                      15,
                      15,
                      30,
                      15,
                      15,
                      7,
                      15,
                      15,
                      7,
                      30,
                      30,
                      30,
                      15,
                      15,
                      30,
                      15,
                      30,
                      30,
                      15,
                      30,
                      30,
                      15,
                      15,
                      30,
                      15,
                      30,
                      30,
                      15,
                      15,
                      30,
                      30,
                      7,
                      30,
                      15,
                      15,
                      30,
                      15,
                      15,
                      30,
                      30,
                      30,
                      30,
                      30,
                      30,
                      7,
                      15,
                      15,
                      30,
                      30,
                      30,
                      30,
                      15,
                      15,
                      15,
                      7,
                      15,
                      15,
                      30,
                      30,
                      15,
                      30,
                      30,
                      30,
                      7,
                      15,
                      30,
                      15,
                      15,
                      30,
                      30,
                      30,
                      30,
                      7,
                      15,
                      30,
                      30,
                      30,
                      30,
                      15,
                      30,
                      30,
                      30,
                      15,
                      30,
                      30,
                      15,
                      15,
                      30,
                      30,
                      15,
                      15,
                      15,
                      30,
                      15,
                      15,
                      30,
                      30,
                      15,
                      30,
                      15,
                      15,
                      15,
                      30,
                      30,
                      15,
                      7,
                      15,
                      30,
                      15,
                      30,
                      7,
                      15,
                      15,
                      15,
                      15,
                      15,
                      15,
                      30,
                      30,
                      15,
                      15,
                      15,
                      30,
                      15,
                      15,
                      30,
                      15,
                      15,
                      30,
                      30,
                      30,
                      15,
                      30,
                      15,
                      30,
                      15,
                      30,
                      15,
                      15,
                      30,
                      30,
                      30,
                      30,
                      15,
                      7,
                      30,
                      15,
                      30,
                      30,
                      30,
                      15,
                      15,
                      15,
                      30,
                      30,
                      15,
                      30,
                      15,
                      30,
                      30,
                      15,
                      30,
                      30,
                      15,
                      30,
                      15,
                      15,
                      30,
                      7,
                      30,
                      30,
                      7,
                      30,
                      15,
                      30,
                      30,
                      30,
                      30,
                      30,
                      15,
                      15,
                      15,
                      30,
                      15,
                      30,
                      30,
                      15,
                      30,
                      30,
                      15,
                      15,
                      15,
                      15,
                      15,
                      7,
                      30,
                      30,
                      15,
                      30,
                      30,
                      15,
                      15,
                      15,
                      30,
                      15,
                      15,
                      15,
                      7,
                      30,
                      15,
                      15,
                      30,
                      15,
                      15,
                      30,
                      30,
                      7,
                      30,
                      30,
                      15,
                      15,
                      7,
                      30,
                      15,
                      15,
                      30,
                      15,
                      15,
                      15,
                      15,
                      15,
                      30,
                      30,
                      30,
                      30,
                      30,
                      30,
                      30,
                      15,
                      15,
                      30,
                      15,
                      30,
                      15,
                      15,
                      30,
                      30,
                      15,
                      30,
                      30,
                      30,
                      30,
                      15,
                      15,
                      30,
                      30,
                      30,
                      30,
                      30,
                      15,
                      30,
                      30,
                      30
                    ],
                    "sizemode": "area",
                    "sizeref": 0.3,
                    "symbol": "circle"
                  },
                  "mode": "markers",
                  "name": "PAIDOFF",
                  "orientation": "v",
                  "showlegend": true,
                  "type": "scatter",
                  "x": [
                    45,
                    50,
                    33,
                    27,
                    28,
                    35,
                    29,
                    36,
                    28,
                    26,
                    29,
                    39,
                    26,
                    26,
                    27,
                    26,
                    40,
                    32,
                    32,
                    26,
                    26,
                    43,
                    25,
                    26,
                    26,
                    29,
                    39,
                    34,
                    31,
                    33,
                    33,
                    37,
                    27,
                    37,
                    33,
                    29,
                    27,
                    33,
                    24,
                    21,
                    32,
                    30,
                    31,
                    30,
                    24,
                    35,
                    22,
                    32,
                    32,
                    50,
                    27,
                    35,
                    35,
                    34,
                    21,
                    25,
                    27,
                    26,
                    44,
                    39,
                    34,
                    37,
                    34,
                    45,
                    24,
                    28,
                    28,
                    37,
                    35,
                    43,
                    29,
                    29,
                    33,
                    34,
                    25,
                    30,
                    31,
                    35,
                    37,
                    44,
                    28,
                    25,
                    29,
                    33,
                    37,
                    33,
                    24,
                    27,
                    43,
                    46,
                    34,
                    32,
                    38,
                    27,
                    33,
                    36,
                    26,
                    34,
                    22,
                    31,
                    29,
                    38,
                    30,
                    45,
                    35,
                    30,
                    31,
                    31,
                    28,
                    29,
                    29,
                    27,
                    27,
                    33,
                    28,
                    25,
                    40,
                    23,
                    35,
                    24,
                    34,
                    22,
                    20,
                    23,
                    33,
                    26,
                    28,
                    43,
                    34,
                    38,
                    26,
                    43,
                    26,
                    33,
                    24,
                    30,
                    32,
                    22,
                    47,
                    20,
                    28,
                    35,
                    27,
                    33,
                    30,
                    31,
                    26,
                    37,
                    26,
                    35,
                    29,
                    23,
                    23,
                    30,
                    34,
                    36,
                    26,
                    29,
                    28,
                    27,
                    24,
                    31,
                    28,
                    27,
                    25,
                    24,
                    28,
                    28,
                    35,
                    38,
                    38,
                    29,
                    35,
                    24,
                    39,
                    25,
                    38,
                    30,
                    21,
                    46,
                    31,
                    29,
                    35,
                    30,
                    27,
                    31,
                    33,
                    34,
                    28,
                    42,
                    32,
                    30,
                    25,
                    27,
                    21,
                    24,
                    29,
                    40,
                    29,
                    29,
                    30,
                    26,
                    36,
                    27,
                    20,
                    26,
                    26,
                    27,
                    23,
                    39,
                    27,
                    30,
                    33,
                    27,
                    35,
                    29,
                    50,
                    31,
                    31,
                    29,
                    35,
                    39,
                    29,
                    30,
                    33,
                    26,
                    25,
                    37,
                    26,
                    26,
                    27,
                    34,
                    37,
                    36,
                    33,
                    30,
                    30,
                    36,
                    29,
                    36,
                    32,
                    29,
                    36,
                    30,
                    31,
                    19,
                    26,
                    34,
                    35,
                    35,
                    38,
                    29,
                    28,
                    22,
                    32,
                    31,
                    28,
                    37,
                    25,
                    19,
                    51,
                    29,
                    23,
                    30,
                    23,
                    34,
                    31,
                    24,
                    42,
                    40,
                    29,
                    32,
                    28,
                    35,
                    30,
                    44,
                    37,
                    31,
                    36,
                    31,
                    42,
                    28,
                    30,
                    30,
                    24,
                    34,
                    29,
                    38,
                    34,
                    28,
                    30,
                    41,
                    29,
                    37,
                    36,
                    30,
                    27,
                    29,
                    40,
                    28
                  ],
                  "xaxis": "x",
                  "y": [
                    0,
                    0,
                    0,
                    0,
                    0,
                    0,
                    0,
                    0,
                    0,
                    0,
                    0,
                    0,
                    0,
                    0,
                    0,
                    0,
                    0,
                    0,
                    0,
                    0,
                    0,
                    0,
                    0,
                    0,
                    0,
                    0,
                    0,
                    0,
                    0,
                    0,
                    0,
                    0,
                    0,
                    0,
                    0,
                    0,
                    0,
                    0,
                    0,
                    0,
                    0,
                    0,
                    0,
                    0,
                    0,
                    0,
                    0,
                    0,
                    0,
                    0,
                    0,
                    0,
                    0,
                    0,
                    0,
                    0,
                    0,
                    0,
                    0,
                    0,
                    0,
                    0,
                    0,
                    0,
                    0,
                    0,
                    0,
                    0,
                    0,
                    0,
                    0,
                    0,
                    0,
                    0,
                    0,
                    0,
                    0,
                    0,
                    0,
                    0,
                    0,
                    0,
                    0,
                    0,
                    0,
                    0,
                    0,
                    0,
                    0,
                    0,
                    0,
                    0,
                    0,
                    0,
                    0,
                    0,
                    0,
                    0,
                    0,
                    0,
                    0,
                    0,
                    0,
                    0,
                    0,
                    0,
                    0,
                    0,
                    0,
                    0,
                    0,
                    0,
                    0,
                    0,
                    0,
                    0,
                    0,
                    0,
                    0,
                    0,
                    0,
                    0,
                    0,
                    0,
                    0,
                    0,
                    0,
                    0,
                    0,
                    0,
                    0,
                    0,
                    0,
                    0,
                    0,
                    0,
                    0,
                    0,
                    0,
                    0,
                    0,
                    0,
                    0,
                    0,
                    0,
                    0,
                    0,
                    0,
                    0,
                    0,
                    0,
                    0,
                    0,
                    0,
                    0,
                    0,
                    0,
                    0,
                    0,
                    0,
                    0,
                    0,
                    0,
                    0,
                    0,
                    0,
                    0,
                    0,
                    0,
                    0,
                    0,
                    0,
                    0,
                    0,
                    0,
                    0,
                    0,
                    0,
                    0,
                    0,
                    0,
                    0,
                    0,
                    0,
                    0,
                    0,
                    0,
                    0,
                    0,
                    0,
                    0,
                    0,
                    0,
                    0,
                    0,
                    0,
                    0,
                    0,
                    0,
                    0,
                    0,
                    0,
                    0,
                    0,
                    0,
                    0,
                    0,
                    0,
                    0,
                    0,
                    0,
                    0,
                    0,
                    0,
                    0,
                    0,
                    0,
                    0,
                    0,
                    0,
                    0,
                    0,
                    0,
                    0,
                    0,
                    0,
                    0,
                    0,
                    0,
                    0,
                    0,
                    0,
                    0,
                    0,
                    0,
                    0,
                    0,
                    0,
                    0,
                    0,
                    0,
                    0,
                    0,
                    0,
                    0,
                    0,
                    0,
                    0,
                    0,
                    0,
                    0,
                    0,
                    0,
                    0,
                    0,
                    0,
                    0,
                    0,
                    0,
                    0,
                    0,
                    0,
                    0,
                    0,
                    0,
                    0,
                    0,
                    0,
                    0,
                    0,
                    0,
                    0,
                    0,
                    0,
                    0,
                    0,
                    0,
                    0,
                    0,
                    0,
                    0,
                    0,
                    0,
                    0,
                    0,
                    0,
                    0,
                    0,
                    0,
                    0,
                    0,
                    0,
                    0,
                    0,
                    0,
                    0,
                    0,
                    0,
                    0,
                    0
                  ],
                  "yaxis": "y"
                },
                {
                  "hovertemplate": "loan_status=COLLECTION<br>age=%{x}<br>past_due_days=%{y}<br>terms=%{marker.size}<extra></extra>",
                  "legendgroup": "COLLECTION",
                  "marker": {
                    "color": "#EF553B",
                    "size": [
                      15,
                      30,
                      30,
                      15,
                      15,
                      15,
                      15,
                      30,
                      30,
                      15,
                      30,
                      15,
                      30,
                      30,
                      30,
                      15,
                      30,
                      15,
                      30,
                      15,
                      30,
                      30,
                      30,
                      15,
                      15,
                      30,
                      15,
                      30,
                      30,
                      30,
                      15,
                      15,
                      30,
                      30,
                      30,
                      30,
                      30,
                      30,
                      15,
                      15,
                      30,
                      30,
                      15,
                      30,
                      15,
                      30,
                      30,
                      15,
                      30,
                      15,
                      30,
                      15,
                      30,
                      30,
                      30,
                      15,
                      30,
                      30,
                      30,
                      30,
                      30,
                      15,
                      30,
                      15,
                      15,
                      30,
                      30,
                      15,
                      30,
                      30,
                      15,
                      30,
                      15,
                      15,
                      30,
                      15,
                      15,
                      30,
                      30,
                      30,
                      30,
                      15,
                      15,
                      30,
                      30,
                      30,
                      15,
                      30,
                      15,
                      15,
                      15,
                      15,
                      30,
                      30,
                      15,
                      30,
                      30,
                      15,
                      30,
                      30
                    ],
                    "sizemode": "area",
                    "sizeref": 0.3,
                    "symbol": "diamond"
                  },
                  "mode": "markers",
                  "name": "COLLECTION",
                  "orientation": "v",
                  "showlegend": true,
                  "type": "scatter",
                  "x": [
                    29,
                    37,
                    33,
                    27,
                    24,
                    31,
                    28,
                    40,
                    33,
                    41,
                    30,
                    26,
                    27,
                    20,
                    24,
                    26,
                    30,
                    29,
                    22,
                    24,
                    25,
                    28,
                    37,
                    32,
                    34,
                    28,
                    35,
                    27,
                    24,
                    44,
                    31,
                    27,
                    21,
                    30,
                    38,
                    34,
                    31,
                    23,
                    27,
                    39,
                    30,
                    25,
                    50,
                    23,
                    38,
                    27,
                    31,
                    40,
                    32,
                    29,
                    26,
                    25,
                    35,
                    41,
                    37,
                    34,
                    45,
                    26,
                    32,
                    28,
                    34,
                    29,
                    26,
                    26,
                    22,
                    27,
                    33,
                    28,
                    24,
                    37,
                    36,
                    18,
                    25,
                    40,
                    29,
                    26,
                    30,
                    33,
                    30,
                    32,
                    25,
                    35,
                    30,
                    26,
                    29,
                    26,
                    46,
                    36,
                    38,
                    32,
                    30,
                    35,
                    29,
                    26,
                    32,
                    25,
                    33,
                    39,
                    28,
                    26
                  ],
                  "xaxis": "x",
                  "y": [
                    76,
                    61,
                    61,
                    76,
                    76,
                    75,
                    60,
                    60,
                    60,
                    75,
                    60,
                    75,
                    60,
                    60,
                    60,
                    60,
                    60,
                    75,
                    60,
                    75,
                    60,
                    60,
                    60,
                    75,
                    75,
                    59,
                    74,
                    29,
                    59,
                    59,
                    44,
                    74,
                    59,
                    59,
                    59,
                    59,
                    59,
                    59,
                    74,
                    74,
                    59,
                    59,
                    74,
                    59,
                    74,
                    59,
                    29,
                    74,
                    59,
                    74,
                    59,
                    74,
                    59,
                    59,
                    59,
                    59,
                    59,
                    59,
                    59,
                    59,
                    59,
                    74,
                    59,
                    74,
                    74,
                    59,
                    59,
                    74,
                    59,
                    59,
                    74,
                    59,
                    74,
                    74,
                    59,
                    74,
                    74,
                    59,
                    59,
                    59,
                    59,
                    74,
                    74,
                    59,
                    59,
                    29,
                    74,
                    59,
                    74,
                    44,
                    74,
                    74,
                    59,
                    29,
                    74,
                    59,
                    58,
                    73,
                    28,
                    58
                  ],
                  "yaxis": "y"
                },
                {
                  "hovertemplate": "loan_status=COLLECTION_PAIDOFF<br>age=%{x}<br>past_due_days=%{y}<br>terms=%{marker.size}<extra></extra>",
                  "legendgroup": "COLLECTION_PAIDOFF",
                  "marker": {
                    "color": "#00cc96",
                    "size": [
                      30,
                      15,
                      30,
                      15,
                      15,
                      30,
                      15,
                      30,
                      30,
                      15,
                      15,
                      30,
                      15,
                      15,
                      30,
                      15,
                      30,
                      15,
                      15,
                      30,
                      15,
                      30,
                      15,
                      15,
                      30,
                      30,
                      30,
                      30,
                      30,
                      15,
                      15,
                      15,
                      7,
                      30,
                      30,
                      30,
                      30,
                      30,
                      30,
                      30,
                      30,
                      15,
                      30,
                      30,
                      30,
                      15,
                      30,
                      30,
                      30,
                      30,
                      30,
                      15,
                      15,
                      30,
                      30,
                      15,
                      30,
                      30,
                      30,
                      15,
                      15,
                      30,
                      30,
                      15,
                      30,
                      30,
                      30,
                      15,
                      30,
                      30,
                      15,
                      30,
                      15,
                      30,
                      15,
                      30,
                      15,
                      30,
                      15,
                      30,
                      15,
                      15,
                      15,
                      30,
                      30,
                      30,
                      15,
                      30,
                      15,
                      30,
                      30,
                      30,
                      30,
                      15,
                      30,
                      30,
                      15,
                      15,
                      30,
                      30
                    ],
                    "sizemode": "area",
                    "sizeref": 0.3,
                    "symbol": "square"
                  },
                  "mode": "markers",
                  "name": "COLLECTION_PAIDOFF",
                  "orientation": "v",
                  "showlegend": true,
                  "type": "scatter",
                  "x": [
                    26,
                    28,
                    39,
                    29,
                    33,
                    27,
                    34,
                    26,
                    28,
                    32,
                    27,
                    21,
                    39,
                    38,
                    36,
                    33,
                    21,
                    25,
                    29,
                    33,
                    47,
                    33,
                    23,
                    24,
                    27,
                    32,
                    33,
                    27,
                    35,
                    37,
                    28,
                    33,
                    34,
                    29,
                    34,
                    29,
                    24,
                    34,
                    25,
                    24,
                    30,
                    28,
                    24,
                    26,
                    24,
                    29,
                    31,
                    26,
                    25,
                    29,
                    38,
                    41,
                    26,
                    26,
                    35,
                    37,
                    25,
                    24,
                    34,
                    33,
                    38,
                    38,
                    26,
                    37,
                    42,
                    49,
                    26,
                    41,
                    38,
                    26,
                    32,
                    27,
                    33,
                    30,
                    26,
                    35,
                    46,
                    27,
                    22,
                    27,
                    30,
                    27,
                    47,
                    30,
                    26,
                    38,
                    46,
                    35,
                    45,
                    36,
                    38,
                    27,
                    27,
                    29,
                    30,
                    28,
                    26,
                    30,
                    38,
                    28
                  ],
                  "xaxis": "x",
                  "y": [
                    2,
                    4,
                    13,
                    5,
                    3,
                    12,
                    2,
                    27,
                    44,
                    5,
                    1,
                    27,
                    2,
                    1,
                    2,
                    2,
                    1,
                    3,
                    12,
                    25,
                    3,
                    2,
                    4,
                    2,
                    1,
                    24,
                    1,
                    2,
                    2,
                    1,
                    3,
                    4,
                    2,
                    2,
                    1,
                    1,
                    36,
                    1,
                    7,
                    5,
                    14,
                    2,
                    1,
                    28,
                    2,
                    2,
                    25,
                    23,
                    3,
                    1,
                    3,
                    4,
                    3,
                    3,
                    6,
                    2,
                    38,
                    19,
                    2,
                    2,
                    2,
                    7,
                    5,
                    4,
                    1,
                    1,
                    4,
                    1,
                    4,
                    52,
                    2,
                    24,
                    51,
                    3,
                    2,
                    29,
                    5,
                    9,
                    27,
                    1,
                    29,
                    3,
                    1,
                    7,
                    4,
                    3,
                    56,
                    2,
                    13,
                    1,
                    6,
                    29,
                    14,
                    3,
                    2,
                    3,
                    14,
                    3,
                    1,
                    8
                  ],
                  "yaxis": "y"
                }
              ],
              "layout": {
                "legend": {
                  "itemsizing": "constant",
                  "title": {
                    "text": "loan_status"
                  },
                  "tracegroupgap": 0
                },
                "template": {
                  "data": {
                    "bar": [
                      {
                        "error_x": {
                          "color": "#2a3f5f"
                        },
                        "error_y": {
                          "color": "#2a3f5f"
                        },
                        "marker": {
                          "line": {
                            "color": "#E5ECF6",
                            "width": 0.5
                          },
                          "pattern": {
                            "fillmode": "overlay",
                            "size": 10,
                            "solidity": 0.2
                          }
                        },
                        "type": "bar"
                      }
                    ],
                    "barpolar": [
                      {
                        "marker": {
                          "line": {
                            "color": "#E5ECF6",
                            "width": 0.5
                          },
                          "pattern": {
                            "fillmode": "overlay",
                            "size": 10,
                            "solidity": 0.2
                          }
                        },
                        "type": "barpolar"
                      }
                    ],
                    "carpet": [
                      {
                        "aaxis": {
                          "endlinecolor": "#2a3f5f",
                          "gridcolor": "white",
                          "linecolor": "white",
                          "minorgridcolor": "white",
                          "startlinecolor": "#2a3f5f"
                        },
                        "baxis": {
                          "endlinecolor": "#2a3f5f",
                          "gridcolor": "white",
                          "linecolor": "white",
                          "minorgridcolor": "white",
                          "startlinecolor": "#2a3f5f"
                        },
                        "type": "carpet"
                      }
                    ],
                    "choropleth": [
                      {
                        "colorbar": {
                          "outlinewidth": 0,
                          "ticks": ""
                        },
                        "type": "choropleth"
                      }
                    ],
                    "contour": [
                      {
                        "colorbar": {
                          "outlinewidth": 0,
                          "ticks": ""
                        },
                        "colorscale": [
                          [
                            0,
                            "#0d0887"
                          ],
                          [
                            0.1111111111111111,
                            "#46039f"
                          ],
                          [
                            0.2222222222222222,
                            "#7201a8"
                          ],
                          [
                            0.3333333333333333,
                            "#9c179e"
                          ],
                          [
                            0.4444444444444444,
                            "#bd3786"
                          ],
                          [
                            0.5555555555555556,
                            "#d8576b"
                          ],
                          [
                            0.6666666666666666,
                            "#ed7953"
                          ],
                          [
                            0.7777777777777778,
                            "#fb9f3a"
                          ],
                          [
                            0.8888888888888888,
                            "#fdca26"
                          ],
                          [
                            1,
                            "#f0f921"
                          ]
                        ],
                        "type": "contour"
                      }
                    ],
                    "contourcarpet": [
                      {
                        "colorbar": {
                          "outlinewidth": 0,
                          "ticks": ""
                        },
                        "type": "contourcarpet"
                      }
                    ],
                    "heatmap": [
                      {
                        "colorbar": {
                          "outlinewidth": 0,
                          "ticks": ""
                        },
                        "colorscale": [
                          [
                            0,
                            "#0d0887"
                          ],
                          [
                            0.1111111111111111,
                            "#46039f"
                          ],
                          [
                            0.2222222222222222,
                            "#7201a8"
                          ],
                          [
                            0.3333333333333333,
                            "#9c179e"
                          ],
                          [
                            0.4444444444444444,
                            "#bd3786"
                          ],
                          [
                            0.5555555555555556,
                            "#d8576b"
                          ],
                          [
                            0.6666666666666666,
                            "#ed7953"
                          ],
                          [
                            0.7777777777777778,
                            "#fb9f3a"
                          ],
                          [
                            0.8888888888888888,
                            "#fdca26"
                          ],
                          [
                            1,
                            "#f0f921"
                          ]
                        ],
                        "type": "heatmap"
                      }
                    ],
                    "heatmapgl": [
                      {
                        "colorbar": {
                          "outlinewidth": 0,
                          "ticks": ""
                        },
                        "colorscale": [
                          [
                            0,
                            "#0d0887"
                          ],
                          [
                            0.1111111111111111,
                            "#46039f"
                          ],
                          [
                            0.2222222222222222,
                            "#7201a8"
                          ],
                          [
                            0.3333333333333333,
                            "#9c179e"
                          ],
                          [
                            0.4444444444444444,
                            "#bd3786"
                          ],
                          [
                            0.5555555555555556,
                            "#d8576b"
                          ],
                          [
                            0.6666666666666666,
                            "#ed7953"
                          ],
                          [
                            0.7777777777777778,
                            "#fb9f3a"
                          ],
                          [
                            0.8888888888888888,
                            "#fdca26"
                          ],
                          [
                            1,
                            "#f0f921"
                          ]
                        ],
                        "type": "heatmapgl"
                      }
                    ],
                    "histogram": [
                      {
                        "marker": {
                          "pattern": {
                            "fillmode": "overlay",
                            "size": 10,
                            "solidity": 0.2
                          }
                        },
                        "type": "histogram"
                      }
                    ],
                    "histogram2d": [
                      {
                        "colorbar": {
                          "outlinewidth": 0,
                          "ticks": ""
                        },
                        "colorscale": [
                          [
                            0,
                            "#0d0887"
                          ],
                          [
                            0.1111111111111111,
                            "#46039f"
                          ],
                          [
                            0.2222222222222222,
                            "#7201a8"
                          ],
                          [
                            0.3333333333333333,
                            "#9c179e"
                          ],
                          [
                            0.4444444444444444,
                            "#bd3786"
                          ],
                          [
                            0.5555555555555556,
                            "#d8576b"
                          ],
                          [
                            0.6666666666666666,
                            "#ed7953"
                          ],
                          [
                            0.7777777777777778,
                            "#fb9f3a"
                          ],
                          [
                            0.8888888888888888,
                            "#fdca26"
                          ],
                          [
                            1,
                            "#f0f921"
                          ]
                        ],
                        "type": "histogram2d"
                      }
                    ],
                    "histogram2dcontour": [
                      {
                        "colorbar": {
                          "outlinewidth": 0,
                          "ticks": ""
                        },
                        "colorscale": [
                          [
                            0,
                            "#0d0887"
                          ],
                          [
                            0.1111111111111111,
                            "#46039f"
                          ],
                          [
                            0.2222222222222222,
                            "#7201a8"
                          ],
                          [
                            0.3333333333333333,
                            "#9c179e"
                          ],
                          [
                            0.4444444444444444,
                            "#bd3786"
                          ],
                          [
                            0.5555555555555556,
                            "#d8576b"
                          ],
                          [
                            0.6666666666666666,
                            "#ed7953"
                          ],
                          [
                            0.7777777777777778,
                            "#fb9f3a"
                          ],
                          [
                            0.8888888888888888,
                            "#fdca26"
                          ],
                          [
                            1,
                            "#f0f921"
                          ]
                        ],
                        "type": "histogram2dcontour"
                      }
                    ],
                    "mesh3d": [
                      {
                        "colorbar": {
                          "outlinewidth": 0,
                          "ticks": ""
                        },
                        "type": "mesh3d"
                      }
                    ],
                    "parcoords": [
                      {
                        "line": {
                          "colorbar": {
                            "outlinewidth": 0,
                            "ticks": ""
                          }
                        },
                        "type": "parcoords"
                      }
                    ],
                    "pie": [
                      {
                        "automargin": true,
                        "type": "pie"
                      }
                    ],
                    "scatter": [
                      {
                        "fillpattern": {
                          "fillmode": "overlay",
                          "size": 10,
                          "solidity": 0.2
                        },
                        "type": "scatter"
                      }
                    ],
                    "scatter3d": [
                      {
                        "line": {
                          "colorbar": {
                            "outlinewidth": 0,
                            "ticks": ""
                          }
                        },
                        "marker": {
                          "colorbar": {
                            "outlinewidth": 0,
                            "ticks": ""
                          }
                        },
                        "type": "scatter3d"
                      }
                    ],
                    "scattercarpet": [
                      {
                        "marker": {
                          "colorbar": {
                            "outlinewidth": 0,
                            "ticks": ""
                          }
                        },
                        "type": "scattercarpet"
                      }
                    ],
                    "scattergeo": [
                      {
                        "marker": {
                          "colorbar": {
                            "outlinewidth": 0,
                            "ticks": ""
                          }
                        },
                        "type": "scattergeo"
                      }
                    ],
                    "scattergl": [
                      {
                        "marker": {
                          "colorbar": {
                            "outlinewidth": 0,
                            "ticks": ""
                          }
                        },
                        "type": "scattergl"
                      }
                    ],
                    "scattermapbox": [
                      {
                        "marker": {
                          "colorbar": {
                            "outlinewidth": 0,
                            "ticks": ""
                          }
                        },
                        "type": "scattermapbox"
                      }
                    ],
                    "scatterpolar": [
                      {
                        "marker": {
                          "colorbar": {
                            "outlinewidth": 0,
                            "ticks": ""
                          }
                        },
                        "type": "scatterpolar"
                      }
                    ],
                    "scatterpolargl": [
                      {
                        "marker": {
                          "colorbar": {
                            "outlinewidth": 0,
                            "ticks": ""
                          }
                        },
                        "type": "scatterpolargl"
                      }
                    ],
                    "scatterternary": [
                      {
                        "marker": {
                          "colorbar": {
                            "outlinewidth": 0,
                            "ticks": ""
                          }
                        },
                        "type": "scatterternary"
                      }
                    ],
                    "surface": [
                      {
                        "colorbar": {
                          "outlinewidth": 0,
                          "ticks": ""
                        },
                        "colorscale": [
                          [
                            0,
                            "#0d0887"
                          ],
                          [
                            0.1111111111111111,
                            "#46039f"
                          ],
                          [
                            0.2222222222222222,
                            "#7201a8"
                          ],
                          [
                            0.3333333333333333,
                            "#9c179e"
                          ],
                          [
                            0.4444444444444444,
                            "#bd3786"
                          ],
                          [
                            0.5555555555555556,
                            "#d8576b"
                          ],
                          [
                            0.6666666666666666,
                            "#ed7953"
                          ],
                          [
                            0.7777777777777778,
                            "#fb9f3a"
                          ],
                          [
                            0.8888888888888888,
                            "#fdca26"
                          ],
                          [
                            1,
                            "#f0f921"
                          ]
                        ],
                        "type": "surface"
                      }
                    ],
                    "table": [
                      {
                        "cells": {
                          "fill": {
                            "color": "#EBF0F8"
                          },
                          "line": {
                            "color": "white"
                          }
                        },
                        "header": {
                          "fill": {
                            "color": "#C8D4E3"
                          },
                          "line": {
                            "color": "white"
                          }
                        },
                        "type": "table"
                      }
                    ]
                  },
                  "layout": {
                    "annotationdefaults": {
                      "arrowcolor": "#2a3f5f",
                      "arrowhead": 0,
                      "arrowwidth": 1
                    },
                    "autotypenumbers": "strict",
                    "coloraxis": {
                      "colorbar": {
                        "outlinewidth": 0,
                        "ticks": ""
                      }
                    },
                    "colorscale": {
                      "diverging": [
                        [
                          0,
                          "#8e0152"
                        ],
                        [
                          0.1,
                          "#c51b7d"
                        ],
                        [
                          0.2,
                          "#de77ae"
                        ],
                        [
                          0.3,
                          "#f1b6da"
                        ],
                        [
                          0.4,
                          "#fde0ef"
                        ],
                        [
                          0.5,
                          "#f7f7f7"
                        ],
                        [
                          0.6,
                          "#e6f5d0"
                        ],
                        [
                          0.7,
                          "#b8e186"
                        ],
                        [
                          0.8,
                          "#7fbc41"
                        ],
                        [
                          0.9,
                          "#4d9221"
                        ],
                        [
                          1,
                          "#276419"
                        ]
                      ],
                      "sequential": [
                        [
                          0,
                          "#0d0887"
                        ],
                        [
                          0.1111111111111111,
                          "#46039f"
                        ],
                        [
                          0.2222222222222222,
                          "#7201a8"
                        ],
                        [
                          0.3333333333333333,
                          "#9c179e"
                        ],
                        [
                          0.4444444444444444,
                          "#bd3786"
                        ],
                        [
                          0.5555555555555556,
                          "#d8576b"
                        ],
                        [
                          0.6666666666666666,
                          "#ed7953"
                        ],
                        [
                          0.7777777777777778,
                          "#fb9f3a"
                        ],
                        [
                          0.8888888888888888,
                          "#fdca26"
                        ],
                        [
                          1,
                          "#f0f921"
                        ]
                      ],
                      "sequentialminus": [
                        [
                          0,
                          "#0d0887"
                        ],
                        [
                          0.1111111111111111,
                          "#46039f"
                        ],
                        [
                          0.2222222222222222,
                          "#7201a8"
                        ],
                        [
                          0.3333333333333333,
                          "#9c179e"
                        ],
                        [
                          0.4444444444444444,
                          "#bd3786"
                        ],
                        [
                          0.5555555555555556,
                          "#d8576b"
                        ],
                        [
                          0.6666666666666666,
                          "#ed7953"
                        ],
                        [
                          0.7777777777777778,
                          "#fb9f3a"
                        ],
                        [
                          0.8888888888888888,
                          "#fdca26"
                        ],
                        [
                          1,
                          "#f0f921"
                        ]
                      ]
                    },
                    "colorway": [
                      "#636efa",
                      "#EF553B",
                      "#00cc96",
                      "#ab63fa",
                      "#FFA15A",
                      "#19d3f3",
                      "#FF6692",
                      "#B6E880",
                      "#FF97FF",
                      "#FECB52"
                    ],
                    "font": {
                      "color": "#2a3f5f"
                    },
                    "geo": {
                      "bgcolor": "white",
                      "lakecolor": "white",
                      "landcolor": "#E5ECF6",
                      "showlakes": true,
                      "showland": true,
                      "subunitcolor": "white"
                    },
                    "hoverlabel": {
                      "align": "left"
                    },
                    "hovermode": "closest",
                    "mapbox": {
                      "style": "light"
                    },
                    "paper_bgcolor": "white",
                    "plot_bgcolor": "#E5ECF6",
                    "polar": {
                      "angularaxis": {
                        "gridcolor": "white",
                        "linecolor": "white",
                        "ticks": ""
                      },
                      "bgcolor": "#E5ECF6",
                      "radialaxis": {
                        "gridcolor": "white",
                        "linecolor": "white",
                        "ticks": ""
                      }
                    },
                    "scene": {
                      "xaxis": {
                        "backgroundcolor": "#E5ECF6",
                        "gridcolor": "white",
                        "gridwidth": 2,
                        "linecolor": "white",
                        "showbackground": true,
                        "ticks": "",
                        "zerolinecolor": "white"
                      },
                      "yaxis": {
                        "backgroundcolor": "#E5ECF6",
                        "gridcolor": "white",
                        "gridwidth": 2,
                        "linecolor": "white",
                        "showbackground": true,
                        "ticks": "",
                        "zerolinecolor": "white"
                      },
                      "zaxis": {
                        "backgroundcolor": "#E5ECF6",
                        "gridcolor": "white",
                        "gridwidth": 2,
                        "linecolor": "white",
                        "showbackground": true,
                        "ticks": "",
                        "zerolinecolor": "white"
                      }
                    },
                    "shapedefaults": {
                      "line": {
                        "color": "#2a3f5f"
                      }
                    },
                    "ternary": {
                      "aaxis": {
                        "gridcolor": "white",
                        "linecolor": "white",
                        "ticks": ""
                      },
                      "baxis": {
                        "gridcolor": "white",
                        "linecolor": "white",
                        "ticks": ""
                      },
                      "bgcolor": "#E5ECF6",
                      "caxis": {
                        "gridcolor": "white",
                        "linecolor": "white",
                        "ticks": ""
                      }
                    },
                    "title": {
                      "x": 0.05
                    },
                    "xaxis": {
                      "automargin": true,
                      "gridcolor": "white",
                      "linecolor": "white",
                      "ticks": "",
                      "title": {
                        "standoff": 15
                      },
                      "zerolinecolor": "white",
                      "zerolinewidth": 2
                    },
                    "yaxis": {
                      "automargin": true,
                      "gridcolor": "white",
                      "linecolor": "white",
                      "ticks": "",
                      "title": {
                        "standoff": 15
                      },
                      "zerolinecolor": "white",
                      "zerolinewidth": 2
                    }
                  }
                },
                "title": {
                  "text": "Past Due Days vs Age"
                },
                "xaxis": {
                  "anchor": "y",
                  "domain": [
                    0,
                    1
                  ],
                  "title": {
                    "text": "age"
                  }
                },
                "yaxis": {
                  "anchor": "x",
                  "domain": [
                    0,
                    1
                  ],
                  "title": {
                    "text": "past_due_days"
                  }
                }
              }
            }
          },
          "metadata": {},
          "output_type": "display_data"
        }
      ],
      "source": [
        "# using plotly\n",
        "px.scatter(df, x='age', y='past_due_days', \n",
        "           color='loan_status', symbol='loan_status', size='terms',\n",
        "           size_max=10,\n",
        "           title='Past Due Days vs Age')"
      ]
    },
    {
      "cell_type": "markdown",
      "metadata": {
        "id": "PC6Ufa4YTl0Q"
      },
      "source": [
        "### 3. Bar Chart"
      ]
    },
    {
      "cell_type": "code",
      "execution_count": 17,
      "metadata": {},
      "outputs": [
        {
          "data": {
            "text/html": [
              "<div>\n",
              "<style scoped>\n",
              "    .dataframe tbody tr th:only-of-type {\n",
              "        vertical-align: middle;\n",
              "    }\n",
              "\n",
              "    .dataframe tbody tr th {\n",
              "        vertical-align: top;\n",
              "    }\n",
              "\n",
              "    .dataframe thead th {\n",
              "        text-align: right;\n",
              "    }\n",
              "</style>\n",
              "<table border=\"1\" class=\"dataframe\">\n",
              "  <thead>\n",
              "    <tr style=\"text-align: right;\">\n",
              "      <th></th>\n",
              "      <th>Loan_ID</th>\n",
              "      <th>loan_status</th>\n",
              "      <th>Principal</th>\n",
              "      <th>terms</th>\n",
              "      <th>effective_date</th>\n",
              "      <th>due_date</th>\n",
              "      <th>paid_off_time</th>\n",
              "      <th>past_due_days</th>\n",
              "      <th>age</th>\n",
              "      <th>education</th>\n",
              "      <th>Gender</th>\n",
              "    </tr>\n",
              "  </thead>\n",
              "  <tbody>\n",
              "    <tr>\n",
              "      <th>0</th>\n",
              "      <td>xqd20166231</td>\n",
              "      <td>PAIDOFF</td>\n",
              "      <td>1000</td>\n",
              "      <td>30</td>\n",
              "      <td>2016-09-08</td>\n",
              "      <td>2016-10-07</td>\n",
              "      <td>2016-09-14 00:00:00</td>\n",
              "      <td>0.0</td>\n",
              "      <td>45</td>\n",
              "      <td>High School or Below</td>\n",
              "      <td>male</td>\n",
              "    </tr>\n",
              "    <tr>\n",
              "      <th>1</th>\n",
              "      <td>xqd20168902</td>\n",
              "      <td>PAIDOFF</td>\n",
              "      <td>1000</td>\n",
              "      <td>30</td>\n",
              "      <td>2016-09-08</td>\n",
              "      <td>2016-10-07</td>\n",
              "      <td>2016-10-07 00:00:00</td>\n",
              "      <td>0.0</td>\n",
              "      <td>50</td>\n",
              "      <td>Bachelor</td>\n",
              "      <td>female</td>\n",
              "    </tr>\n",
              "    <tr>\n",
              "      <th>2</th>\n",
              "      <td>xqd20160003</td>\n",
              "      <td>PAIDOFF</td>\n",
              "      <td>1000</td>\n",
              "      <td>30</td>\n",
              "      <td>2016-09-08</td>\n",
              "      <td>2016-10-07</td>\n",
              "      <td>2016-09-25 00:00:00</td>\n",
              "      <td>0.0</td>\n",
              "      <td>33</td>\n",
              "      <td>Bachelor</td>\n",
              "      <td>female</td>\n",
              "    </tr>\n",
              "    <tr>\n",
              "      <th>3</th>\n",
              "      <td>xqd20160004</td>\n",
              "      <td>PAIDOFF</td>\n",
              "      <td>1000</td>\n",
              "      <td>15</td>\n",
              "      <td>2016-09-08</td>\n",
              "      <td>2016-09-22</td>\n",
              "      <td>2016-09-22 00:00:00</td>\n",
              "      <td>0.0</td>\n",
              "      <td>27</td>\n",
              "      <td>college</td>\n",
              "      <td>male</td>\n",
              "    </tr>\n",
              "    <tr>\n",
              "      <th>4</th>\n",
              "      <td>xqd20160005</td>\n",
              "      <td>PAIDOFF</td>\n",
              "      <td>1000</td>\n",
              "      <td>30</td>\n",
              "      <td>2016-09-09</td>\n",
              "      <td>2016-10-08</td>\n",
              "      <td>2016-09-23 00:00:00</td>\n",
              "      <td>0.0</td>\n",
              "      <td>28</td>\n",
              "      <td>college</td>\n",
              "      <td>female</td>\n",
              "    </tr>\n",
              "  </tbody>\n",
              "</table>\n",
              "</div>"
            ],
            "text/plain": [
              "       Loan_ID loan_status  Principal  terms effective_date   due_date  \\\n",
              "0  xqd20166231     PAIDOFF       1000     30     2016-09-08 2016-10-07   \n",
              "1  xqd20168902     PAIDOFF       1000     30     2016-09-08 2016-10-07   \n",
              "2  xqd20160003     PAIDOFF       1000     30     2016-09-08 2016-10-07   \n",
              "3  xqd20160004     PAIDOFF       1000     15     2016-09-08 2016-09-22   \n",
              "4  xqd20160005     PAIDOFF       1000     30     2016-09-09 2016-10-08   \n",
              "\n",
              "         paid_off_time  past_due_days  age             education  Gender  \n",
              "0  2016-09-14 00:00:00            0.0   45  High School or Below    male  \n",
              "1  2016-10-07 00:00:00            0.0   50              Bachelor  female  \n",
              "2  2016-09-25 00:00:00            0.0   33              Bachelor  female  \n",
              "3  2016-09-22 00:00:00            0.0   27               college    male  \n",
              "4  2016-09-23 00:00:00            0.0   28               college  female  "
            ]
          },
          "execution_count": 17,
          "metadata": {},
          "output_type": "execute_result"
        }
      ],
      "source": [
        "df.head()"
      ]
    },
    {
      "cell_type": "markdown",
      "metadata": {
        "id": "wxSxTZgGZ6Tv"
      },
      "source": [
        "### 4. Histogram"
      ]
    },
    {
      "cell_type": "code",
      "execution_count": 19,
      "metadata": {
        "colab": {
          "base_uri": "https://localhost:8080/",
          "height": 430
        },
        "id": "rQl_x_G_UoEI",
        "outputId": "184a14b0-28f4-45f8-f1b8-0e12e1d2bdaa"
      },
      "outputs": [
        {
          "data": {
            "application/vnd.plotly.v1+json": {
              "config": {
                "plotlyServerURL": "https://plot.ly"
              },
              "data": [
                {
                  "alignmentgroup": "True",
                  "bingroup": "x",
                  "hovertemplate": "loan_status=PAIDOFF<br>age=%{x}<br>count=%{y}<extra></extra>",
                  "legendgroup": "PAIDOFF",
                  "marker": {
                    "color": "#636efa",
                    "pattern": {
                      "shape": ""
                    }
                  },
                  "name": "PAIDOFF",
                  "nbinsx": 20,
                  "offsetgroup": "PAIDOFF",
                  "orientation": "v",
                  "showlegend": true,
                  "type": "histogram",
                  "x": [
                    45,
                    50,
                    33,
                    27,
                    28,
                    35,
                    29,
                    36,
                    28,
                    26,
                    29,
                    39,
                    26,
                    26,
                    27,
                    26,
                    40,
                    32,
                    32,
                    26,
                    26,
                    43,
                    25,
                    26,
                    26,
                    29,
                    39,
                    34,
                    31,
                    33,
                    33,
                    37,
                    27,
                    37,
                    33,
                    29,
                    27,
                    33,
                    24,
                    21,
                    32,
                    30,
                    31,
                    30,
                    24,
                    35,
                    22,
                    32,
                    32,
                    50,
                    27,
                    35,
                    35,
                    34,
                    21,
                    25,
                    27,
                    26,
                    44,
                    39,
                    34,
                    37,
                    34,
                    45,
                    24,
                    28,
                    28,
                    37,
                    35,
                    43,
                    29,
                    29,
                    33,
                    34,
                    25,
                    30,
                    31,
                    35,
                    37,
                    44,
                    28,
                    25,
                    29,
                    33,
                    37,
                    33,
                    24,
                    27,
                    43,
                    46,
                    34,
                    32,
                    38,
                    27,
                    33,
                    36,
                    26,
                    34,
                    22,
                    31,
                    29,
                    38,
                    30,
                    45,
                    35,
                    30,
                    31,
                    31,
                    28,
                    29,
                    29,
                    27,
                    27,
                    33,
                    28,
                    25,
                    40,
                    23,
                    35,
                    24,
                    34,
                    22,
                    20,
                    23,
                    33,
                    26,
                    28,
                    43,
                    34,
                    38,
                    26,
                    43,
                    26,
                    33,
                    24,
                    30,
                    32,
                    22,
                    47,
                    20,
                    28,
                    35,
                    27,
                    33,
                    30,
                    31,
                    26,
                    37,
                    26,
                    35,
                    29,
                    23,
                    23,
                    30,
                    34,
                    36,
                    26,
                    29,
                    28,
                    27,
                    24,
                    31,
                    28,
                    27,
                    25,
                    24,
                    28,
                    28,
                    35,
                    38,
                    38,
                    29,
                    35,
                    24,
                    39,
                    25,
                    38,
                    30,
                    21,
                    46,
                    31,
                    29,
                    35,
                    30,
                    27,
                    31,
                    33,
                    34,
                    28,
                    42,
                    32,
                    30,
                    25,
                    27,
                    21,
                    24,
                    29,
                    40,
                    29,
                    29,
                    30,
                    26,
                    36,
                    27,
                    20,
                    26,
                    26,
                    27,
                    23,
                    39,
                    27,
                    30,
                    33,
                    27,
                    35,
                    29,
                    50,
                    31,
                    31,
                    29,
                    35,
                    39,
                    29,
                    30,
                    33,
                    26,
                    25,
                    37,
                    26,
                    26,
                    27,
                    34,
                    37,
                    36,
                    33,
                    30,
                    30,
                    36,
                    29,
                    36,
                    32,
                    29,
                    36,
                    30,
                    31,
                    19,
                    26,
                    34,
                    35,
                    35,
                    38,
                    29,
                    28,
                    22,
                    32,
                    31,
                    28,
                    37,
                    25,
                    19,
                    51,
                    29,
                    23,
                    30,
                    23,
                    34,
                    31,
                    24,
                    42,
                    40,
                    29,
                    32,
                    28,
                    35,
                    30,
                    44,
                    37,
                    31,
                    36,
                    31,
                    42,
                    28,
                    30,
                    30,
                    24,
                    34,
                    29,
                    38,
                    34,
                    28,
                    30,
                    41,
                    29,
                    37,
                    36,
                    30,
                    27,
                    29,
                    40,
                    28
                  ],
                  "xaxis": "x",
                  "yaxis": "y"
                },
                {
                  "alignmentgroup": "True",
                  "bingroup": "x",
                  "hovertemplate": "loan_status=COLLECTION<br>age=%{x}<br>count=%{y}<extra></extra>",
                  "legendgroup": "COLLECTION",
                  "marker": {
                    "color": "#EF553B",
                    "pattern": {
                      "shape": ""
                    }
                  },
                  "name": "COLLECTION",
                  "nbinsx": 20,
                  "offsetgroup": "COLLECTION",
                  "orientation": "v",
                  "showlegend": true,
                  "type": "histogram",
                  "x": [
                    29,
                    37,
                    33,
                    27,
                    24,
                    31,
                    28,
                    40,
                    33,
                    41,
                    30,
                    26,
                    27,
                    20,
                    24,
                    26,
                    30,
                    29,
                    22,
                    24,
                    25,
                    28,
                    37,
                    32,
                    34,
                    28,
                    35,
                    27,
                    24,
                    44,
                    31,
                    27,
                    21,
                    30,
                    38,
                    34,
                    31,
                    23,
                    27,
                    39,
                    30,
                    25,
                    50,
                    23,
                    38,
                    27,
                    31,
                    40,
                    32,
                    29,
                    26,
                    25,
                    35,
                    41,
                    37,
                    34,
                    45,
                    26,
                    32,
                    28,
                    34,
                    29,
                    26,
                    26,
                    22,
                    27,
                    33,
                    28,
                    24,
                    37,
                    36,
                    18,
                    25,
                    40,
                    29,
                    26,
                    30,
                    33,
                    30,
                    32,
                    25,
                    35,
                    30,
                    26,
                    29,
                    26,
                    46,
                    36,
                    38,
                    32,
                    30,
                    35,
                    29,
                    26,
                    32,
                    25,
                    33,
                    39,
                    28,
                    26
                  ],
                  "xaxis": "x",
                  "yaxis": "y"
                },
                {
                  "alignmentgroup": "True",
                  "bingroup": "x",
                  "hovertemplate": "loan_status=COLLECTION_PAIDOFF<br>age=%{x}<br>count=%{y}<extra></extra>",
                  "legendgroup": "COLLECTION_PAIDOFF",
                  "marker": {
                    "color": "#00cc96",
                    "pattern": {
                      "shape": ""
                    }
                  },
                  "name": "COLLECTION_PAIDOFF",
                  "nbinsx": 20,
                  "offsetgroup": "COLLECTION_PAIDOFF",
                  "orientation": "v",
                  "showlegend": true,
                  "type": "histogram",
                  "x": [
                    26,
                    28,
                    39,
                    29,
                    33,
                    27,
                    34,
                    26,
                    28,
                    32,
                    27,
                    21,
                    39,
                    38,
                    36,
                    33,
                    21,
                    25,
                    29,
                    33,
                    47,
                    33,
                    23,
                    24,
                    27,
                    32,
                    33,
                    27,
                    35,
                    37,
                    28,
                    33,
                    34,
                    29,
                    34,
                    29,
                    24,
                    34,
                    25,
                    24,
                    30,
                    28,
                    24,
                    26,
                    24,
                    29,
                    31,
                    26,
                    25,
                    29,
                    38,
                    41,
                    26,
                    26,
                    35,
                    37,
                    25,
                    24,
                    34,
                    33,
                    38,
                    38,
                    26,
                    37,
                    42,
                    49,
                    26,
                    41,
                    38,
                    26,
                    32,
                    27,
                    33,
                    30,
                    26,
                    35,
                    46,
                    27,
                    22,
                    27,
                    30,
                    27,
                    47,
                    30,
                    26,
                    38,
                    46,
                    35,
                    45,
                    36,
                    38,
                    27,
                    27,
                    29,
                    30,
                    28,
                    26,
                    30,
                    38,
                    28
                  ],
                  "xaxis": "x",
                  "yaxis": "y"
                }
              ],
              "layout": {
                "barmode": "group",
                "legend": {
                  "title": {
                    "text": "loan_status"
                  },
                  "tracegroupgap": 0
                },
                "template": {
                  "data": {
                    "bar": [
                      {
                        "error_x": {
                          "color": "#2a3f5f"
                        },
                        "error_y": {
                          "color": "#2a3f5f"
                        },
                        "marker": {
                          "line": {
                            "color": "#E5ECF6",
                            "width": 0.5
                          },
                          "pattern": {
                            "fillmode": "overlay",
                            "size": 10,
                            "solidity": 0.2
                          }
                        },
                        "type": "bar"
                      }
                    ],
                    "barpolar": [
                      {
                        "marker": {
                          "line": {
                            "color": "#E5ECF6",
                            "width": 0.5
                          },
                          "pattern": {
                            "fillmode": "overlay",
                            "size": 10,
                            "solidity": 0.2
                          }
                        },
                        "type": "barpolar"
                      }
                    ],
                    "carpet": [
                      {
                        "aaxis": {
                          "endlinecolor": "#2a3f5f",
                          "gridcolor": "white",
                          "linecolor": "white",
                          "minorgridcolor": "white",
                          "startlinecolor": "#2a3f5f"
                        },
                        "baxis": {
                          "endlinecolor": "#2a3f5f",
                          "gridcolor": "white",
                          "linecolor": "white",
                          "minorgridcolor": "white",
                          "startlinecolor": "#2a3f5f"
                        },
                        "type": "carpet"
                      }
                    ],
                    "choropleth": [
                      {
                        "colorbar": {
                          "outlinewidth": 0,
                          "ticks": ""
                        },
                        "type": "choropleth"
                      }
                    ],
                    "contour": [
                      {
                        "colorbar": {
                          "outlinewidth": 0,
                          "ticks": ""
                        },
                        "colorscale": [
                          [
                            0,
                            "#0d0887"
                          ],
                          [
                            0.1111111111111111,
                            "#46039f"
                          ],
                          [
                            0.2222222222222222,
                            "#7201a8"
                          ],
                          [
                            0.3333333333333333,
                            "#9c179e"
                          ],
                          [
                            0.4444444444444444,
                            "#bd3786"
                          ],
                          [
                            0.5555555555555556,
                            "#d8576b"
                          ],
                          [
                            0.6666666666666666,
                            "#ed7953"
                          ],
                          [
                            0.7777777777777778,
                            "#fb9f3a"
                          ],
                          [
                            0.8888888888888888,
                            "#fdca26"
                          ],
                          [
                            1,
                            "#f0f921"
                          ]
                        ],
                        "type": "contour"
                      }
                    ],
                    "contourcarpet": [
                      {
                        "colorbar": {
                          "outlinewidth": 0,
                          "ticks": ""
                        },
                        "type": "contourcarpet"
                      }
                    ],
                    "heatmap": [
                      {
                        "colorbar": {
                          "outlinewidth": 0,
                          "ticks": ""
                        },
                        "colorscale": [
                          [
                            0,
                            "#0d0887"
                          ],
                          [
                            0.1111111111111111,
                            "#46039f"
                          ],
                          [
                            0.2222222222222222,
                            "#7201a8"
                          ],
                          [
                            0.3333333333333333,
                            "#9c179e"
                          ],
                          [
                            0.4444444444444444,
                            "#bd3786"
                          ],
                          [
                            0.5555555555555556,
                            "#d8576b"
                          ],
                          [
                            0.6666666666666666,
                            "#ed7953"
                          ],
                          [
                            0.7777777777777778,
                            "#fb9f3a"
                          ],
                          [
                            0.8888888888888888,
                            "#fdca26"
                          ],
                          [
                            1,
                            "#f0f921"
                          ]
                        ],
                        "type": "heatmap"
                      }
                    ],
                    "heatmapgl": [
                      {
                        "colorbar": {
                          "outlinewidth": 0,
                          "ticks": ""
                        },
                        "colorscale": [
                          [
                            0,
                            "#0d0887"
                          ],
                          [
                            0.1111111111111111,
                            "#46039f"
                          ],
                          [
                            0.2222222222222222,
                            "#7201a8"
                          ],
                          [
                            0.3333333333333333,
                            "#9c179e"
                          ],
                          [
                            0.4444444444444444,
                            "#bd3786"
                          ],
                          [
                            0.5555555555555556,
                            "#d8576b"
                          ],
                          [
                            0.6666666666666666,
                            "#ed7953"
                          ],
                          [
                            0.7777777777777778,
                            "#fb9f3a"
                          ],
                          [
                            0.8888888888888888,
                            "#fdca26"
                          ],
                          [
                            1,
                            "#f0f921"
                          ]
                        ],
                        "type": "heatmapgl"
                      }
                    ],
                    "histogram": [
                      {
                        "marker": {
                          "pattern": {
                            "fillmode": "overlay",
                            "size": 10,
                            "solidity": 0.2
                          }
                        },
                        "type": "histogram"
                      }
                    ],
                    "histogram2d": [
                      {
                        "colorbar": {
                          "outlinewidth": 0,
                          "ticks": ""
                        },
                        "colorscale": [
                          [
                            0,
                            "#0d0887"
                          ],
                          [
                            0.1111111111111111,
                            "#46039f"
                          ],
                          [
                            0.2222222222222222,
                            "#7201a8"
                          ],
                          [
                            0.3333333333333333,
                            "#9c179e"
                          ],
                          [
                            0.4444444444444444,
                            "#bd3786"
                          ],
                          [
                            0.5555555555555556,
                            "#d8576b"
                          ],
                          [
                            0.6666666666666666,
                            "#ed7953"
                          ],
                          [
                            0.7777777777777778,
                            "#fb9f3a"
                          ],
                          [
                            0.8888888888888888,
                            "#fdca26"
                          ],
                          [
                            1,
                            "#f0f921"
                          ]
                        ],
                        "type": "histogram2d"
                      }
                    ],
                    "histogram2dcontour": [
                      {
                        "colorbar": {
                          "outlinewidth": 0,
                          "ticks": ""
                        },
                        "colorscale": [
                          [
                            0,
                            "#0d0887"
                          ],
                          [
                            0.1111111111111111,
                            "#46039f"
                          ],
                          [
                            0.2222222222222222,
                            "#7201a8"
                          ],
                          [
                            0.3333333333333333,
                            "#9c179e"
                          ],
                          [
                            0.4444444444444444,
                            "#bd3786"
                          ],
                          [
                            0.5555555555555556,
                            "#d8576b"
                          ],
                          [
                            0.6666666666666666,
                            "#ed7953"
                          ],
                          [
                            0.7777777777777778,
                            "#fb9f3a"
                          ],
                          [
                            0.8888888888888888,
                            "#fdca26"
                          ],
                          [
                            1,
                            "#f0f921"
                          ]
                        ],
                        "type": "histogram2dcontour"
                      }
                    ],
                    "mesh3d": [
                      {
                        "colorbar": {
                          "outlinewidth": 0,
                          "ticks": ""
                        },
                        "type": "mesh3d"
                      }
                    ],
                    "parcoords": [
                      {
                        "line": {
                          "colorbar": {
                            "outlinewidth": 0,
                            "ticks": ""
                          }
                        },
                        "type": "parcoords"
                      }
                    ],
                    "pie": [
                      {
                        "automargin": true,
                        "type": "pie"
                      }
                    ],
                    "scatter": [
                      {
                        "fillpattern": {
                          "fillmode": "overlay",
                          "size": 10,
                          "solidity": 0.2
                        },
                        "type": "scatter"
                      }
                    ],
                    "scatter3d": [
                      {
                        "line": {
                          "colorbar": {
                            "outlinewidth": 0,
                            "ticks": ""
                          }
                        },
                        "marker": {
                          "colorbar": {
                            "outlinewidth": 0,
                            "ticks": ""
                          }
                        },
                        "type": "scatter3d"
                      }
                    ],
                    "scattercarpet": [
                      {
                        "marker": {
                          "colorbar": {
                            "outlinewidth": 0,
                            "ticks": ""
                          }
                        },
                        "type": "scattercarpet"
                      }
                    ],
                    "scattergeo": [
                      {
                        "marker": {
                          "colorbar": {
                            "outlinewidth": 0,
                            "ticks": ""
                          }
                        },
                        "type": "scattergeo"
                      }
                    ],
                    "scattergl": [
                      {
                        "marker": {
                          "colorbar": {
                            "outlinewidth": 0,
                            "ticks": ""
                          }
                        },
                        "type": "scattergl"
                      }
                    ],
                    "scattermapbox": [
                      {
                        "marker": {
                          "colorbar": {
                            "outlinewidth": 0,
                            "ticks": ""
                          }
                        },
                        "type": "scattermapbox"
                      }
                    ],
                    "scatterpolar": [
                      {
                        "marker": {
                          "colorbar": {
                            "outlinewidth": 0,
                            "ticks": ""
                          }
                        },
                        "type": "scatterpolar"
                      }
                    ],
                    "scatterpolargl": [
                      {
                        "marker": {
                          "colorbar": {
                            "outlinewidth": 0,
                            "ticks": ""
                          }
                        },
                        "type": "scatterpolargl"
                      }
                    ],
                    "scatterternary": [
                      {
                        "marker": {
                          "colorbar": {
                            "outlinewidth": 0,
                            "ticks": ""
                          }
                        },
                        "type": "scatterternary"
                      }
                    ],
                    "surface": [
                      {
                        "colorbar": {
                          "outlinewidth": 0,
                          "ticks": ""
                        },
                        "colorscale": [
                          [
                            0,
                            "#0d0887"
                          ],
                          [
                            0.1111111111111111,
                            "#46039f"
                          ],
                          [
                            0.2222222222222222,
                            "#7201a8"
                          ],
                          [
                            0.3333333333333333,
                            "#9c179e"
                          ],
                          [
                            0.4444444444444444,
                            "#bd3786"
                          ],
                          [
                            0.5555555555555556,
                            "#d8576b"
                          ],
                          [
                            0.6666666666666666,
                            "#ed7953"
                          ],
                          [
                            0.7777777777777778,
                            "#fb9f3a"
                          ],
                          [
                            0.8888888888888888,
                            "#fdca26"
                          ],
                          [
                            1,
                            "#f0f921"
                          ]
                        ],
                        "type": "surface"
                      }
                    ],
                    "table": [
                      {
                        "cells": {
                          "fill": {
                            "color": "#EBF0F8"
                          },
                          "line": {
                            "color": "white"
                          }
                        },
                        "header": {
                          "fill": {
                            "color": "#C8D4E3"
                          },
                          "line": {
                            "color": "white"
                          }
                        },
                        "type": "table"
                      }
                    ]
                  },
                  "layout": {
                    "annotationdefaults": {
                      "arrowcolor": "#2a3f5f",
                      "arrowhead": 0,
                      "arrowwidth": 1
                    },
                    "autotypenumbers": "strict",
                    "coloraxis": {
                      "colorbar": {
                        "outlinewidth": 0,
                        "ticks": ""
                      }
                    },
                    "colorscale": {
                      "diverging": [
                        [
                          0,
                          "#8e0152"
                        ],
                        [
                          0.1,
                          "#c51b7d"
                        ],
                        [
                          0.2,
                          "#de77ae"
                        ],
                        [
                          0.3,
                          "#f1b6da"
                        ],
                        [
                          0.4,
                          "#fde0ef"
                        ],
                        [
                          0.5,
                          "#f7f7f7"
                        ],
                        [
                          0.6,
                          "#e6f5d0"
                        ],
                        [
                          0.7,
                          "#b8e186"
                        ],
                        [
                          0.8,
                          "#7fbc41"
                        ],
                        [
                          0.9,
                          "#4d9221"
                        ],
                        [
                          1,
                          "#276419"
                        ]
                      ],
                      "sequential": [
                        [
                          0,
                          "#0d0887"
                        ],
                        [
                          0.1111111111111111,
                          "#46039f"
                        ],
                        [
                          0.2222222222222222,
                          "#7201a8"
                        ],
                        [
                          0.3333333333333333,
                          "#9c179e"
                        ],
                        [
                          0.4444444444444444,
                          "#bd3786"
                        ],
                        [
                          0.5555555555555556,
                          "#d8576b"
                        ],
                        [
                          0.6666666666666666,
                          "#ed7953"
                        ],
                        [
                          0.7777777777777778,
                          "#fb9f3a"
                        ],
                        [
                          0.8888888888888888,
                          "#fdca26"
                        ],
                        [
                          1,
                          "#f0f921"
                        ]
                      ],
                      "sequentialminus": [
                        [
                          0,
                          "#0d0887"
                        ],
                        [
                          0.1111111111111111,
                          "#46039f"
                        ],
                        [
                          0.2222222222222222,
                          "#7201a8"
                        ],
                        [
                          0.3333333333333333,
                          "#9c179e"
                        ],
                        [
                          0.4444444444444444,
                          "#bd3786"
                        ],
                        [
                          0.5555555555555556,
                          "#d8576b"
                        ],
                        [
                          0.6666666666666666,
                          "#ed7953"
                        ],
                        [
                          0.7777777777777778,
                          "#fb9f3a"
                        ],
                        [
                          0.8888888888888888,
                          "#fdca26"
                        ],
                        [
                          1,
                          "#f0f921"
                        ]
                      ]
                    },
                    "colorway": [
                      "#636efa",
                      "#EF553B",
                      "#00cc96",
                      "#ab63fa",
                      "#FFA15A",
                      "#19d3f3",
                      "#FF6692",
                      "#B6E880",
                      "#FF97FF",
                      "#FECB52"
                    ],
                    "font": {
                      "color": "#2a3f5f"
                    },
                    "geo": {
                      "bgcolor": "white",
                      "lakecolor": "white",
                      "landcolor": "#E5ECF6",
                      "showlakes": true,
                      "showland": true,
                      "subunitcolor": "white"
                    },
                    "hoverlabel": {
                      "align": "left"
                    },
                    "hovermode": "closest",
                    "mapbox": {
                      "style": "light"
                    },
                    "paper_bgcolor": "white",
                    "plot_bgcolor": "#E5ECF6",
                    "polar": {
                      "angularaxis": {
                        "gridcolor": "white",
                        "linecolor": "white",
                        "ticks": ""
                      },
                      "bgcolor": "#E5ECF6",
                      "radialaxis": {
                        "gridcolor": "white",
                        "linecolor": "white",
                        "ticks": ""
                      }
                    },
                    "scene": {
                      "xaxis": {
                        "backgroundcolor": "#E5ECF6",
                        "gridcolor": "white",
                        "gridwidth": 2,
                        "linecolor": "white",
                        "showbackground": true,
                        "ticks": "",
                        "zerolinecolor": "white"
                      },
                      "yaxis": {
                        "backgroundcolor": "#E5ECF6",
                        "gridcolor": "white",
                        "gridwidth": 2,
                        "linecolor": "white",
                        "showbackground": true,
                        "ticks": "",
                        "zerolinecolor": "white"
                      },
                      "zaxis": {
                        "backgroundcolor": "#E5ECF6",
                        "gridcolor": "white",
                        "gridwidth": 2,
                        "linecolor": "white",
                        "showbackground": true,
                        "ticks": "",
                        "zerolinecolor": "white"
                      }
                    },
                    "shapedefaults": {
                      "line": {
                        "color": "#2a3f5f"
                      }
                    },
                    "ternary": {
                      "aaxis": {
                        "gridcolor": "white",
                        "linecolor": "white",
                        "ticks": ""
                      },
                      "baxis": {
                        "gridcolor": "white",
                        "linecolor": "white",
                        "ticks": ""
                      },
                      "bgcolor": "#E5ECF6",
                      "caxis": {
                        "gridcolor": "white",
                        "linecolor": "white",
                        "ticks": ""
                      }
                    },
                    "title": {
                      "x": 0.05
                    },
                    "xaxis": {
                      "automargin": true,
                      "gridcolor": "white",
                      "linecolor": "white",
                      "ticks": "",
                      "title": {
                        "standoff": 15
                      },
                      "zerolinecolor": "white",
                      "zerolinewidth": 2
                    },
                    "yaxis": {
                      "automargin": true,
                      "gridcolor": "white",
                      "linecolor": "white",
                      "ticks": "",
                      "title": {
                        "standoff": 15
                      },
                      "zerolinecolor": "white",
                      "zerolinewidth": 2
                    }
                  }
                },
                "title": {
                  "text": "Age Distribution by Loan Status"
                },
                "xaxis": {
                  "anchor": "y",
                  "domain": [
                    0,
                    1
                  ],
                  "title": {
                    "text": "age"
                  }
                },
                "yaxis": {
                  "anchor": "x",
                  "domain": [
                    0,
                    1
                  ],
                  "title": {
                    "text": "count"
                  }
                }
              }
            }
          },
          "metadata": {},
          "output_type": "display_data"
        }
      ],
      "source": [
        "fig = px.histogram(df, x='age', color='loan_status', barmode='group', nbins=20, title='Age Distribution by Loan Status')\n",
        "fig.show()"
      ]
    },
    {
      "cell_type": "markdown",
      "metadata": {
        "id": "3fR6HMbkanJy"
      },
      "source": [
        "## 5. Heatmap\n"
      ]
    },
    {
      "cell_type": "markdown",
      "metadata": {
        "id": "5pv_ChMuaa8h"
      },
      "source": [
        "### 6. Pie Chart"
      ]
    },
    {
      "cell_type": "code",
      "execution_count": 30,
      "metadata": {
        "colab": {
          "base_uri": "https://localhost:8080/",
          "height": 829
        },
        "id": "GRYVPY52Z18k",
        "outputId": "fd5b7b00-1639-4469-f4b8-0201409c20a9"
      },
      "outputs": [
        {
          "data": {
            "application/vnd.plotly.v1+json": {
              "config": {
                "plotlyServerURL": "https://plot.ly"
              },
              "data": [
                {
                  "domain": {
                    "x": [
                      0,
                      1
                    ],
                    "y": [
                      0,
                      1
                    ]
                  },
                  "hovertemplate": "loan_status=%{label}<br>Principal=%{value}<extra></extra>",
                  "labels": [
                    "PAIDOFF",
                    "PAIDOFF",
                    "PAIDOFF",
                    "PAIDOFF",
                    "PAIDOFF",
                    "PAIDOFF",
                    "PAIDOFF",
                    "PAIDOFF",
                    "PAIDOFF",
                    "PAIDOFF",
                    "PAIDOFF",
                    "PAIDOFF",
                    "PAIDOFF",
                    "PAIDOFF",
                    "PAIDOFF",
                    "PAIDOFF",
                    "PAIDOFF",
                    "PAIDOFF",
                    "PAIDOFF",
                    "PAIDOFF",
                    "PAIDOFF",
                    "PAIDOFF",
                    "PAIDOFF",
                    "PAIDOFF",
                    "PAIDOFF",
                    "PAIDOFF",
                    "PAIDOFF",
                    "PAIDOFF",
                    "PAIDOFF",
                    "PAIDOFF",
                    "PAIDOFF",
                    "PAIDOFF",
                    "PAIDOFF",
                    "PAIDOFF",
                    "PAIDOFF",
                    "PAIDOFF",
                    "PAIDOFF",
                    "PAIDOFF",
                    "PAIDOFF",
                    "PAIDOFF",
                    "PAIDOFF",
                    "PAIDOFF",
                    "PAIDOFF",
                    "PAIDOFF",
                    "PAIDOFF",
                    "PAIDOFF",
                    "PAIDOFF",
                    "PAIDOFF",
                    "PAIDOFF",
                    "PAIDOFF",
                    "PAIDOFF",
                    "PAIDOFF",
                    "PAIDOFF",
                    "PAIDOFF",
                    "PAIDOFF",
                    "PAIDOFF",
                    "PAIDOFF",
                    "PAIDOFF",
                    "PAIDOFF",
                    "PAIDOFF",
                    "PAIDOFF",
                    "PAIDOFF",
                    "PAIDOFF",
                    "PAIDOFF",
                    "PAIDOFF",
                    "PAIDOFF",
                    "PAIDOFF",
                    "PAIDOFF",
                    "PAIDOFF",
                    "PAIDOFF",
                    "PAIDOFF",
                    "PAIDOFF",
                    "PAIDOFF",
                    "PAIDOFF",
                    "PAIDOFF",
                    "PAIDOFF",
                    "PAIDOFF",
                    "PAIDOFF",
                    "PAIDOFF",
                    "PAIDOFF",
                    "PAIDOFF",
                    "PAIDOFF",
                    "PAIDOFF",
                    "PAIDOFF",
                    "PAIDOFF",
                    "PAIDOFF",
                    "PAIDOFF",
                    "PAIDOFF",
                    "PAIDOFF",
                    "PAIDOFF",
                    "PAIDOFF",
                    "PAIDOFF",
                    "PAIDOFF",
                    "PAIDOFF",
                    "PAIDOFF",
                    "PAIDOFF",
                    "PAIDOFF",
                    "PAIDOFF",
                    "PAIDOFF",
                    "PAIDOFF",
                    "PAIDOFF",
                    "PAIDOFF",
                    "PAIDOFF",
                    "PAIDOFF",
                    "PAIDOFF",
                    "PAIDOFF",
                    "PAIDOFF",
                    "PAIDOFF",
                    "PAIDOFF",
                    "PAIDOFF",
                    "PAIDOFF",
                    "PAIDOFF",
                    "PAIDOFF",
                    "PAIDOFF",
                    "PAIDOFF",
                    "PAIDOFF",
                    "PAIDOFF",
                    "PAIDOFF",
                    "PAIDOFF",
                    "PAIDOFF",
                    "PAIDOFF",
                    "PAIDOFF",
                    "PAIDOFF",
                    "PAIDOFF",
                    "PAIDOFF",
                    "PAIDOFF",
                    "PAIDOFF",
                    "PAIDOFF",
                    "PAIDOFF",
                    "PAIDOFF",
                    "PAIDOFF",
                    "PAIDOFF",
                    "PAIDOFF",
                    "PAIDOFF",
                    "PAIDOFF",
                    "PAIDOFF",
                    "PAIDOFF",
                    "PAIDOFF",
                    "PAIDOFF",
                    "PAIDOFF",
                    "PAIDOFF",
                    "PAIDOFF",
                    "PAIDOFF",
                    "PAIDOFF",
                    "PAIDOFF",
                    "PAIDOFF",
                    "PAIDOFF",
                    "PAIDOFF",
                    "PAIDOFF",
                    "PAIDOFF",
                    "PAIDOFF",
                    "PAIDOFF",
                    "PAIDOFF",
                    "PAIDOFF",
                    "PAIDOFF",
                    "PAIDOFF",
                    "PAIDOFF",
                    "PAIDOFF",
                    "PAIDOFF",
                    "PAIDOFF",
                    "PAIDOFF",
                    "PAIDOFF",
                    "PAIDOFF",
                    "PAIDOFF",
                    "PAIDOFF",
                    "PAIDOFF",
                    "PAIDOFF",
                    "PAIDOFF",
                    "PAIDOFF",
                    "PAIDOFF",
                    "PAIDOFF",
                    "PAIDOFF",
                    "PAIDOFF",
                    "PAIDOFF",
                    "PAIDOFF",
                    "PAIDOFF",
                    "PAIDOFF",
                    "PAIDOFF",
                    "PAIDOFF",
                    "PAIDOFF",
                    "PAIDOFF",
                    "PAIDOFF",
                    "PAIDOFF",
                    "PAIDOFF",
                    "PAIDOFF",
                    "PAIDOFF",
                    "PAIDOFF",
                    "PAIDOFF",
                    "PAIDOFF",
                    "PAIDOFF",
                    "PAIDOFF",
                    "PAIDOFF",
                    "PAIDOFF",
                    "PAIDOFF",
                    "PAIDOFF",
                    "PAIDOFF",
                    "PAIDOFF",
                    "PAIDOFF",
                    "PAIDOFF",
                    "PAIDOFF",
                    "PAIDOFF",
                    "PAIDOFF",
                    "PAIDOFF",
                    "PAIDOFF",
                    "PAIDOFF",
                    "PAIDOFF",
                    "PAIDOFF",
                    "PAIDOFF",
                    "PAIDOFF",
                    "PAIDOFF",
                    "PAIDOFF",
                    "PAIDOFF",
                    "PAIDOFF",
                    "PAIDOFF",
                    "PAIDOFF",
                    "PAIDOFF",
                    "PAIDOFF",
                    "PAIDOFF",
                    "PAIDOFF",
                    "PAIDOFF",
                    "PAIDOFF",
                    "PAIDOFF",
                    "PAIDOFF",
                    "PAIDOFF",
                    "PAIDOFF",
                    "PAIDOFF",
                    "PAIDOFF",
                    "PAIDOFF",
                    "PAIDOFF",
                    "PAIDOFF",
                    "PAIDOFF",
                    "PAIDOFF",
                    "PAIDOFF",
                    "PAIDOFF",
                    "PAIDOFF",
                    "PAIDOFF",
                    "PAIDOFF",
                    "PAIDOFF",
                    "PAIDOFF",
                    "PAIDOFF",
                    "PAIDOFF",
                    "PAIDOFF",
                    "PAIDOFF",
                    "PAIDOFF",
                    "PAIDOFF",
                    "PAIDOFF",
                    "PAIDOFF",
                    "PAIDOFF",
                    "PAIDOFF",
                    "PAIDOFF",
                    "PAIDOFF",
                    "PAIDOFF",
                    "PAIDOFF",
                    "PAIDOFF",
                    "PAIDOFF",
                    "PAIDOFF",
                    "PAIDOFF",
                    "PAIDOFF",
                    "PAIDOFF",
                    "PAIDOFF",
                    "PAIDOFF",
                    "PAIDOFF",
                    "PAIDOFF",
                    "PAIDOFF",
                    "PAIDOFF",
                    "PAIDOFF",
                    "PAIDOFF",
                    "PAIDOFF",
                    "PAIDOFF",
                    "PAIDOFF",
                    "PAIDOFF",
                    "PAIDOFF",
                    "PAIDOFF",
                    "PAIDOFF",
                    "PAIDOFF",
                    "PAIDOFF",
                    "PAIDOFF",
                    "PAIDOFF",
                    "PAIDOFF",
                    "PAIDOFF",
                    "PAIDOFF",
                    "PAIDOFF",
                    "PAIDOFF",
                    "PAIDOFF",
                    "PAIDOFF",
                    "PAIDOFF",
                    "PAIDOFF",
                    "PAIDOFF",
                    "PAIDOFF",
                    "PAIDOFF",
                    "PAIDOFF",
                    "PAIDOFF",
                    "PAIDOFF",
                    "PAIDOFF",
                    "PAIDOFF",
                    "PAIDOFF",
                    "PAIDOFF",
                    "PAIDOFF",
                    "PAIDOFF",
                    "PAIDOFF",
                    "COLLECTION",
                    "COLLECTION",
                    "COLLECTION",
                    "COLLECTION",
                    "COLLECTION",
                    "COLLECTION",
                    "COLLECTION",
                    "COLLECTION",
                    "COLLECTION",
                    "COLLECTION",
                    "COLLECTION",
                    "COLLECTION",
                    "COLLECTION",
                    "COLLECTION",
                    "COLLECTION",
                    "COLLECTION",
                    "COLLECTION",
                    "COLLECTION",
                    "COLLECTION",
                    "COLLECTION",
                    "COLLECTION",
                    "COLLECTION",
                    "COLLECTION",
                    "COLLECTION",
                    "COLLECTION",
                    "COLLECTION",
                    "COLLECTION",
                    "COLLECTION",
                    "COLLECTION",
                    "COLLECTION",
                    "COLLECTION",
                    "COLLECTION",
                    "COLLECTION",
                    "COLLECTION",
                    "COLLECTION",
                    "COLLECTION",
                    "COLLECTION",
                    "COLLECTION",
                    "COLLECTION",
                    "COLLECTION",
                    "COLLECTION",
                    "COLLECTION",
                    "COLLECTION",
                    "COLLECTION",
                    "COLLECTION",
                    "COLLECTION",
                    "COLLECTION",
                    "COLLECTION",
                    "COLLECTION",
                    "COLLECTION",
                    "COLLECTION",
                    "COLLECTION",
                    "COLLECTION",
                    "COLLECTION",
                    "COLLECTION",
                    "COLLECTION",
                    "COLLECTION",
                    "COLLECTION",
                    "COLLECTION",
                    "COLLECTION",
                    "COLLECTION",
                    "COLLECTION",
                    "COLLECTION",
                    "COLLECTION",
                    "COLLECTION",
                    "COLLECTION",
                    "COLLECTION",
                    "COLLECTION",
                    "COLLECTION",
                    "COLLECTION",
                    "COLLECTION",
                    "COLLECTION",
                    "COLLECTION",
                    "COLLECTION",
                    "COLLECTION",
                    "COLLECTION",
                    "COLLECTION",
                    "COLLECTION",
                    "COLLECTION",
                    "COLLECTION",
                    "COLLECTION",
                    "COLLECTION",
                    "COLLECTION",
                    "COLLECTION",
                    "COLLECTION",
                    "COLLECTION",
                    "COLLECTION",
                    "COLLECTION",
                    "COLLECTION",
                    "COLLECTION",
                    "COLLECTION",
                    "COLLECTION",
                    "COLLECTION",
                    "COLLECTION",
                    "COLLECTION",
                    "COLLECTION",
                    "COLLECTION",
                    "COLLECTION",
                    "COLLECTION",
                    "COLLECTION",
                    "COLLECTION_PAIDOFF",
                    "COLLECTION_PAIDOFF",
                    "COLLECTION_PAIDOFF",
                    "COLLECTION_PAIDOFF",
                    "COLLECTION_PAIDOFF",
                    "COLLECTION_PAIDOFF",
                    "COLLECTION_PAIDOFF",
                    "COLLECTION_PAIDOFF",
                    "COLLECTION_PAIDOFF",
                    "COLLECTION_PAIDOFF",
                    "COLLECTION_PAIDOFF",
                    "COLLECTION_PAIDOFF",
                    "COLLECTION_PAIDOFF",
                    "COLLECTION_PAIDOFF",
                    "COLLECTION_PAIDOFF",
                    "COLLECTION_PAIDOFF",
                    "COLLECTION_PAIDOFF",
                    "COLLECTION_PAIDOFF",
                    "COLLECTION_PAIDOFF",
                    "COLLECTION_PAIDOFF",
                    "COLLECTION_PAIDOFF",
                    "COLLECTION_PAIDOFF",
                    "COLLECTION_PAIDOFF",
                    "COLLECTION_PAIDOFF",
                    "COLLECTION_PAIDOFF",
                    "COLLECTION_PAIDOFF",
                    "COLLECTION_PAIDOFF",
                    "COLLECTION_PAIDOFF",
                    "COLLECTION_PAIDOFF",
                    "COLLECTION_PAIDOFF",
                    "COLLECTION_PAIDOFF",
                    "COLLECTION_PAIDOFF",
                    "COLLECTION_PAIDOFF",
                    "COLLECTION_PAIDOFF",
                    "COLLECTION_PAIDOFF",
                    "COLLECTION_PAIDOFF",
                    "COLLECTION_PAIDOFF",
                    "COLLECTION_PAIDOFF",
                    "COLLECTION_PAIDOFF",
                    "COLLECTION_PAIDOFF",
                    "COLLECTION_PAIDOFF",
                    "COLLECTION_PAIDOFF",
                    "COLLECTION_PAIDOFF",
                    "COLLECTION_PAIDOFF",
                    "COLLECTION_PAIDOFF",
                    "COLLECTION_PAIDOFF",
                    "COLLECTION_PAIDOFF",
                    "COLLECTION_PAIDOFF",
                    "COLLECTION_PAIDOFF",
                    "COLLECTION_PAIDOFF",
                    "COLLECTION_PAIDOFF",
                    "COLLECTION_PAIDOFF",
                    "COLLECTION_PAIDOFF",
                    "COLLECTION_PAIDOFF",
                    "COLLECTION_PAIDOFF",
                    "COLLECTION_PAIDOFF",
                    "COLLECTION_PAIDOFF",
                    "COLLECTION_PAIDOFF",
                    "COLLECTION_PAIDOFF",
                    "COLLECTION_PAIDOFF",
                    "COLLECTION_PAIDOFF",
                    "COLLECTION_PAIDOFF",
                    "COLLECTION_PAIDOFF",
                    "COLLECTION_PAIDOFF",
                    "COLLECTION_PAIDOFF",
                    "COLLECTION_PAIDOFF",
                    "COLLECTION_PAIDOFF",
                    "COLLECTION_PAIDOFF",
                    "COLLECTION_PAIDOFF",
                    "COLLECTION_PAIDOFF",
                    "COLLECTION_PAIDOFF",
                    "COLLECTION_PAIDOFF",
                    "COLLECTION_PAIDOFF",
                    "COLLECTION_PAIDOFF",
                    "COLLECTION_PAIDOFF",
                    "COLLECTION_PAIDOFF",
                    "COLLECTION_PAIDOFF",
                    "COLLECTION_PAIDOFF",
                    "COLLECTION_PAIDOFF",
                    "COLLECTION_PAIDOFF",
                    "COLLECTION_PAIDOFF",
                    "COLLECTION_PAIDOFF",
                    "COLLECTION_PAIDOFF",
                    "COLLECTION_PAIDOFF",
                    "COLLECTION_PAIDOFF",
                    "COLLECTION_PAIDOFF",
                    "COLLECTION_PAIDOFF",
                    "COLLECTION_PAIDOFF",
                    "COLLECTION_PAIDOFF",
                    "COLLECTION_PAIDOFF",
                    "COLLECTION_PAIDOFF",
                    "COLLECTION_PAIDOFF",
                    "COLLECTION_PAIDOFF",
                    "COLLECTION_PAIDOFF",
                    "COLLECTION_PAIDOFF",
                    "COLLECTION_PAIDOFF",
                    "COLLECTION_PAIDOFF",
                    "COLLECTION_PAIDOFF",
                    "COLLECTION_PAIDOFF",
                    "COLLECTION_PAIDOFF"
                  ],
                  "legendgroup": "",
                  "name": "",
                  "showlegend": true,
                  "type": "pie",
                  "values": [
                    1000,
                    1000,
                    1000,
                    1000,
                    1000,
                    300,
                    1000,
                    1000,
                    1000,
                    800,
                    300,
                    1000,
                    1000,
                    900,
                    1000,
                    800,
                    1000,
                    1000,
                    1000,
                    800,
                    1000,
                    1000,
                    1000,
                    1000,
                    1000,
                    1000,
                    800,
                    1000,
                    1000,
                    1000,
                    800,
                    1000,
                    1000,
                    1000,
                    800,
                    800,
                    1000,
                    700,
                    1000,
                    1000,
                    1000,
                    800,
                    1000,
                    1000,
                    1000,
                    800,
                    1000,
                    1000,
                    1000,
                    800,
                    800,
                    1000,
                    800,
                    1000,
                    1000,
                    1000,
                    1000,
                    1000,
                    800,
                    800,
                    1000,
                    1000,
                    1000,
                    1000,
                    800,
                    900,
                    1000,
                    1000,
                    300,
                    1000,
                    800,
                    800,
                    1000,
                    1000,
                    1000,
                    1000,
                    1000,
                    1000,
                    1000,
                    1000,
                    1000,
                    1000,
                    1000,
                    800,
                    1000,
                    1000,
                    1000,
                    1000,
                    800,
                    800,
                    800,
                    1000,
                    800,
                    800,
                    1000,
                    1000,
                    1000,
                    1000,
                    1000,
                    1000,
                    1000,
                    800,
                    1000,
                    1000,
                    1000,
                    1000,
                    1000,
                    1000,
                    1000,
                    1000,
                    800,
                    1000,
                    1000,
                    1000,
                    1000,
                    1000,
                    1000,
                    1000,
                    1000,
                    800,
                    1000,
                    1000,
                    1000,
                    1000,
                    1000,
                    1000,
                    1000,
                    800,
                    1000,
                    1000,
                    1000,
                    800,
                    1000,
                    1000,
                    800,
                    1000,
                    800,
                    1000,
                    1000,
                    1000,
                    1000,
                    800,
                    1000,
                    800,
                    1000,
                    1000,
                    1000,
                    300,
                    1000,
                    800,
                    1000,
                    800,
                    500,
                    1000,
                    1000,
                    1000,
                    1000,
                    800,
                    1000,
                    1000,
                    1000,
                    800,
                    1000,
                    1000,
                    1000,
                    1000,
                    1000,
                    800,
                    1000,
                    1000,
                    1000,
                    1000,
                    800,
                    1000,
                    800,
                    800,
                    1000,
                    1000,
                    1000,
                    1000,
                    1000,
                    300,
                    1000,
                    800,
                    1000,
                    1000,
                    1000,
                    1000,
                    800,
                    800,
                    1000,
                    1000,
                    1000,
                    1000,
                    800,
                    1000,
                    1000,
                    1000,
                    1000,
                    1000,
                    1000,
                    1000,
                    1000,
                    800,
                    1000,
                    1000,
                    1000,
                    1000,
                    300,
                    1000,
                    1000,
                    1000,
                    1000,
                    1000,
                    1000,
                    1000,
                    1000,
                    800,
                    1000,
                    1000,
                    1000,
                    1000,
                    1000,
                    1000,
                    1000,
                    1000,
                    1000,
                    800,
                    800,
                    800,
                    1000,
                    1000,
                    1000,
                    1000,
                    800,
                    1000,
                    1000,
                    800,
                    1000,
                    1000,
                    1000,
                    1000,
                    800,
                    800,
                    1000,
                    1000,
                    800,
                    800,
                    1000,
                    1000,
                    800,
                    1000,
                    1000,
                    500,
                    1000,
                    1000,
                    800,
                    1000,
                    1000,
                    1000,
                    800,
                    1000,
                    800,
                    1000,
                    800,
                    1000,
                    800,
                    1000,
                    1000,
                    800,
                    1000,
                    1000,
                    1000,
                    1000,
                    1000,
                    800,
                    800,
                    1000,
                    800,
                    800,
                    800,
                    1000,
                    1000,
                    1000,
                    1000,
                    1000,
                    1000,
                    1000,
                    1000,
                    800,
                    1000,
                    1000,
                    1000,
                    1000,
                    1000,
                    1000,
                    800,
                    1000,
                    1000,
                    1000,
                    1000,
                    1000,
                    1000,
                    800,
                    800,
                    1000,
                    800,
                    1000,
                    1000,
                    800,
                    1000,
                    800,
                    1000,
                    1000,
                    1000,
                    1000,
                    1000,
                    1000,
                    1000,
                    1000,
                    1000,
                    1000,
                    1000,
                    800,
                    1000,
                    1000,
                    800,
                    1000,
                    1000,
                    1000,
                    1000,
                    800,
                    1000,
                    1000,
                    1000,
                    1000,
                    1000,
                    1000,
                    1000,
                    1000,
                    1000,
                    1000,
                    1000,
                    1000,
                    800,
                    1000,
                    1000,
                    800,
                    1000,
                    800,
                    1000,
                    1000,
                    1000,
                    1000,
                    1000,
                    1000,
                    1000,
                    1000,
                    1000,
                    1000,
                    1000,
                    800,
                    1000,
                    1000,
                    800,
                    1000,
                    800,
                    800,
                    1000,
                    1000,
                    800,
                    1000,
                    800,
                    1000,
                    1000,
                    800,
                    1000,
                    1000,
                    1000,
                    1000,
                    1000,
                    800,
                    1000,
                    1000,
                    1000,
                    1000,
                    800,
                    1000,
                    1000,
                    1000,
                    1000,
                    800,
                    1000,
                    1000,
                    800,
                    1000,
                    1000,
                    800,
                    1000,
                    1000,
                    1000,
                    1000,
                    1000,
                    1000,
                    800,
                    1000,
                    800,
                    1000,
                    1000,
                    1000,
                    800,
                    1000,
                    800,
                    1000,
                    1000,
                    800,
                    1000,
                    800,
                    800,
                    1000,
                    1000,
                    1000,
                    800,
                    1000,
                    1000,
                    1000,
                    1000,
                    1000,
                    1000,
                    500,
                    800,
                    1000,
                    800,
                    1000,
                    1000,
                    1000,
                    1000,
                    1000,
                    1000,
                    1000,
                    1000,
                    1000,
                    1000,
                    1000,
                    1000,
                    1000,
                    1000,
                    1000,
                    1000,
                    1000,
                    1000,
                    800,
                    1000,
                    1000,
                    1000,
                    1000,
                    1000,
                    1000,
                    1000,
                    800,
                    800,
                    1000,
                    1000,
                    1000,
                    1000,
                    1000,
                    1000,
                    1000,
                    1000,
                    1000,
                    1000,
                    1000,
                    800,
                    1000,
                    800,
                    1000,
                    800,
                    1000,
                    1000,
                    1000,
                    1000,
                    1000,
                    800,
                    1000,
                    1000,
                    1000,
                    800,
                    1000,
                    1000,
                    1000,
                    1000,
                    1000,
                    1000,
                    1000,
                    1000,
                    1000,
                    1000,
                    800,
                    1000,
                    1000
                  ]
                }
              ],
              "layout": {
                "legend": {
                  "tracegroupgap": 0
                },
                "piecolorway": [
                  "rgb(103,0,31)",
                  "rgb(178,24,43)",
                  "rgb(214,96,77)",
                  "rgb(244,165,130)",
                  "rgb(253,219,199)",
                  "rgb(247,247,247)",
                  "rgb(209,229,240)",
                  "rgb(146,197,222)",
                  "rgb(67,147,195)",
                  "rgb(33,102,172)",
                  "rgb(5,48,97)"
                ],
                "template": {
                  "data": {
                    "bar": [
                      {
                        "error_x": {
                          "color": "#2a3f5f"
                        },
                        "error_y": {
                          "color": "#2a3f5f"
                        },
                        "marker": {
                          "line": {
                            "color": "#E5ECF6",
                            "width": 0.5
                          },
                          "pattern": {
                            "fillmode": "overlay",
                            "size": 10,
                            "solidity": 0.2
                          }
                        },
                        "type": "bar"
                      }
                    ],
                    "barpolar": [
                      {
                        "marker": {
                          "line": {
                            "color": "#E5ECF6",
                            "width": 0.5
                          },
                          "pattern": {
                            "fillmode": "overlay",
                            "size": 10,
                            "solidity": 0.2
                          }
                        },
                        "type": "barpolar"
                      }
                    ],
                    "carpet": [
                      {
                        "aaxis": {
                          "endlinecolor": "#2a3f5f",
                          "gridcolor": "white",
                          "linecolor": "white",
                          "minorgridcolor": "white",
                          "startlinecolor": "#2a3f5f"
                        },
                        "baxis": {
                          "endlinecolor": "#2a3f5f",
                          "gridcolor": "white",
                          "linecolor": "white",
                          "minorgridcolor": "white",
                          "startlinecolor": "#2a3f5f"
                        },
                        "type": "carpet"
                      }
                    ],
                    "choropleth": [
                      {
                        "colorbar": {
                          "outlinewidth": 0,
                          "ticks": ""
                        },
                        "type": "choropleth"
                      }
                    ],
                    "contour": [
                      {
                        "colorbar": {
                          "outlinewidth": 0,
                          "ticks": ""
                        },
                        "colorscale": [
                          [
                            0,
                            "#0d0887"
                          ],
                          [
                            0.1111111111111111,
                            "#46039f"
                          ],
                          [
                            0.2222222222222222,
                            "#7201a8"
                          ],
                          [
                            0.3333333333333333,
                            "#9c179e"
                          ],
                          [
                            0.4444444444444444,
                            "#bd3786"
                          ],
                          [
                            0.5555555555555556,
                            "#d8576b"
                          ],
                          [
                            0.6666666666666666,
                            "#ed7953"
                          ],
                          [
                            0.7777777777777778,
                            "#fb9f3a"
                          ],
                          [
                            0.8888888888888888,
                            "#fdca26"
                          ],
                          [
                            1,
                            "#f0f921"
                          ]
                        ],
                        "type": "contour"
                      }
                    ],
                    "contourcarpet": [
                      {
                        "colorbar": {
                          "outlinewidth": 0,
                          "ticks": ""
                        },
                        "type": "contourcarpet"
                      }
                    ],
                    "heatmap": [
                      {
                        "colorbar": {
                          "outlinewidth": 0,
                          "ticks": ""
                        },
                        "colorscale": [
                          [
                            0,
                            "#0d0887"
                          ],
                          [
                            0.1111111111111111,
                            "#46039f"
                          ],
                          [
                            0.2222222222222222,
                            "#7201a8"
                          ],
                          [
                            0.3333333333333333,
                            "#9c179e"
                          ],
                          [
                            0.4444444444444444,
                            "#bd3786"
                          ],
                          [
                            0.5555555555555556,
                            "#d8576b"
                          ],
                          [
                            0.6666666666666666,
                            "#ed7953"
                          ],
                          [
                            0.7777777777777778,
                            "#fb9f3a"
                          ],
                          [
                            0.8888888888888888,
                            "#fdca26"
                          ],
                          [
                            1,
                            "#f0f921"
                          ]
                        ],
                        "type": "heatmap"
                      }
                    ],
                    "heatmapgl": [
                      {
                        "colorbar": {
                          "outlinewidth": 0,
                          "ticks": ""
                        },
                        "colorscale": [
                          [
                            0,
                            "#0d0887"
                          ],
                          [
                            0.1111111111111111,
                            "#46039f"
                          ],
                          [
                            0.2222222222222222,
                            "#7201a8"
                          ],
                          [
                            0.3333333333333333,
                            "#9c179e"
                          ],
                          [
                            0.4444444444444444,
                            "#bd3786"
                          ],
                          [
                            0.5555555555555556,
                            "#d8576b"
                          ],
                          [
                            0.6666666666666666,
                            "#ed7953"
                          ],
                          [
                            0.7777777777777778,
                            "#fb9f3a"
                          ],
                          [
                            0.8888888888888888,
                            "#fdca26"
                          ],
                          [
                            1,
                            "#f0f921"
                          ]
                        ],
                        "type": "heatmapgl"
                      }
                    ],
                    "histogram": [
                      {
                        "marker": {
                          "pattern": {
                            "fillmode": "overlay",
                            "size": 10,
                            "solidity": 0.2
                          }
                        },
                        "type": "histogram"
                      }
                    ],
                    "histogram2d": [
                      {
                        "colorbar": {
                          "outlinewidth": 0,
                          "ticks": ""
                        },
                        "colorscale": [
                          [
                            0,
                            "#0d0887"
                          ],
                          [
                            0.1111111111111111,
                            "#46039f"
                          ],
                          [
                            0.2222222222222222,
                            "#7201a8"
                          ],
                          [
                            0.3333333333333333,
                            "#9c179e"
                          ],
                          [
                            0.4444444444444444,
                            "#bd3786"
                          ],
                          [
                            0.5555555555555556,
                            "#d8576b"
                          ],
                          [
                            0.6666666666666666,
                            "#ed7953"
                          ],
                          [
                            0.7777777777777778,
                            "#fb9f3a"
                          ],
                          [
                            0.8888888888888888,
                            "#fdca26"
                          ],
                          [
                            1,
                            "#f0f921"
                          ]
                        ],
                        "type": "histogram2d"
                      }
                    ],
                    "histogram2dcontour": [
                      {
                        "colorbar": {
                          "outlinewidth": 0,
                          "ticks": ""
                        },
                        "colorscale": [
                          [
                            0,
                            "#0d0887"
                          ],
                          [
                            0.1111111111111111,
                            "#46039f"
                          ],
                          [
                            0.2222222222222222,
                            "#7201a8"
                          ],
                          [
                            0.3333333333333333,
                            "#9c179e"
                          ],
                          [
                            0.4444444444444444,
                            "#bd3786"
                          ],
                          [
                            0.5555555555555556,
                            "#d8576b"
                          ],
                          [
                            0.6666666666666666,
                            "#ed7953"
                          ],
                          [
                            0.7777777777777778,
                            "#fb9f3a"
                          ],
                          [
                            0.8888888888888888,
                            "#fdca26"
                          ],
                          [
                            1,
                            "#f0f921"
                          ]
                        ],
                        "type": "histogram2dcontour"
                      }
                    ],
                    "mesh3d": [
                      {
                        "colorbar": {
                          "outlinewidth": 0,
                          "ticks": ""
                        },
                        "type": "mesh3d"
                      }
                    ],
                    "parcoords": [
                      {
                        "line": {
                          "colorbar": {
                            "outlinewidth": 0,
                            "ticks": ""
                          }
                        },
                        "type": "parcoords"
                      }
                    ],
                    "pie": [
                      {
                        "automargin": true,
                        "type": "pie"
                      }
                    ],
                    "scatter": [
                      {
                        "fillpattern": {
                          "fillmode": "overlay",
                          "size": 10,
                          "solidity": 0.2
                        },
                        "type": "scatter"
                      }
                    ],
                    "scatter3d": [
                      {
                        "line": {
                          "colorbar": {
                            "outlinewidth": 0,
                            "ticks": ""
                          }
                        },
                        "marker": {
                          "colorbar": {
                            "outlinewidth": 0,
                            "ticks": ""
                          }
                        },
                        "type": "scatter3d"
                      }
                    ],
                    "scattercarpet": [
                      {
                        "marker": {
                          "colorbar": {
                            "outlinewidth": 0,
                            "ticks": ""
                          }
                        },
                        "type": "scattercarpet"
                      }
                    ],
                    "scattergeo": [
                      {
                        "marker": {
                          "colorbar": {
                            "outlinewidth": 0,
                            "ticks": ""
                          }
                        },
                        "type": "scattergeo"
                      }
                    ],
                    "scattergl": [
                      {
                        "marker": {
                          "colorbar": {
                            "outlinewidth": 0,
                            "ticks": ""
                          }
                        },
                        "type": "scattergl"
                      }
                    ],
                    "scattermapbox": [
                      {
                        "marker": {
                          "colorbar": {
                            "outlinewidth": 0,
                            "ticks": ""
                          }
                        },
                        "type": "scattermapbox"
                      }
                    ],
                    "scatterpolar": [
                      {
                        "marker": {
                          "colorbar": {
                            "outlinewidth": 0,
                            "ticks": ""
                          }
                        },
                        "type": "scatterpolar"
                      }
                    ],
                    "scatterpolargl": [
                      {
                        "marker": {
                          "colorbar": {
                            "outlinewidth": 0,
                            "ticks": ""
                          }
                        },
                        "type": "scatterpolargl"
                      }
                    ],
                    "scatterternary": [
                      {
                        "marker": {
                          "colorbar": {
                            "outlinewidth": 0,
                            "ticks": ""
                          }
                        },
                        "type": "scatterternary"
                      }
                    ],
                    "surface": [
                      {
                        "colorbar": {
                          "outlinewidth": 0,
                          "ticks": ""
                        },
                        "colorscale": [
                          [
                            0,
                            "#0d0887"
                          ],
                          [
                            0.1111111111111111,
                            "#46039f"
                          ],
                          [
                            0.2222222222222222,
                            "#7201a8"
                          ],
                          [
                            0.3333333333333333,
                            "#9c179e"
                          ],
                          [
                            0.4444444444444444,
                            "#bd3786"
                          ],
                          [
                            0.5555555555555556,
                            "#d8576b"
                          ],
                          [
                            0.6666666666666666,
                            "#ed7953"
                          ],
                          [
                            0.7777777777777778,
                            "#fb9f3a"
                          ],
                          [
                            0.8888888888888888,
                            "#fdca26"
                          ],
                          [
                            1,
                            "#f0f921"
                          ]
                        ],
                        "type": "surface"
                      }
                    ],
                    "table": [
                      {
                        "cells": {
                          "fill": {
                            "color": "#EBF0F8"
                          },
                          "line": {
                            "color": "white"
                          }
                        },
                        "header": {
                          "fill": {
                            "color": "#C8D4E3"
                          },
                          "line": {
                            "color": "white"
                          }
                        },
                        "type": "table"
                      }
                    ]
                  },
                  "layout": {
                    "annotationdefaults": {
                      "arrowcolor": "#2a3f5f",
                      "arrowhead": 0,
                      "arrowwidth": 1
                    },
                    "autotypenumbers": "strict",
                    "coloraxis": {
                      "colorbar": {
                        "outlinewidth": 0,
                        "ticks": ""
                      }
                    },
                    "colorscale": {
                      "diverging": [
                        [
                          0,
                          "#8e0152"
                        ],
                        [
                          0.1,
                          "#c51b7d"
                        ],
                        [
                          0.2,
                          "#de77ae"
                        ],
                        [
                          0.3,
                          "#f1b6da"
                        ],
                        [
                          0.4,
                          "#fde0ef"
                        ],
                        [
                          0.5,
                          "#f7f7f7"
                        ],
                        [
                          0.6,
                          "#e6f5d0"
                        ],
                        [
                          0.7,
                          "#b8e186"
                        ],
                        [
                          0.8,
                          "#7fbc41"
                        ],
                        [
                          0.9,
                          "#4d9221"
                        ],
                        [
                          1,
                          "#276419"
                        ]
                      ],
                      "sequential": [
                        [
                          0,
                          "#0d0887"
                        ],
                        [
                          0.1111111111111111,
                          "#46039f"
                        ],
                        [
                          0.2222222222222222,
                          "#7201a8"
                        ],
                        [
                          0.3333333333333333,
                          "#9c179e"
                        ],
                        [
                          0.4444444444444444,
                          "#bd3786"
                        ],
                        [
                          0.5555555555555556,
                          "#d8576b"
                        ],
                        [
                          0.6666666666666666,
                          "#ed7953"
                        ],
                        [
                          0.7777777777777778,
                          "#fb9f3a"
                        ],
                        [
                          0.8888888888888888,
                          "#fdca26"
                        ],
                        [
                          1,
                          "#f0f921"
                        ]
                      ],
                      "sequentialminus": [
                        [
                          0,
                          "#0d0887"
                        ],
                        [
                          0.1111111111111111,
                          "#46039f"
                        ],
                        [
                          0.2222222222222222,
                          "#7201a8"
                        ],
                        [
                          0.3333333333333333,
                          "#9c179e"
                        ],
                        [
                          0.4444444444444444,
                          "#bd3786"
                        ],
                        [
                          0.5555555555555556,
                          "#d8576b"
                        ],
                        [
                          0.6666666666666666,
                          "#ed7953"
                        ],
                        [
                          0.7777777777777778,
                          "#fb9f3a"
                        ],
                        [
                          0.8888888888888888,
                          "#fdca26"
                        ],
                        [
                          1,
                          "#f0f921"
                        ]
                      ]
                    },
                    "colorway": [
                      "#636efa",
                      "#EF553B",
                      "#00cc96",
                      "#ab63fa",
                      "#FFA15A",
                      "#19d3f3",
                      "#FF6692",
                      "#B6E880",
                      "#FF97FF",
                      "#FECB52"
                    ],
                    "font": {
                      "color": "#2a3f5f"
                    },
                    "geo": {
                      "bgcolor": "white",
                      "lakecolor": "white",
                      "landcolor": "#E5ECF6",
                      "showlakes": true,
                      "showland": true,
                      "subunitcolor": "white"
                    },
                    "hoverlabel": {
                      "align": "left"
                    },
                    "hovermode": "closest",
                    "mapbox": {
                      "style": "light"
                    },
                    "paper_bgcolor": "white",
                    "plot_bgcolor": "#E5ECF6",
                    "polar": {
                      "angularaxis": {
                        "gridcolor": "white",
                        "linecolor": "white",
                        "ticks": ""
                      },
                      "bgcolor": "#E5ECF6",
                      "radialaxis": {
                        "gridcolor": "white",
                        "linecolor": "white",
                        "ticks": ""
                      }
                    },
                    "scene": {
                      "xaxis": {
                        "backgroundcolor": "#E5ECF6",
                        "gridcolor": "white",
                        "gridwidth": 2,
                        "linecolor": "white",
                        "showbackground": true,
                        "ticks": "",
                        "zerolinecolor": "white"
                      },
                      "yaxis": {
                        "backgroundcolor": "#E5ECF6",
                        "gridcolor": "white",
                        "gridwidth": 2,
                        "linecolor": "white",
                        "showbackground": true,
                        "ticks": "",
                        "zerolinecolor": "white"
                      },
                      "zaxis": {
                        "backgroundcolor": "#E5ECF6",
                        "gridcolor": "white",
                        "gridwidth": 2,
                        "linecolor": "white",
                        "showbackground": true,
                        "ticks": "",
                        "zerolinecolor": "white"
                      }
                    },
                    "shapedefaults": {
                      "line": {
                        "color": "#2a3f5f"
                      }
                    },
                    "ternary": {
                      "aaxis": {
                        "gridcolor": "white",
                        "linecolor": "white",
                        "ticks": ""
                      },
                      "baxis": {
                        "gridcolor": "white",
                        "linecolor": "white",
                        "ticks": ""
                      },
                      "bgcolor": "#E5ECF6",
                      "caxis": {
                        "gridcolor": "white",
                        "linecolor": "white",
                        "ticks": ""
                      }
                    },
                    "title": {
                      "x": 0.05
                    },
                    "xaxis": {
                      "automargin": true,
                      "gridcolor": "white",
                      "linecolor": "white",
                      "ticks": "",
                      "title": {
                        "standoff": 15
                      },
                      "zerolinecolor": "white",
                      "zerolinewidth": 2
                    },
                    "yaxis": {
                      "automargin": true,
                      "gridcolor": "white",
                      "linecolor": "white",
                      "ticks": "",
                      "title": {
                        "standoff": 15
                      },
                      "zerolinecolor": "white",
                      "zerolinewidth": 2
                    }
                  }
                },
                "title": {
                  "text": "Loan Status Distribution"
                }
              }
            }
          },
          "metadata": {},
          "output_type": "display_data"
        }
      ],
      "source": [
        "fig_pie = px.pie(df, values='Principal', names='loan_status', \n",
        "                 title='Loan Status Distribution', color_discrete_sequence=px.colors.sequential.RdBu)\n",
        "fig_pie.show()"
      ]
    },
    {
      "cell_type": "markdown",
      "metadata": {},
      "source": [
        "### 7. Countplot"
      ]
    },
    {
      "cell_type": "code",
      "execution_count": 31,
      "metadata": {
        "id": "0M6X51G4b3d2"
      },
      "outputs": [
        {
          "data": {
            "text/html": [
              "<div>\n",
              "<style scoped>\n",
              "    .dataframe tbody tr th:only-of-type {\n",
              "        vertical-align: middle;\n",
              "    }\n",
              "\n",
              "    .dataframe tbody tr th {\n",
              "        vertical-align: top;\n",
              "    }\n",
              "\n",
              "    .dataframe thead th {\n",
              "        text-align: right;\n",
              "    }\n",
              "</style>\n",
              "<table border=\"1\" class=\"dataframe\">\n",
              "  <thead>\n",
              "    <tr style=\"text-align: right;\">\n",
              "      <th></th>\n",
              "      <th>Loan_ID</th>\n",
              "      <th>loan_status</th>\n",
              "      <th>Principal</th>\n",
              "      <th>terms</th>\n",
              "      <th>effective_date</th>\n",
              "      <th>due_date</th>\n",
              "      <th>paid_off_time</th>\n",
              "      <th>past_due_days</th>\n",
              "      <th>age</th>\n",
              "      <th>education</th>\n",
              "      <th>Gender</th>\n",
              "    </tr>\n",
              "  </thead>\n",
              "  <tbody>\n",
              "    <tr>\n",
              "      <th>0</th>\n",
              "      <td>xqd20166231</td>\n",
              "      <td>PAIDOFF</td>\n",
              "      <td>1000</td>\n",
              "      <td>30</td>\n",
              "      <td>2016-09-08</td>\n",
              "      <td>2016-10-07</td>\n",
              "      <td>2016-09-14 00:00:00</td>\n",
              "      <td>0.0</td>\n",
              "      <td>45</td>\n",
              "      <td>High School or Below</td>\n",
              "      <td>male</td>\n",
              "    </tr>\n",
              "    <tr>\n",
              "      <th>1</th>\n",
              "      <td>xqd20168902</td>\n",
              "      <td>PAIDOFF</td>\n",
              "      <td>1000</td>\n",
              "      <td>30</td>\n",
              "      <td>2016-09-08</td>\n",
              "      <td>2016-10-07</td>\n",
              "      <td>2016-10-07 00:00:00</td>\n",
              "      <td>0.0</td>\n",
              "      <td>50</td>\n",
              "      <td>Bachelor</td>\n",
              "      <td>female</td>\n",
              "    </tr>\n",
              "    <tr>\n",
              "      <th>2</th>\n",
              "      <td>xqd20160003</td>\n",
              "      <td>PAIDOFF</td>\n",
              "      <td>1000</td>\n",
              "      <td>30</td>\n",
              "      <td>2016-09-08</td>\n",
              "      <td>2016-10-07</td>\n",
              "      <td>2016-09-25 00:00:00</td>\n",
              "      <td>0.0</td>\n",
              "      <td>33</td>\n",
              "      <td>Bachelor</td>\n",
              "      <td>female</td>\n",
              "    </tr>\n",
              "    <tr>\n",
              "      <th>3</th>\n",
              "      <td>xqd20160004</td>\n",
              "      <td>PAIDOFF</td>\n",
              "      <td>1000</td>\n",
              "      <td>15</td>\n",
              "      <td>2016-09-08</td>\n",
              "      <td>2016-09-22</td>\n",
              "      <td>2016-09-22 00:00:00</td>\n",
              "      <td>0.0</td>\n",
              "      <td>27</td>\n",
              "      <td>college</td>\n",
              "      <td>male</td>\n",
              "    </tr>\n",
              "    <tr>\n",
              "      <th>4</th>\n",
              "      <td>xqd20160005</td>\n",
              "      <td>PAIDOFF</td>\n",
              "      <td>1000</td>\n",
              "      <td>30</td>\n",
              "      <td>2016-09-09</td>\n",
              "      <td>2016-10-08</td>\n",
              "      <td>2016-09-23 00:00:00</td>\n",
              "      <td>0.0</td>\n",
              "      <td>28</td>\n",
              "      <td>college</td>\n",
              "      <td>female</td>\n",
              "    </tr>\n",
              "  </tbody>\n",
              "</table>\n",
              "</div>"
            ],
            "text/plain": [
              "       Loan_ID loan_status  Principal  terms effective_date   due_date  \\\n",
              "0  xqd20166231     PAIDOFF       1000     30     2016-09-08 2016-10-07   \n",
              "1  xqd20168902     PAIDOFF       1000     30     2016-09-08 2016-10-07   \n",
              "2  xqd20160003     PAIDOFF       1000     30     2016-09-08 2016-10-07   \n",
              "3  xqd20160004     PAIDOFF       1000     15     2016-09-08 2016-09-22   \n",
              "4  xqd20160005     PAIDOFF       1000     30     2016-09-09 2016-10-08   \n",
              "\n",
              "         paid_off_time  past_due_days  age             education  Gender  \n",
              "0  2016-09-14 00:00:00            0.0   45  High School or Below    male  \n",
              "1  2016-10-07 00:00:00            0.0   50              Bachelor  female  \n",
              "2  2016-09-25 00:00:00            0.0   33              Bachelor  female  \n",
              "3  2016-09-22 00:00:00            0.0   27               college    male  \n",
              "4  2016-09-23 00:00:00            0.0   28               college  female  "
            ]
          },
          "execution_count": 31,
          "metadata": {},
          "output_type": "execute_result"
        }
      ],
      "source": [
        "df.head()"
      ]
    },
    {
      "cell_type": "code",
      "execution_count": null,
      "metadata": {},
      "outputs": [],
      "source": []
    }
  ],
  "metadata": {
    "colab": {
      "provenance": []
    },
    "kernelspec": {
      "display_name": "Python 3",
      "name": "python3"
    },
    "language_info": {
      "codemirror_mode": {
        "name": "ipython",
        "version": 3
      },
      "file_extension": ".py",
      "mimetype": "text/x-python",
      "name": "python",
      "nbconvert_exporter": "python",
      "pygments_lexer": "ipython3",
      "version": "3.10.13"
    }
  },
  "nbformat": 4,
  "nbformat_minor": 0
}
